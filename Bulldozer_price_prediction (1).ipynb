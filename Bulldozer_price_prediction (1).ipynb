{
  "cells": [
    {
      "cell_type": "markdown",
      "source": [
        "Kartik Chaudhari "
      ],
      "metadata": {
        "id": "g51PD61UAS6g"
      }
    },
    {
      "cell_type": "code",
      "execution_count": null,
      "metadata": {
        "colab": {
          "base_uri": "https://localhost:8080/"
        },
        "id": "b5z3QFIHzELY",
        "outputId": "08422b8f-fa62-4f2e-984d-308e6d8796b9"
      },
      "outputs": [
        {
          "name": "stdout",
          "output_type": "stream",
          "text": [
            "--2022-11-09 12:13:00--  https://github.com/mrdbourke/zero-to-mastery-ml/raw/master/data/bluebook-for-bulldozers.zip\n",
            "Resolving github.com (github.com)... 140.82.112.3\n",
            "Connecting to github.com (github.com)|140.82.112.3|:443... connected.\n",
            "HTTP request sent, awaiting response... 302 Found\n",
            "Location: https://raw.githubusercontent.com/mrdbourke/zero-to-mastery-ml/master/data/bluebook-for-bulldozers.zip [following]\n",
            "--2022-11-09 12:13:00--  https://raw.githubusercontent.com/mrdbourke/zero-to-mastery-ml/master/data/bluebook-for-bulldozers.zip\n",
            "Resolving raw.githubusercontent.com (raw.githubusercontent.com)... 185.199.109.133, 185.199.110.133, 185.199.111.133, ...\n",
            "Connecting to raw.githubusercontent.com (raw.githubusercontent.com)|185.199.109.133|:443... connected.\n",
            "HTTP request sent, awaiting response... 200 OK\n",
            "Length: 72077822 (69M) [application/zip]\n",
            "Saving to: ‘bluebook-for-bulldozers.zip’\n",
            "\n",
            "bluebook-for-bulldo 100%[===================>]  68.74M   118MB/s    in 0.6s    \n",
            "\n",
            "2022-11-09 12:13:02 (118 MB/s) - ‘bluebook-for-bulldozers.zip’ saved [72077822/72077822]\n",
            "\n"
          ]
        }
      ],
      "source": [
        "!wget https://github.com/mrdbourke/zero-to-mastery-ml/raw/master/data/bluebook-for-bulldozers.zip # download files from GitHub as zip\n",
        "\n",
        "import os\n",
        "import zipfile\n",
        "\n",
        "local_zip = 'bluebook-for-bulldozers.zip'\n",
        "zip_ref = zipfile.ZipFile(local_zip, 'r')\n",
        "\n",
        "zip_ref.extractall('.') # extract all data into current working directory\n",
        "zip_ref.close()"
      ]
    },
    {
      "cell_type": "code",
      "execution_count": null,
      "metadata": {
        "colab": {
          "base_uri": "https://localhost:8080/"
        },
        "id": "iBMp4hShzpgb",
        "outputId": "0006b464-fc10-4460-8102-73a819836967"
      },
      "outputs": [
        {
          "name": "stdout",
          "output_type": "stream",
          "text": [
            "bluebook-for-bulldozers  bluebook-for-bulldozers.zip  __MACOSX\tsample_data\n"
          ]
        }
      ],
      "source": [
        "!ls"
      ]
    },
    {
      "cell_type": "code",
      "execution_count": null,
      "metadata": {
        "id": "a1BlIE5F1fu2"
      },
      "outputs": [],
      "source": [
        "# !wget https://www.dropbox.com/s/9kjr0ui9qbodfao/dog-breed-identification.zip # download files from Dropbox as zip\n",
        "\n",
        "# import os\n",
        "# import zipfile\n",
        "\n",
        "# local_zip = 'dog-breed-identification.zip'\n",
        "# zip_ref = zipfile.ZipFile(local_zip, 'r')\n",
        "\n",
        "# zip_ref.extractall('Dog Vision') # unzip the files into a file called \"Dog Vision\"\n",
        "# zip_ref.close()"
      ]
    },
    {
      "cell_type": "markdown",
      "metadata": {
        "id": "bZ8c5QvDFuO1"
      },
      "source": [
        "# 🚜 Predicting the sales price of bulldozers using machine learning.\n",
        "\n",
        "## 1. Problem defination\n",
        "> How well can we predict the future selling price of a bulldozer, given its characteristics and previous examples of how similar bulldozers have been soled for?\n",
        "\n",
        "## 2. Data\n",
        "> The data is downloaded from kaggle bluebook for bulldozers competition.\n",
        "\n",
        "There are 3 main datasets:\n",
        "* Train.csv is the training dataset, which contaions data through the end of 2011.\n",
        "\n",
        "* Valid.csv is the validation set, which contains data from Jan 1 , 2012 - April 30, 2012. \n",
        "\n",
        "* Test.csv contains data from May 1, 2012 - Nov 2012\n",
        "\n",
        "## 3. Evaluation\n",
        "> The evaluation metric is the RSMLE (root mean squared log error) between the actual and predicted auction prices.\n",
        "\n",
        "## 4. Features\n",
        " > Read Data Dictionar.xlsx for details about each column."
      ]
    },
    {
      "cell_type": "code",
      "execution_count": null,
      "metadata": {
        "id": "Z9qL8GfY4XGI"
      },
      "outputs": [],
      "source": [
        "import numpy as np\n",
        "import pandas as pd\n",
        "import matplotlib.pyplot as plt\n",
        "import sklearn"
      ]
    },
    {
      "cell_type": "code",
      "execution_count": null,
      "metadata": {
        "colab": {
          "base_uri": "https://localhost:8080/"
        },
        "id": "-v70DCtnLC-v",
        "outputId": "f47a607e-25cd-4528-ea76-e60e39182a71"
      },
      "outputs": [
        {
          "name": "stderr",
          "output_type": "stream",
          "text": [
            "/usr/local/lib/python3.7/dist-packages/IPython/core/interactiveshell.py:3326: DtypeWarning: Columns (13,39,40,41) have mixed types.Specify dtype option on import or set low_memory=False.\n",
            "  exec(code_obj, self.user_global_ns, self.user_ns)\n"
          ]
        }
      ],
      "source": [
        "# Importing training and validation sets\n",
        "df = pd.read_csv(\"bluebook-for-bulldozers/TrainAndValid.csv\")"
      ]
    },
    {
      "cell_type": "code",
      "execution_count": null,
      "metadata": {
        "colab": {
          "base_uri": "https://localhost:8080/"
        },
        "id": "0t25XCbLLV4p",
        "outputId": "6dac3fe2-629c-4fdc-d05a-0074fa58075b"
      },
      "outputs": [
        {
          "name": "stdout",
          "output_type": "stream",
          "text": [
            "<class 'pandas.core.frame.DataFrame'>\n",
            "RangeIndex: 412698 entries, 0 to 412697\n",
            "Data columns (total 53 columns):\n",
            " #   Column                    Non-Null Count   Dtype  \n",
            "---  ------                    --------------   -----  \n",
            " 0   SalesID                   412698 non-null  int64  \n",
            " 1   SalePrice                 412698 non-null  float64\n",
            " 2   MachineID                 412698 non-null  int64  \n",
            " 3   ModelID                   412698 non-null  int64  \n",
            " 4   datasource                412698 non-null  int64  \n",
            " 5   auctioneerID              392562 non-null  float64\n",
            " 6   YearMade                  412698 non-null  int64  \n",
            " 7   MachineHoursCurrentMeter  147504 non-null  float64\n",
            " 8   UsageBand                 73670 non-null   object \n",
            " 9   saledate                  412698 non-null  object \n",
            " 10  fiModelDesc               412698 non-null  object \n",
            " 11  fiBaseModel               412698 non-null  object \n",
            " 12  fiSecondaryDesc           271971 non-null  object \n",
            " 13  fiModelSeries             58667 non-null   object \n",
            " 14  fiModelDescriptor         74816 non-null   object \n",
            " 15  ProductSize               196093 non-null  object \n",
            " 16  fiProductClassDesc        412698 non-null  object \n",
            " 17  state                     412698 non-null  object \n",
            " 18  ProductGroup              412698 non-null  object \n",
            " 19  ProductGroupDesc          412698 non-null  object \n",
            " 20  Drive_System              107087 non-null  object \n",
            " 21  Enclosure                 412364 non-null  object \n",
            " 22  Forks                     197715 non-null  object \n",
            " 23  Pad_Type                  81096 non-null   object \n",
            " 24  Ride_Control              152728 non-null  object \n",
            " 25  Stick                     81096 non-null   object \n",
            " 26  Transmission              188007 non-null  object \n",
            " 27  Turbocharged              81096 non-null   object \n",
            " 28  Blade_Extension           25983 non-null   object \n",
            " 29  Blade_Width               25983 non-null   object \n",
            " 30  Enclosure_Type            25983 non-null   object \n",
            " 31  Engine_Horsepower         25983 non-null   object \n",
            " 32  Hydraulics                330133 non-null  object \n",
            " 33  Pushblock                 25983 non-null   object \n",
            " 34  Ripper                    106945 non-null  object \n",
            " 35  Scarifier                 25994 non-null   object \n",
            " 36  Tip_Control               25983 non-null   object \n",
            " 37  Tire_Size                 97638 non-null   object \n",
            " 38  Coupler                   220679 non-null  object \n",
            " 39  Coupler_System            44974 non-null   object \n",
            " 40  Grouser_Tracks            44875 non-null   object \n",
            " 41  Hydraulics_Flow           44875 non-null   object \n",
            " 42  Track_Type                102193 non-null  object \n",
            " 43  Undercarriage_Pad_Width   102916 non-null  object \n",
            " 44  Stick_Length              102261 non-null  object \n",
            " 45  Thumb                     102332 non-null  object \n",
            " 46  Pattern_Changer           102261 non-null  object \n",
            " 47  Grouser_Type              102193 non-null  object \n",
            " 48  Backhoe_Mounting          80712 non-null   object \n",
            " 49  Blade_Type                81875 non-null   object \n",
            " 50  Travel_Controls           81877 non-null   object \n",
            " 51  Differential_Type         71564 non-null   object \n",
            " 52  Steering_Controls         71522 non-null   object \n",
            "dtypes: float64(3), int64(5), object(45)\n",
            "memory usage: 166.9+ MB\n"
          ]
        }
      ],
      "source": [
        "df.info()"
      ]
    },
    {
      "cell_type": "code",
      "execution_count": null,
      "metadata": {
        "colab": {
          "base_uri": "https://localhost:8080/"
        },
        "id": "tFKdhqnsL-bM",
        "outputId": "007b5bc5-6684-45c8-801c-6b83435efe23"
      },
      "outputs": [
        {
          "data": {
            "text/plain": [
              "SalesID                          0\n",
              "SalePrice                        0\n",
              "MachineID                        0\n",
              "ModelID                          0\n",
              "datasource                       0\n",
              "auctioneerID                 20136\n",
              "YearMade                         0\n",
              "MachineHoursCurrentMeter    265194\n",
              "UsageBand                   339028\n",
              "saledate                         0\n",
              "fiModelDesc                      0\n",
              "fiBaseModel                      0\n",
              "fiSecondaryDesc             140727\n",
              "fiModelSeries               354031\n",
              "fiModelDescriptor           337882\n",
              "ProductSize                 216605\n",
              "fiProductClassDesc               0\n",
              "state                            0\n",
              "ProductGroup                     0\n",
              "ProductGroupDesc                 0\n",
              "Drive_System                305611\n",
              "Enclosure                      334\n",
              "Forks                       214983\n",
              "Pad_Type                    331602\n",
              "Ride_Control                259970\n",
              "Stick                       331602\n",
              "Transmission                224691\n",
              "Turbocharged                331602\n",
              "Blade_Extension             386715\n",
              "Blade_Width                 386715\n",
              "Enclosure_Type              386715\n",
              "Engine_Horsepower           386715\n",
              "Hydraulics                   82565\n",
              "Pushblock                   386715\n",
              "Ripper                      305753\n",
              "Scarifier                   386704\n",
              "Tip_Control                 386715\n",
              "Tire_Size                   315060\n",
              "Coupler                     192019\n",
              "Coupler_System              367724\n",
              "Grouser_Tracks              367823\n",
              "Hydraulics_Flow             367823\n",
              "Track_Type                  310505\n",
              "Undercarriage_Pad_Width     309782\n",
              "Stick_Length                310437\n",
              "Thumb                       310366\n",
              "Pattern_Changer             310437\n",
              "Grouser_Type                310505\n",
              "Backhoe_Mounting            331986\n",
              "Blade_Type                  330823\n",
              "Travel_Controls             330821\n",
              "Differential_Type           341134\n",
              "Steering_Controls           341176\n",
              "dtype: int64"
            ]
          },
          "execution_count": 7,
          "metadata": {},
          "output_type": "execute_result"
        }
      ],
      "source": [
        "df.isna().sum()"
      ]
    },
    {
      "cell_type": "code",
      "execution_count": null,
      "metadata": {
        "colab": {
          "base_uri": "https://localhost:8080/",
          "height": 282
        },
        "id": "0ysGPcoKLd_W",
        "outputId": "03ea6b5b-b926-4855-b060-48acc7967b5b"
      },
      "outputs": [
        {
          "data": {
            "text/plain": [
              "<matplotlib.collections.PathCollection at 0x7f7bfc57e690>"
            ]
          },
          "execution_count": 8,
          "metadata": {},
          "output_type": "execute_result"
        },
        {
          "data": {
            "image/png": "[encoded data removed]",
            "text/plain": [
              "<Figure size 432x288 with 1 Axes>"
            ]
          },
          "metadata": {},
          "output_type": "display_data"
        }
      ],
      "source": [
        "fig, ax = plt.subplots()\n",
        "ax.scatter(df['saledate'][:1000], df['SalePrice'][:1000])"
      ]
    },
    {
      "cell_type": "code",
      "execution_count": null,
      "metadata": {
        "colab": {
          "base_uri": "https://localhost:8080/",
          "height": 282
        },
        "id": "ME2Al1yJMSqt",
        "outputId": "ba4078df-3a6c-4d0d-b604-2f7a937bf65b"
      },
      "outputs": [
        {
          "data": {
            "text/plain": [
              "<matplotlib.axes._subplots.AxesSubplot at 0x7f7bfb5abfd0>"
            ]
          },
          "execution_count": 9,
          "metadata": {},
          "output_type": "execute_result"
        },
        {
          "data": {
            "image/png": "[encoded data removed]",
            "text/plain": [
              "<Figure size 432x288 with 1 Axes>"
            ]
          },
          "metadata": {},
          "output_type": "display_data"
        }
      ],
      "source": [
        "df.SalePrice.plot.hist()"
      ]
    },
    {
      "cell_type": "markdown",
      "metadata": {
        "id": "flOL8DhSMc7e"
      },
      "source": [
        "### Parsing dates\n",
        "When we work with time series data, we want to enrich the time & date component as much as possible."
      ]
    },
    {
      "cell_type": "code",
      "execution_count": null,
      "metadata": {
        "id": "lT8HTvv2M_5P"
      },
      "outputs": [],
      "source": [
        "df = pd.read_csv('bluebook-for-bulldozers/TrainAndValid.csv', parse_dates=['saledate'])"
      ]
    },
    {
      "cell_type": "code",
      "execution_count": null,
      "metadata": {
        "colab": {
          "base_uri": "https://localhost:8080/"
        },
        "id": "3qUNxjQHNOn-",
        "outputId": "70eccbc7-ca5a-427a-fb6d-d5bd6e90a82a"
      },
      "outputs": [
        {
          "data": {
            "text/plain": [
              "0   2006-11-16\n",
              "1   2004-03-26\n",
              "2   2004-02-26\n",
              "3   2011-05-19\n",
              "4   2009-07-23\n",
              "5   2008-12-18\n",
              "6   2004-08-26\n",
              "7   2005-11-17\n",
              "8   2009-08-27\n",
              "9   2007-08-09\n",
              "Name: saledate, dtype: datetime64[ns]"
            ]
          },
          "execution_count": 11,
          "metadata": {},
          "output_type": "execute_result"
        }
      ],
      "source": [
        "df.saledate[:10]"
      ]
    },
    {
      "cell_type": "code",
      "execution_count": null,
      "metadata": {
        "colab": {
          "base_uri": "https://localhost:8080/",
          "height": 282
        },
        "id": "YwSN79MJNSDx",
        "outputId": "20dc49f6-b8a5-4d6f-89d4-fb866d68b3ee"
      },
      "outputs": [
        {
          "data": {
            "text/plain": [
              "<matplotlib.collections.PathCollection at 0x7f7bfb30d6d0>"
            ]
          },
          "execution_count": 12,
          "metadata": {},
          "output_type": "execute_result"
        },
        {
          "data": {
            "image/png": "[encoded data removed]",
            "text/plain": [
              "<Figure size 432x288 with 1 Axes>"
            ]
          },
          "metadata": {},
          "output_type": "display_data"
        }
      ],
      "source": [
        "fig, ax = plt.subplots()\n",
        "ax.scatter(df['saledate'][:1000], df['SalePrice'][:1000])"
      ]
    },
    {
      "cell_type": "markdown",
      "metadata": {
        "id": "bJstzJKVNskN"
      },
      "source": [
        "### Sort DataFrame by salesdate\n",
        "> when working with time series data, it is good idea to sort data according to date."
      ]
    },
    {
      "cell_type": "code",
      "execution_count": null,
      "metadata": {
        "id": "v4XMasCePHr7"
      },
      "outputs": [],
      "source": [
        "df.sort_values(by=['saledate'], inplace=True, ascending=True)"
      ]
    },
    {
      "cell_type": "code",
      "execution_count": null,
      "metadata": {
        "colab": {
          "base_uri": "https://localhost:8080/",
          "height": 386
        },
        "id": "NlmCNo39PbKw",
        "outputId": "ea078703-bb7e-4b7a-d986-004da6d9d729"
      },
      "outputs": [
        {
          "data": {
            "text/html": [
              "\n",
              "  <div id=\"df-af383ac1-1959-43dd-9004-1abcad7e542d\">\n",
              "    <div class=\"colab-df-container\">\n",
              "      <div>\n",
              "<style scoped>\n",
              "    .dataframe tbody tr th:only-of-type {\n",
              "        vertical-align: middle;\n",
              "    }\n",
              "\n",
              "    .dataframe tbody tr th {\n",
              "        vertical-align: top;\n",
              "    }\n",
              "\n",
              "    .dataframe thead th {\n",
              "        text-align: right;\n",
              "    }\n",
              "</style>\n",
              "<table border=\"1\" class=\"dataframe\">\n",
              "  <thead>\n",
              "    <tr style=\"text-align: right;\">\n",
              "      <th></th>\n",
              "      <th>SalesID</th>\n",
              "      <th>SalePrice</th>\n",
              "      <th>MachineID</th>\n",
              "      <th>ModelID</th>\n",
              "      <th>datasource</th>\n",
              "      <th>auctioneerID</th>\n",
              "      <th>YearMade</th>\n",
              "      <th>MachineHoursCurrentMeter</th>\n",
              "      <th>UsageBand</th>\n",
              "      <th>saledate</th>\n",
              "      <th>...</th>\n",
              "      <th>Undercarriage_Pad_Width</th>\n",
              "      <th>Stick_Length</th>\n",
              "      <th>Thumb</th>\n",
              "      <th>Pattern_Changer</th>\n",
              "      <th>Grouser_Type</th>\n",
              "      <th>Backhoe_Mounting</th>\n",
              "      <th>Blade_Type</th>\n",
              "      <th>Travel_Controls</th>\n",
              "      <th>Differential_Type</th>\n",
              "      <th>Steering_Controls</th>\n",
              "    </tr>\n",
              "  </thead>\n",
              "  <tbody>\n",
              "    <tr>\n",
              "      <th>205615</th>\n",
              "      <td>1646770</td>\n",
              "      <td>9500.0</td>\n",
              "      <td>1126363</td>\n",
              "      <td>8434</td>\n",
              "      <td>132</td>\n",
              "      <td>18.0</td>\n",
              "      <td>1974</td>\n",
              "      <td>NaN</td>\n",
              "      <td>NaN</td>\n",
              "      <td>1989-01-17</td>\n",
              "      <td>...</td>\n",
              "      <td>NaN</td>\n",
              "      <td>NaN</td>\n",
              "      <td>NaN</td>\n",
              "      <td>NaN</td>\n",
              "      <td>NaN</td>\n",
              "      <td>None or Unspecified</td>\n",
              "      <td>Straight</td>\n",
              "      <td>None or Unspecified</td>\n",
              "      <td>NaN</td>\n",
              "      <td>NaN</td>\n",
              "    </tr>\n",
              "    <tr>\n",
              "      <th>274835</th>\n",
              "      <td>1821514</td>\n",
              "      <td>14000.0</td>\n",
              "      <td>1194089</td>\n",
              "      <td>10150</td>\n",
              "      <td>132</td>\n",
              "      <td>99.0</td>\n",
              "      <td>1980</td>\n",
              "      <td>NaN</td>\n",
              "      <td>NaN</td>\n",
              "      <td>1989-01-31</td>\n",
              "      <td>...</td>\n",
              "      <td>NaN</td>\n",
              "      <td>NaN</td>\n",
              "      <td>NaN</td>\n",
              "      <td>NaN</td>\n",
              "      <td>NaN</td>\n",
              "      <td>NaN</td>\n",
              "      <td>NaN</td>\n",
              "      <td>NaN</td>\n",
              "      <td>Standard</td>\n",
              "      <td>Conventional</td>\n",
              "    </tr>\n",
              "    <tr>\n",
              "      <th>141296</th>\n",
              "      <td>1505138</td>\n",
              "      <td>50000.0</td>\n",
              "      <td>1473654</td>\n",
              "      <td>4139</td>\n",
              "      <td>132</td>\n",
              "      <td>99.0</td>\n",
              "      <td>1978</td>\n",
              "      <td>NaN</td>\n",
              "      <td>NaN</td>\n",
              "      <td>1989-01-31</td>\n",
              "      <td>...</td>\n",
              "      <td>NaN</td>\n",
              "      <td>NaN</td>\n",
              "      <td>NaN</td>\n",
              "      <td>NaN</td>\n",
              "      <td>NaN</td>\n",
              "      <td>None or Unspecified</td>\n",
              "      <td>Straight</td>\n",
              "      <td>None or Unspecified</td>\n",
              "      <td>NaN</td>\n",
              "      <td>NaN</td>\n",
              "    </tr>\n",
              "    <tr>\n",
              "      <th>212552</th>\n",
              "      <td>1671174</td>\n",
              "      <td>16000.0</td>\n",
              "      <td>1327630</td>\n",
              "      <td>8591</td>\n",
              "      <td>132</td>\n",
              "      <td>99.0</td>\n",
              "      <td>1980</td>\n",
              "      <td>NaN</td>\n",
              "      <td>NaN</td>\n",
              "      <td>1989-01-31</td>\n",
              "      <td>...</td>\n",
              "      <td>NaN</td>\n",
              "      <td>NaN</td>\n",
              "      <td>NaN</td>\n",
              "      <td>NaN</td>\n",
              "      <td>NaN</td>\n",
              "      <td>NaN</td>\n",
              "      <td>NaN</td>\n",
              "      <td>NaN</td>\n",
              "      <td>Standard</td>\n",
              "      <td>Conventional</td>\n",
              "    </tr>\n",
              "    <tr>\n",
              "      <th>62755</th>\n",
              "      <td>1329056</td>\n",
              "      <td>22000.0</td>\n",
              "      <td>1336053</td>\n",
              "      <td>4089</td>\n",
              "      <td>132</td>\n",
              "      <td>99.0</td>\n",
              "      <td>1984</td>\n",
              "      <td>NaN</td>\n",
              "      <td>NaN</td>\n",
              "      <td>1989-01-31</td>\n",
              "      <td>...</td>\n",
              "      <td>NaN</td>\n",
              "      <td>NaN</td>\n",
              "      <td>NaN</td>\n",
              "      <td>NaN</td>\n",
              "      <td>NaN</td>\n",
              "      <td>None or Unspecified</td>\n",
              "      <td>PAT</td>\n",
              "      <td>Lever</td>\n",
              "      <td>NaN</td>\n",
              "      <td>NaN</td>\n",
              "    </tr>\n",
              "  </tbody>\n",
              "</table>\n",
              "<p>5 rows × 53 columns</p>\n",
              "</div>\n",
              "      <button class=\"colab-df-convert\" onclick=\"convertToInteractive('df-af383ac1-1959-43dd-9004-1abcad7e542d')\"\n",
              "              title=\"Convert this dataframe to an interactive table.\"\n",
              "              style=\"display:none;\">\n",
              "        \n",
              "  <svg xmlns=\"http://www.w3.org/2000/svg\" height=\"24px\"viewBox=\"0 0 24 24\"\n",
              "       width=\"24px\">\n",
              "    <path d=\"M0 0h24v24H0V0z\" fill=\"none\"/>\n",
              "    <path d=\"M18.56 5.44l.94 2.06.94-2.06 2.06-.94-2.06-.94-.94-2.06-.94 2.06-2.06.94zm-11 1L8.5 8.5l.94-2.06 2.06-.94-2.06-.94L8.5 2.5l-.94 2.06-2.06.94zm10 10l.94 2.06.94-2.06 2.06-.94-2.06-.94-.94-2.06-.94 2.06-2.06.94z\"/><path d=\"M17.41 7.96l-1.37-1.37c-.4-.4-.92-.59-1.43-.59-.52 0-1.04.2-1.43.59L10.3 9.45l-7.72 7.72c-.78.78-.78 2.05 0 2.83L4 21.41c.39.39.9.59 1.41.59.51 0 1.02-.2 1.41-.59l7.78-7.78 2.81-2.81c.8-.78.8-2.07 0-2.86zM5.41 20L4 18.59l7.72-7.72 1.47 1.35L5.41 20z\"/>\n",
              "  </svg>\n",
              "      </button>\n",
              "      \n",
              "  <style>\n",
              "    .colab-df-container {\n",
              "      display:flex;\n",
              "      flex-wrap:wrap;\n",
              "      gap: 12px;\n",
              "    }\n",
              "\n",
              "    .colab-df-convert {\n",
              "      background-color: #E8F0FE;\n",
              "      border: none;\n",
              "      border-radius: 50%;\n",
              "      cursor: pointer;\n",
              "      display: none;\n",
              "      fill: #1967D2;\n",
              "      height: 32px;\n",
              "      padding: 0 0 0 0;\n",
              "      width: 32px;\n",
              "    }\n",
              "\n",
              "    .colab-df-convert:hover {\n",
              "      background-color: #E2EBFA;\n",
              "      box-shadow: 0px 1px 2px rgba(60, 64, 67, 0.3), 0px 1px 3px 1px rgba(60, 64, 67, 0.15);\n",
              "      fill: #174EA6;\n",
              "    }\n",
              "\n",
              "    [theme=dark] .colab-df-convert {\n",
              "      background-color: #3B4455;\n",
              "      fill: #D2E3FC;\n",
              "    }\n",
              "\n",
              "    [theme=dark] .colab-df-convert:hover {\n",
              "      background-color: #434B5C;\n",
              "      box-shadow: 0px 1px 3px 1px rgba(0, 0, 0, 0.15);\n",
              "      filter: drop-shadow(0px 1px 2px rgba(0, 0, 0, 0.3));\n",
              "      fill: #FFFFFF;\n",
              "    }\n",
              "  </style>\n",
              "\n",
              "      <script>\n",
              "        const buttonEl =\n",
              "          document.querySelector('#df-af383ac1-1959-43dd-9004-1abcad7e542d button.colab-df-convert');\n",
              "        buttonEl.style.display =\n",
              "          google.colab.kernel.accessAllowed ? 'block' : 'none';\n",
              "\n",
              "        async function convertToInteractive(key) {\n",
              "          const element = document.querySelector('#df-af383ac1-1959-43dd-9004-1abcad7e542d');\n",
              "          const dataTable =\n",
              "            await google.colab.kernel.invokeFunction('convertToInteractive',\n",
              "                                                     [key], {});\n",
              "          if (!dataTable) return;\n",
              "\n",
              "          const docLinkHtml = 'Like what you see? Visit the ' +\n",
              "            '<a target=\"_blank\" href=https://colab.research.google.com/notebooks/data_table.ipynb>data table notebook</a>'\n",
              "            + ' to learn more about interactive tables.';\n",
              "          element.innerHTML = '';\n",
              "          dataTable['output_type'] = 'display_data';\n",
              "          await google.colab.output.renderOutput(dataTable, element);\n",
              "          const docLink = document.createElement('div');\n",
              "          docLink.innerHTML = docLinkHtml;\n",
              "          element.appendChild(docLink);\n",
              "        }\n",
              "      </script>\n",
              "    </div>\n",
              "  </div>\n",
              "  "
            ],
            "text/plain": [
              "        SalesID  SalePrice  MachineID  ModelID  datasource  auctioneerID  \\\n",
              "205615  1646770     9500.0    1126363     8434         132          18.0   \n",
              "274835  1821514    14000.0    1194089    10150         132          99.0   \n",
              "141296  1505138    50000.0    1473654     4139         132          99.0   \n",
              "212552  1671174    16000.0    1327630     8591         132          99.0   \n",
              "62755   1329056    22000.0    1336053     4089         132          99.0   \n",
              "\n",
              "        YearMade  MachineHoursCurrentMeter UsageBand   saledate  ...  \\\n",
              "205615      1974                       NaN       NaN 1989-01-17  ...   \n",
              "274835      1980                       NaN       NaN 1989-01-31  ...   \n",
              "141296      1978                       NaN       NaN 1989-01-31  ...   \n",
              "212552      1980                       NaN       NaN 1989-01-31  ...   \n",
              "62755       1984                       NaN       NaN 1989-01-31  ...   \n",
              "\n",
              "       Undercarriage_Pad_Width Stick_Length Thumb Pattern_Changer  \\\n",
              "205615                     NaN          NaN   NaN             NaN   \n",
              "274835                     NaN          NaN   NaN             NaN   \n",
              "141296                     NaN          NaN   NaN             NaN   \n",
              "212552                     NaN          NaN   NaN             NaN   \n",
              "62755                      NaN          NaN   NaN             NaN   \n",
              "\n",
              "       Grouser_Type     Backhoe_Mounting Blade_Type      Travel_Controls  \\\n",
              "205615          NaN  None or Unspecified   Straight  None or Unspecified   \n",
              "274835          NaN                  NaN        NaN                  NaN   \n",
              "141296          NaN  None or Unspecified   Straight  None or Unspecified   \n",
              "212552          NaN                  NaN        NaN                  NaN   \n",
              "62755           NaN  None or Unspecified        PAT                Lever   \n",
              "\n",
              "       Differential_Type Steering_Controls  \n",
              "205615               NaN               NaN  \n",
              "274835          Standard      Conventional  \n",
              "141296               NaN               NaN  \n",
              "212552          Standard      Conventional  \n",
              "62755                NaN               NaN  \n",
              "\n",
              "[5 rows x 53 columns]"
            ]
          },
          "execution_count": 14,
          "metadata": {},
          "output_type": "execute_result"
        }
      ],
      "source": [
        "df.head()"
      ]
    },
    {
      "cell_type": "markdown",
      "metadata": {
        "id": "W6ZIBYGuPb8X"
      },
      "source": [
        "### Make a copy of the original DataFrame"
      ]
    },
    {
      "cell_type": "code",
      "execution_count": null,
      "metadata": {
        "id": "p8gnBzz7QIcf"
      },
      "outputs": [],
      "source": [
        "df_temp = df.copy()"
      ]
    },
    {
      "cell_type": "markdown",
      "metadata": {
        "id": "6E4gLhbTQONe"
      },
      "source": [
        "### Add datetime parameters for `saledate` column"
      ]
    },
    {
      "cell_type": "code",
      "execution_count": null,
      "metadata": {
        "id": "zYDyHVAbRNes"
      },
      "outputs": [],
      "source": [
        "df_temp['saleYear'] = df_temp.saledate.dt.year\n",
        "df_temp['saleMonth'] = df_temp.saledate.dt.month\n",
        "df_temp['saleDay'] = df_temp.saledate.dt.day\n",
        "df_temp['saleDayOfWeek'] = df_temp.saledate.dt.dayofweek\n",
        "df_temp['saleDayOfYear'] = df_temp.saledate.dt.dayofyear"
      ]
    },
    {
      "cell_type": "code",
      "execution_count": null,
      "metadata": {
        "colab": {
          "base_uri": "https://localhost:8080/",
          "height": 386
        },
        "id": "JYBJrJ5bVHxv",
        "outputId": "0f71486d-6397-45fe-eddc-316c0fd639e5"
      },
      "outputs": [
        {
          "data": {
            "text/html": [
              "\n",
              "  <div id=\"df-8ce24276-a17c-4d4a-a4a9-dca00d5413fa\">\n",
              "    <div class=\"colab-df-container\">\n",
              "      <div>\n",
              "<style scoped>\n",
              "    .dataframe tbody tr th:only-of-type {\n",
              "        vertical-align: middle;\n",
              "    }\n",
              "\n",
              "    .dataframe tbody tr th {\n",
              "        vertical-align: top;\n",
              "    }\n",
              "\n",
              "    .dataframe thead th {\n",
              "        text-align: right;\n",
              "    }\n",
              "</style>\n",
              "<table border=\"1\" class=\"dataframe\">\n",
              "  <thead>\n",
              "    <tr style=\"text-align: right;\">\n",
              "      <th></th>\n",
              "      <th>SalesID</th>\n",
              "      <th>SalePrice</th>\n",
              "      <th>MachineID</th>\n",
              "      <th>ModelID</th>\n",
              "      <th>datasource</th>\n",
              "      <th>auctioneerID</th>\n",
              "      <th>YearMade</th>\n",
              "      <th>MachineHoursCurrentMeter</th>\n",
              "      <th>UsageBand</th>\n",
              "      <th>saledate</th>\n",
              "      <th>...</th>\n",
              "      <th>Backhoe_Mounting</th>\n",
              "      <th>Blade_Type</th>\n",
              "      <th>Travel_Controls</th>\n",
              "      <th>Differential_Type</th>\n",
              "      <th>Steering_Controls</th>\n",
              "      <th>saleYear</th>\n",
              "      <th>saleMonth</th>\n",
              "      <th>saleDay</th>\n",
              "      <th>saleDayOfWeek</th>\n",
              "      <th>saleDayOfYear</th>\n",
              "    </tr>\n",
              "  </thead>\n",
              "  <tbody>\n",
              "    <tr>\n",
              "      <th>205615</th>\n",
              "      <td>1646770</td>\n",
              "      <td>9500.0</td>\n",
              "      <td>1126363</td>\n",
              "      <td>8434</td>\n",
              "      <td>132</td>\n",
              "      <td>18.0</td>\n",
              "      <td>1974</td>\n",
              "      <td>NaN</td>\n",
              "      <td>NaN</td>\n",
              "      <td>1989-01-17</td>\n",
              "      <td>...</td>\n",
              "      <td>None or Unspecified</td>\n",
              "      <td>Straight</td>\n",
              "      <td>None or Unspecified</td>\n",
              "      <td>NaN</td>\n",
              "      <td>NaN</td>\n",
              "      <td>1989</td>\n",
              "      <td>1</td>\n",
              "      <td>17</td>\n",
              "      <td>1</td>\n",
              "      <td>17</td>\n",
              "    </tr>\n",
              "    <tr>\n",
              "      <th>274835</th>\n",
              "      <td>1821514</td>\n",
              "      <td>14000.0</td>\n",
              "      <td>1194089</td>\n",
              "      <td>10150</td>\n",
              "      <td>132</td>\n",
              "      <td>99.0</td>\n",
              "      <td>1980</td>\n",
              "      <td>NaN</td>\n",
              "      <td>NaN</td>\n",
              "      <td>1989-01-31</td>\n",
              "      <td>...</td>\n",
              "      <td>NaN</td>\n",
              "      <td>NaN</td>\n",
              "      <td>NaN</td>\n",
              "      <td>Standard</td>\n",
              "      <td>Conventional</td>\n",
              "      <td>1989</td>\n",
              "      <td>1</td>\n",
              "      <td>31</td>\n",
              "      <td>1</td>\n",
              "      <td>31</td>\n",
              "    </tr>\n",
              "    <tr>\n",
              "      <th>141296</th>\n",
              "      <td>1505138</td>\n",
              "      <td>50000.0</td>\n",
              "      <td>1473654</td>\n",
              "      <td>4139</td>\n",
              "      <td>132</td>\n",
              "      <td>99.0</td>\n",
              "      <td>1978</td>\n",
              "      <td>NaN</td>\n",
              "      <td>NaN</td>\n",
              "      <td>1989-01-31</td>\n",
              "      <td>...</td>\n",
              "      <td>None or Unspecified</td>\n",
              "      <td>Straight</td>\n",
              "      <td>None or Unspecified</td>\n",
              "      <td>NaN</td>\n",
              "      <td>NaN</td>\n",
              "      <td>1989</td>\n",
              "      <td>1</td>\n",
              "      <td>31</td>\n",
              "      <td>1</td>\n",
              "      <td>31</td>\n",
              "    </tr>\n",
              "    <tr>\n",
              "      <th>212552</th>\n",
              "      <td>1671174</td>\n",
              "      <td>16000.0</td>\n",
              "      <td>1327630</td>\n",
              "      <td>8591</td>\n",
              "      <td>132</td>\n",
              "      <td>99.0</td>\n",
              "      <td>1980</td>\n",
              "      <td>NaN</td>\n",
              "      <td>NaN</td>\n",
              "      <td>1989-01-31</td>\n",
              "      <td>...</td>\n",
              "      <td>NaN</td>\n",
              "      <td>NaN</td>\n",
              "      <td>NaN</td>\n",
              "      <td>Standard</td>\n",
              "      <td>Conventional</td>\n",
              "      <td>1989</td>\n",
              "      <td>1</td>\n",
              "      <td>31</td>\n",
              "      <td>1</td>\n",
              "      <td>31</td>\n",
              "    </tr>\n",
              "    <tr>\n",
              "      <th>62755</th>\n",
              "      <td>1329056</td>\n",
              "      <td>22000.0</td>\n",
              "      <td>1336053</td>\n",
              "      <td>4089</td>\n",
              "      <td>132</td>\n",
              "      <td>99.0</td>\n",
              "      <td>1984</td>\n",
              "      <td>NaN</td>\n",
              "      <td>NaN</td>\n",
              "      <td>1989-01-31</td>\n",
              "      <td>...</td>\n",
              "      <td>None or Unspecified</td>\n",
              "      <td>PAT</td>\n",
              "      <td>Lever</td>\n",
              "      <td>NaN</td>\n",
              "      <td>NaN</td>\n",
              "      <td>1989</td>\n",
              "      <td>1</td>\n",
              "      <td>31</td>\n",
              "      <td>1</td>\n",
              "      <td>31</td>\n",
              "    </tr>\n",
              "  </tbody>\n",
              "</table>\n",
              "<p>5 rows × 58 columns</p>\n",
              "</div>\n",
              "      <button class=\"colab-df-convert\" onclick=\"convertToInteractive('df-8ce24276-a17c-4d4a-a4a9-dca00d5413fa')\"\n",
              "              title=\"Convert this dataframe to an interactive table.\"\n",
              "              style=\"display:none;\">\n",
              "        \n",
              "  <svg xmlns=\"http://www.w3.org/2000/svg\" height=\"24px\"viewBox=\"0 0 24 24\"\n",
              "       width=\"24px\">\n",
              "    <path d=\"M0 0h24v24H0V0z\" fill=\"none\"/>\n",
              "    <path d=\"M18.56 5.44l.94 2.06.94-2.06 2.06-.94-2.06-.94-.94-2.06-.94 2.06-2.06.94zm-11 1L8.5 8.5l.94-2.06 2.06-.94-2.06-.94L8.5 2.5l-.94 2.06-2.06.94zm10 10l.94 2.06.94-2.06 2.06-.94-2.06-.94-.94-2.06-.94 2.06-2.06.94z\"/><path d=\"M17.41 7.96l-1.37-1.37c-.4-.4-.92-.59-1.43-.59-.52 0-1.04.2-1.43.59L10.3 9.45l-7.72 7.72c-.78.78-.78 2.05 0 2.83L4 21.41c.39.39.9.59 1.41.59.51 0 1.02-.2 1.41-.59l7.78-7.78 2.81-2.81c.8-.78.8-2.07 0-2.86zM5.41 20L4 18.59l7.72-7.72 1.47 1.35L5.41 20z\"/>\n",
              "  </svg>\n",
              "      </button>\n",
              "      \n",
              "  <style>\n",
              "    .colab-df-container {\n",
              "      display:flex;\n",
              "      flex-wrap:wrap;\n",
              "      gap: 12px;\n",
              "    }\n",
              "\n",
              "    .colab-df-convert {\n",
              "      background-color: #E8F0FE;\n",
              "      border: none;\n",
              "      border-radius: 50%;\n",
              "      cursor: pointer;\n",
              "      display: none;\n",
              "      fill: #1967D2;\n",
              "      height: 32px;\n",
              "      padding: 0 0 0 0;\n",
              "      width: 32px;\n",
              "    }\n",
              "\n",
              "    .colab-df-convert:hover {\n",
              "      background-color: #E2EBFA;\n",
              "      box-shadow: 0px 1px 2px rgba(60, 64, 67, 0.3), 0px 1px 3px 1px rgba(60, 64, 67, 0.15);\n",
              "      fill: #174EA6;\n",
              "    }\n",
              "\n",
              "    [theme=dark] .colab-df-convert {\n",
              "      background-color: #3B4455;\n",
              "      fill: #D2E3FC;\n",
              "    }\n",
              "\n",
              "    [theme=dark] .colab-df-convert:hover {\n",
              "      background-color: #434B5C;\n",
              "      box-shadow: 0px 1px 3px 1px rgba(0, 0, 0, 0.15);\n",
              "      filter: drop-shadow(0px 1px 2px rgba(0, 0, 0, 0.3));\n",
              "      fill: #FFFFFF;\n",
              "    }\n",
              "  </style>\n",
              "\n",
              "      <script>\n",
              "        const buttonEl =\n",
              "          document.querySelector('#df-8ce24276-a17c-4d4a-a4a9-dca00d5413fa button.colab-df-convert');\n",
              "        buttonEl.style.display =\n",
              "          google.colab.kernel.accessAllowed ? 'block' : 'none';\n",
              "\n",
              "        async function convertToInteractive(key) {\n",
              "          const element = document.querySelector('#df-8ce24276-a17c-4d4a-a4a9-dca00d5413fa');\n",
              "          const dataTable =\n",
              "            await google.colab.kernel.invokeFunction('convertToInteractive',\n",
              "                                                     [key], {});\n",
              "          if (!dataTable) return;\n",
              "\n",
              "          const docLinkHtml = 'Like what you see? Visit the ' +\n",
              "            '<a target=\"_blank\" href=https://colab.research.google.com/notebooks/data_table.ipynb>data table notebook</a>'\n",
              "            + ' to learn more about interactive tables.';\n",
              "          element.innerHTML = '';\n",
              "          dataTable['output_type'] = 'display_data';\n",
              "          await google.colab.output.renderOutput(dataTable, element);\n",
              "          const docLink = document.createElement('div');\n",
              "          docLink.innerHTML = docLinkHtml;\n",
              "          element.appendChild(docLink);\n",
              "        }\n",
              "      </script>\n",
              "    </div>\n",
              "  </div>\n",
              "  "
            ],
            "text/plain": [
              "        SalesID  SalePrice  MachineID  ModelID  datasource  auctioneerID  \\\n",
              "205615  1646770     9500.0    1126363     8434         132          18.0   \n",
              "274835  1821514    14000.0    1194089    10150         132          99.0   \n",
              "141296  1505138    50000.0    1473654     4139         132          99.0   \n",
              "212552  1671174    16000.0    1327630     8591         132          99.0   \n",
              "62755   1329056    22000.0    1336053     4089         132          99.0   \n",
              "\n",
              "        YearMade  MachineHoursCurrentMeter UsageBand   saledate  ...  \\\n",
              "205615      1974                       NaN       NaN 1989-01-17  ...   \n",
              "274835      1980                       NaN       NaN 1989-01-31  ...   \n",
              "141296      1978                       NaN       NaN 1989-01-31  ...   \n",
              "212552      1980                       NaN       NaN 1989-01-31  ...   \n",
              "62755       1984                       NaN       NaN 1989-01-31  ...   \n",
              "\n",
              "           Backhoe_Mounting Blade_Type      Travel_Controls Differential_Type  \\\n",
              "205615  None or Unspecified   Straight  None or Unspecified               NaN   \n",
              "274835                  NaN        NaN                  NaN          Standard   \n",
              "141296  None or Unspecified   Straight  None or Unspecified               NaN   \n",
              "212552                  NaN        NaN                  NaN          Standard   \n",
              "62755   None or Unspecified        PAT                Lever               NaN   \n",
              "\n",
              "       Steering_Controls saleYear saleMonth saleDay saleDayOfWeek  \\\n",
              "205615               NaN     1989         1      17             1   \n",
              "274835      Conventional     1989         1      31             1   \n",
              "141296               NaN     1989         1      31             1   \n",
              "212552      Conventional     1989         1      31             1   \n",
              "62755                NaN     1989         1      31             1   \n",
              "\n",
              "       saleDayOfYear  \n",
              "205615            17  \n",
              "274835            31  \n",
              "141296            31  \n",
              "212552            31  \n",
              "62755             31  \n",
              "\n",
              "[5 rows x 58 columns]"
            ]
          },
          "execution_count": 17,
          "metadata": {},
          "output_type": "execute_result"
        }
      ],
      "source": [
        "df_temp.head()"
      ]
    },
    {
      "cell_type": "code",
      "execution_count": null,
      "metadata": {
        "id": "vHhNaoIPVPOA"
      },
      "outputs": [],
      "source": [
        "df_temp.drop('saledate', axis=1, inplace=True)"
      ]
    },
    {
      "cell_type": "markdown",
      "metadata": {
        "id": "S5Ps4bfAVp7H"
      },
      "source": [
        "## 5. Modelling\n",
        "> We've done enough EDA (we could always do more) but let's do some model driven EDA."
      ]
    },
    {
      "cell_type": "code",
      "execution_count": null,
      "metadata": {
        "id": "msOhxzECWBCT"
      },
      "outputs": [],
      "source": [
        "# Won't work as all of the data is not numeric.\n",
        "from sklearn.ensemble import RandomForestRegressor\n",
        "\n",
        "model = RandomForestRegressor(n_jobs=-1, random_state=42)\n",
        "# model.fit(df.drop('SalePrice', axis=1), df['SalePrice'])"
      ]
    },
    {
      "cell_type": "markdown",
      "metadata": {
        "id": "ZVE-rc7AW_l5"
      },
      "source": [
        "### Convert strings to categories\n",
        "> One way we can turn all our data into numbers is by converting them into pandas categories"
      ]
    },
    {
      "cell_type": "code",
      "execution_count": null,
      "metadata": {
        "colab": {
          "base_uri": "https://localhost:8080/"
        },
        "id": "QADlqaDgh_qd",
        "outputId": "1c422225-75ca-4fd8-8b65-2ac754ab07dc"
      },
      "outputs": [
        {
          "data": {
            "text/plain": [
              "True"
            ]
          },
          "execution_count": 20,
          "metadata": {},
          "output_type": "execute_result"
        }
      ],
      "source": [
        "pd.api.types.is_string_dtype(df_temp['UsageBand'])"
      ]
    },
    {
      "cell_type": "code",
      "execution_count": null,
      "metadata": {
        "colab": {
          "base_uri": "https://localhost:8080/"
        },
        "id": "yXap4T74i1rT",
        "outputId": "1326ef5c-9e74-40eb-feab-bbcfa81ba646"
      },
      "outputs": [
        {
          "name": "stdout",
          "output_type": "stream",
          "text": [
            "UsageBand\n",
            "fiModelDesc\n",
            "fiBaseModel\n",
            "fiSecondaryDesc\n",
            "fiModelSeries\n",
            "fiModelDescriptor\n",
            "ProductSize\n",
            "fiProductClassDesc\n",
            "state\n",
            "ProductGroup\n",
            "ProductGroupDesc\n",
            "Drive_System\n",
            "Enclosure\n",
            "Forks\n",
            "Pad_Type\n",
            "Ride_Control\n",
            "Stick\n",
            "Transmission\n",
            "Turbocharged\n",
            "Blade_Extension\n",
            "Blade_Width\n",
            "Enclosure_Type\n",
            "Engine_Horsepower\n",
            "Hydraulics\n",
            "Pushblock\n",
            "Ripper\n",
            "Scarifier\n",
            "Tip_Control\n",
            "Tire_Size\n",
            "Coupler\n",
            "Coupler_System\n",
            "Grouser_Tracks\n",
            "Hydraulics_Flow\n",
            "Track_Type\n",
            "Undercarriage_Pad_Width\n",
            "Stick_Length\n",
            "Thumb\n",
            "Pattern_Changer\n",
            "Grouser_Type\n",
            "Backhoe_Mounting\n",
            "Blade_Type\n",
            "Travel_Controls\n",
            "Differential_Type\n",
            "Steering_Controls\n"
          ]
        }
      ],
      "source": [
        "# Find the columns which contains string\n",
        "for label, content in df_temp.items():\n",
        "  if pd.api.types.is_string_dtype(content):\n",
        "    print(label)"
      ]
    },
    {
      "cell_type": "code",
      "execution_count": null,
      "metadata": {
        "id": "MIBp4xaMjINJ"
      },
      "outputs": [],
      "source": [
        "for label, content in df_temp.items():\n",
        "  if pd.api.types.is_string_dtype(content):\n",
        "    df_temp[label] = content.astype('category').cat.as_ordered()"
      ]
    },
    {
      "cell_type": "code",
      "execution_count": null,
      "metadata": {
        "colab": {
          "base_uri": "https://localhost:8080/"
        },
        "id": "iMO2kbc3k4Cn",
        "outputId": "aae0593d-0828-49cd-aad9-dae6090e8fd3"
      },
      "outputs": [
        {
          "name": "stdout",
          "output_type": "stream",
          "text": [
            "<class 'pandas.core.frame.DataFrame'>\n",
            "Int64Index: 412698 entries, 205615 to 409203\n",
            "Data columns (total 57 columns):\n",
            " #   Column                    Non-Null Count   Dtype   \n",
            "---  ------                    --------------   -----   \n",
            " 0   SalesID                   412698 non-null  int64   \n",
            " 1   SalePrice                 412698 non-null  float64 \n",
            " 2   MachineID                 412698 non-null  int64   \n",
            " 3   ModelID                   412698 non-null  int64   \n",
            " 4   datasource                412698 non-null  int64   \n",
            " 5   auctioneerID              392562 non-null  float64 \n",
            " 6   YearMade                  412698 non-null  int64   \n",
            " 7   MachineHoursCurrentMeter  147504 non-null  float64 \n",
            " 8   UsageBand                 73670 non-null   category\n",
            " 9   fiModelDesc               412698 non-null  category\n",
            " 10  fiBaseModel               412698 non-null  category\n",
            " 11  fiSecondaryDesc           271971 non-null  category\n",
            " 12  fiModelSeries             58667 non-null   category\n",
            " 13  fiModelDescriptor         74816 non-null   category\n",
            " 14  ProductSize               196093 non-null  category\n",
            " 15  fiProductClassDesc        412698 non-null  category\n",
            " 16  state                     412698 non-null  category\n",
            " 17  ProductGroup              412698 non-null  category\n",
            " 18  ProductGroupDesc          412698 non-null  category\n",
            " 19  Drive_System              107087 non-null  category\n",
            " 20  Enclosure                 412364 non-null  category\n",
            " 21  Forks                     197715 non-null  category\n",
            " 22  Pad_Type                  81096 non-null   category\n",
            " 23  Ride_Control              152728 non-null  category\n",
            " 24  Stick                     81096 non-null   category\n",
            " 25  Transmission              188007 non-null  category\n",
            " 26  Turbocharged              81096 non-null   category\n",
            " 27  Blade_Extension           25983 non-null   category\n",
            " 28  Blade_Width               25983 non-null   category\n",
            " 29  Enclosure_Type            25983 non-null   category\n",
            " 30  Engine_Horsepower         25983 non-null   category\n",
            " 31  Hydraulics                330133 non-null  category\n",
            " 32  Pushblock                 25983 non-null   category\n",
            " 33  Ripper                    106945 non-null  category\n",
            " 34  Scarifier                 25994 non-null   category\n",
            " 35  Tip_Control               25983 non-null   category\n",
            " 36  Tire_Size                 97638 non-null   category\n",
            " 37  Coupler                   220679 non-null  category\n",
            " 38  Coupler_System            44974 non-null   category\n",
            " 39  Grouser_Tracks            44875 non-null   category\n",
            " 40  Hydraulics_Flow           44875 non-null   category\n",
            " 41  Track_Type                102193 non-null  category\n",
            " 42  Undercarriage_Pad_Width   102916 non-null  category\n",
            " 43  Stick_Length              102261 non-null  category\n",
            " 44  Thumb                     102332 non-null  category\n",
            " 45  Pattern_Changer           102261 non-null  category\n",
            " 46  Grouser_Type              102193 non-null  category\n",
            " 47  Backhoe_Mounting          80712 non-null   category\n",
            " 48  Blade_Type                81875 non-null   category\n",
            " 49  Travel_Controls           81877 non-null   category\n",
            " 50  Differential_Type         71564 non-null   category\n",
            " 51  Steering_Controls         71522 non-null   category\n",
            " 52  saleYear                  412698 non-null  int64   \n",
            " 53  saleMonth                 412698 non-null  int64   \n",
            " 54  saleDay                   412698 non-null  int64   \n",
            " 55  saleDayOfWeek             412698 non-null  int64   \n",
            " 56  saleDayOfYear             412698 non-null  int64   \n",
            "dtypes: category(44), float64(3), int64(10)\n",
            "memory usage: 63.6 MB\n"
          ]
        }
      ],
      "source": [
        "df_temp.info()"
      ]
    },
    {
      "cell_type": "code",
      "execution_count": null,
      "metadata": {
        "colab": {
          "base_uri": "https://localhost:8080/"
        },
        "id": "_kLR6Ab1k7Ee",
        "outputId": "f5ae72a3-8365-4cd4-e2fa-aba287ef59f2"
      },
      "outputs": [
        {
          "data": {
            "text/plain": [
              "Florida           67320\n",
              "Texas             53110\n",
              "California        29761\n",
              "Washington        16222\n",
              "Georgia           14633\n",
              "Maryland          13322\n",
              "Mississippi       13240\n",
              "Ohio              12369\n",
              "Illinois          11540\n",
              "Colorado          11529\n",
              "New Jersey        11156\n",
              "North Carolina    10636\n",
              "Tennessee         10298\n",
              "Alabama           10292\n",
              "Pennsylvania      10234\n",
              "South Carolina     9951\n",
              "Arizona            9364\n",
              "New York           8639\n",
              "Connecticut        8276\n",
              "Minnesota          7885\n",
              "Missouri           7178\n",
              "Nevada             6932\n",
              "Louisiana          6627\n",
              "Kentucky           5351\n",
              "Maine              5096\n",
              "Indiana            4124\n",
              "Arkansas           3933\n",
              "New Mexico         3631\n",
              "Utah               3046\n",
              "Unspecified        2801\n",
              "Wisconsin          2745\n",
              "New Hampshire      2738\n",
              "Virginia           2353\n",
              "Idaho              2025\n",
              "Oregon             1911\n",
              "Michigan           1831\n",
              "Wyoming            1672\n",
              "Montana            1336\n",
              "Iowa               1336\n",
              "Oklahoma           1326\n",
              "Nebraska            866\n",
              "West Virginia       840\n",
              "Kansas              667\n",
              "Delaware            510\n",
              "North Dakota        480\n",
              "Alaska              430\n",
              "Massachusetts       347\n",
              "Vermont             300\n",
              "South Dakota        244\n",
              "Hawaii              118\n",
              "Rhode Island         83\n",
              "Puerto Rico          42\n",
              "Washington DC         2\n",
              "Name: state, dtype: int64"
            ]
          },
          "execution_count": 24,
          "metadata": {},
          "output_type": "execute_result"
        }
      ],
      "source": [
        "df_temp.state.value_counts()"
      ]
    },
    {
      "cell_type": "code",
      "execution_count": null,
      "metadata": {
        "colab": {
          "base_uri": "https://localhost:8080/"
        },
        "id": "c0s_8eyelL_T",
        "outputId": "f2519105-3d93-4e52-e761-97b91de3b3b8"
      },
      "outputs": [
        {
          "data": {
            "text/plain": [
              "205615    43\n",
              "274835     8\n",
              "141296     8\n",
              "212552     8\n",
              "62755      8\n",
              "          ..\n",
              "410879     4\n",
              "412476     4\n",
              "411927     4\n",
              "407124     4\n",
              "409203     4\n",
              "Length: 412698, dtype: int8"
            ]
          },
          "execution_count": 25,
          "metadata": {},
          "output_type": "execute_result"
        }
      ],
      "source": [
        "df_temp.state.cat.codes"
      ]
    },
    {
      "cell_type": "code",
      "execution_count": null,
      "metadata": {
        "colab": {
          "base_uri": "https://localhost:8080/"
        },
        "id": "-JlaJ5YElS2o",
        "outputId": "e5d0e48e-b097-47c8-b649-932985575c8e"
      },
      "outputs": [
        {
          "data": {
            "text/plain": [
              "SalesID                     0.000000\n",
              "SalePrice                   0.000000\n",
              "MachineID                   0.000000\n",
              "ModelID                     0.000000\n",
              "datasource                  0.000000\n",
              "auctioneerID                0.048791\n",
              "YearMade                    0.000000\n",
              "MachineHoursCurrentMeter    0.642586\n",
              "UsageBand                   0.821492\n",
              "fiModelDesc                 0.000000\n",
              "fiBaseModel                 0.000000\n",
              "fiSecondaryDesc             0.340993\n",
              "fiModelSeries               0.857845\n",
              "fiModelDescriptor           0.818715\n",
              "ProductSize                 0.524851\n",
              "fiProductClassDesc          0.000000\n",
              "state                       0.000000\n",
              "ProductGroup                0.000000\n",
              "ProductGroupDesc            0.000000\n",
              "Drive_System                0.740520\n",
              "Enclosure                   0.000809\n",
              "Forks                       0.520921\n",
              "Pad_Type                    0.803498\n",
              "Ride_Control                0.629928\n",
              "Stick                       0.803498\n",
              "Transmission                0.544444\n",
              "Turbocharged                0.803498\n",
              "Blade_Extension             0.937041\n",
              "Blade_Width                 0.937041\n",
              "Enclosure_Type              0.937041\n",
              "Engine_Horsepower           0.937041\n",
              "Hydraulics                  0.200062\n",
              "Pushblock                   0.937041\n",
              "Ripper                      0.740864\n",
              "Scarifier                   0.937014\n",
              "Tip_Control                 0.937041\n",
              "Tire_Size                   0.763415\n",
              "Coupler                     0.465277\n",
              "Coupler_System              0.891024\n",
              "Grouser_Tracks              0.891264\n",
              "Hydraulics_Flow             0.891264\n",
              "Track_Type                  0.752378\n",
              "Undercarriage_Pad_Width     0.750626\n",
              "Stick_Length                0.752213\n",
              "Thumb                       0.752041\n",
              "Pattern_Changer             0.752213\n",
              "Grouser_Type                0.752378\n",
              "Backhoe_Mounting            0.804428\n",
              "Blade_Type                  0.801610\n",
              "Travel_Controls             0.801606\n",
              "Differential_Type           0.826595\n",
              "Steering_Controls           0.826697\n",
              "saleYear                    0.000000\n",
              "saleMonth                   0.000000\n",
              "saleDay                     0.000000\n",
              "saleDayOfWeek               0.000000\n",
              "saleDayOfYear               0.000000\n",
              "dtype: float64"
            ]
          },
          "execution_count": 26,
          "metadata": {},
          "output_type": "execute_result"
        }
      ],
      "source": [
        "# Hnadeling missing data\n",
        "df_temp.isna().sum()/len(df_temp)"
      ]
    },
    {
      "cell_type": "markdown",
      "metadata": {
        "id": "rV1DOpLilkiv"
      },
      "source": [
        "### Saving preprocessed data"
      ]
    },
    {
      "cell_type": "code",
      "execution_count": null,
      "metadata": {
        "id": "D81CqfLCl93O"
      },
      "outputs": [],
      "source": [
        "# Export current temp dataFrame\n",
        "df_temp.to_csv('bluebook-for-bulldozers/train_temp.csv', index=False)"
      ]
    },
    {
      "cell_type": "code",
      "execution_count": null,
      "metadata": {
        "colab": {
          "base_uri": "https://localhost:8080/"
        },
        "id": "Y7BDzysrmI9Z",
        "outputId": "350c3722-ccfa-4d9a-dd16-e072f7de1af3"
      },
      "outputs": [
        {
          "name": "stderr",
          "output_type": "stream",
          "text": [
            "/usr/local/lib/python3.7/dist-packages/IPython/core/interactiveshell.py:3326: DtypeWarning: Columns (8) have mixed types.Specify dtype option on import or set low_memory=False.\n",
            "  exec(code_obj, self.user_global_ns, self.user_ns)\n"
          ]
        }
      ],
      "source": [
        "# Import preprocessed data\n",
        "df_temp = pd.read_csv('bluebook-for-bulldozers/train_temp.csv')"
      ]
    },
    {
      "cell_type": "markdown",
      "metadata": {
        "id": "1HOGr_7ZmVV3"
      },
      "source": [
        "### Filling missing values\n",
        "\n",
        "### Fill numerical missing values first"
      ]
    },
    {
      "cell_type": "code",
      "execution_count": null,
      "metadata": {
        "colab": {
          "base_uri": "https://localhost:8080/"
        },
        "id": "DdHPVCUn-MWf",
        "outputId": "8b86cc84-5af0-4f3e-fb6e-5af7e604c4d4"
      },
      "outputs": [
        {
          "data": {
            "text/plain": [
              "Index(['SalesID', 'SalePrice', 'MachineID', 'ModelID', 'datasource',\n",
              "       'auctioneerID', 'YearMade', 'MachineHoursCurrentMeter', 'UsageBand',\n",
              "       'fiModelDesc', 'fiBaseModel', 'fiSecondaryDesc', 'fiModelSeries',\n",
              "       'fiModelDescriptor', 'ProductSize', 'fiProductClassDesc', 'state',\n",
              "       'ProductGroup', 'ProductGroupDesc', 'Drive_System', 'Enclosure',\n",
              "       'Forks', 'Pad_Type', 'Ride_Control', 'Stick', 'Transmission',\n",
              "       'Turbocharged', 'Blade_Extension', 'Blade_Width', 'Enclosure_Type',\n",
              "       'Engine_Horsepower', 'Hydraulics', 'Pushblock', 'Ripper', 'Scarifier',\n",
              "       'Tip_Control', 'Tire_Size', 'Coupler', 'Coupler_System',\n",
              "       'Grouser_Tracks', 'Hydraulics_Flow', 'Track_Type',\n",
              "       'Undercarriage_Pad_Width', 'Stick_Length', 'Thumb', 'Pattern_Changer',\n",
              "       'Grouser_Type', 'Backhoe_Mounting', 'Blade_Type', 'Travel_Controls',\n",
              "       'Differential_Type', 'Steering_Controls', 'saleYear', 'saleMonth',\n",
              "       'saleDay', 'saleDayOfWeek', 'saleDayOfYear'],\n",
              "      dtype='object')"
            ]
          },
          "execution_count": 29,
          "metadata": {},
          "output_type": "execute_result"
        }
      ],
      "source": [
        "df_temp.columns"
      ]
    },
    {
      "cell_type": "code",
      "execution_count": null,
      "metadata": {
        "id": "JctMWejT9t_H"
      },
      "outputs": [],
      "source": [
        "df_train = df_temp[df_temp.saleYear!=2012]\n",
        "df_valid = df_temp[df_temp.saleYear==2012]\n",
        "df_train.to_csv('bluebook-for-bulldozers/Train_conv.csv', index=False)\n",
        "df_valid.to_csv('bluebook-for-bulldozers/Valid_conv.csv', index=False)"
      ]
    },
    {
      "cell_type": "code",
      "execution_count": null,
      "metadata": {
        "id": "r3fTG1diDZu4"
      },
      "outputs": [],
      "source": [
        "df_train = pd.read_csv('bluebook-for-bulldozers/Train_conv.csv')\n",
        "df_valid = pd.read_csv('bluebook-for-bulldozers/Valid_conv.csv')"
      ]
    },
    {
      "cell_type": "code",
      "execution_count": null,
      "metadata": {
        "colab": {
          "base_uri": "https://localhost:8080/"
        },
        "id": "T4AbHX03xXnn",
        "outputId": "af21df9b-8cd0-476a-f18e-10e464ec1bd3"
      },
      "outputs": [
        {
          "data": {
            "text/plain": [
              "((401125, 57), (11573, 57))"
            ]
          },
          "execution_count": 32,
          "metadata": {},
          "output_type": "execute_result"
        }
      ],
      "source": [
        "df_train.shape, df_valid.shape"
      ]
    },
    {
      "cell_type": "code",
      "execution_count": null,
      "metadata": {
        "colab": {
          "base_uri": "https://localhost:8080/"
        },
        "id": "tl1Tj6avme0I",
        "outputId": "b4aea7ea-7936-41ee-a78c-ceab219ff1ef"
      },
      "outputs": [
        {
          "name": "stdout",
          "output_type": "stream",
          "text": [
            "SalesID\n",
            "SalePrice\n",
            "MachineID\n",
            "ModelID\n",
            "datasource\n",
            "auctioneerID\n",
            "YearMade\n",
            "MachineHoursCurrentMeter\n",
            "saleYear\n",
            "saleMonth\n",
            "saleDay\n",
            "saleDayOfWeek\n",
            "saleDayOfYear\n"
          ]
        }
      ],
      "source": [
        "for label, content in df_train.items():\n",
        "  if pd.api.types.is_numeric_dtype(content):\n",
        "    print(label)"
      ]
    },
    {
      "cell_type": "code",
      "execution_count": null,
      "metadata": {
        "colab": {
          "base_uri": "https://localhost:8080/"
        },
        "id": "7MaqVM1L1FBw",
        "outputId": "8f1f1775-4b73-4980-bdb6-1389fc74b80d"
      },
      "outputs": [
        {
          "name": "stdout",
          "output_type": "stream",
          "text": [
            "SalesID\n",
            "SalePrice\n",
            "MachineID\n",
            "ModelID\n",
            "datasource\n",
            "auctioneerID\n",
            "YearMade\n",
            "MachineHoursCurrentMeter\n",
            "saleYear\n",
            "saleMonth\n",
            "saleDay\n",
            "saleDayOfWeek\n",
            "saleDayOfYear\n"
          ]
        }
      ],
      "source": [
        "for label, content in df_valid.items():\n",
        "  if pd.api.types.is_numeric_dtype(content):\n",
        "    print(label)"
      ]
    },
    {
      "cell_type": "code",
      "execution_count": null,
      "metadata": {
        "colab": {
          "base_uri": "https://localhost:8080/"
        },
        "id": "sgACOCLjm2y_",
        "outputId": "2d6f306d-e731-4a80-b67a-d324ed9323a7"
      },
      "outputs": [
        {
          "name": "stdout",
          "output_type": "stream",
          "text": [
            "auctioneerID\n",
            "MachineHoursCurrentMeter\n"
          ]
        }
      ],
      "source": [
        "# Check for which numeric columns have missing values\n",
        "for label, content in df_train.items():\n",
        "  if pd.api.types.is_numeric_dtype(content):\n",
        "    if pd.isnull(content).sum():\n",
        "      print(label)"
      ]
    },
    {
      "cell_type": "code",
      "execution_count": null,
      "metadata": {
        "id": "PBwTeGbc_Fd9"
      },
      "outputs": [],
      "source": [
        "for label, content in df_train.items():\n",
        "  if pd.api.types.is_numeric_dtype(content):\n",
        "    if pd.isnull(content).sum():\n",
        "      df_train[label+'_is_missing'] = pd.isnull(content)\n",
        "      df_train[label] = content.fillna(content.median())"
      ]
    },
    {
      "cell_type": "code",
      "execution_count": null,
      "metadata": {
        "id": "uMQ_-n8eBe34"
      },
      "outputs": [],
      "source": [
        "for label, content in df_valid.items():\n",
        "  if pd.api.types.is_numeric_dtype(content):\n",
        "    if pd.isnull(content).sum():\n",
        "      df_valid[label+'_is_missing'] = pd.isnull(content)\n",
        "      df_valid[label] = content.fillna(content.median())"
      ]
    },
    {
      "cell_type": "code",
      "execution_count": null,
      "metadata": {
        "id": "Pjmmk7UkCHYU"
      },
      "outputs": [],
      "source": [
        "# df_valid['auctioneerID_is_missing'] = False\n",
        "df_valid.insert(loc=57, column='auctioneerID_is_missing', value=False)"
      ]
    },
    {
      "cell_type": "code",
      "execution_count": null,
      "metadata": {
        "colab": {
          "base_uri": "https://localhost:8080/",
          "height": 334
        },
        "id": "jD1mtFVj0jC5",
        "outputId": "15317758-204f-4600-cc28-16099e1bd0a4"
      },
      "outputs": [
        {
          "data": {
            "text/html": [
              "\n",
              "  <div id=\"df-b69cc811-f0ea-4a71-a496-fc2a4b09f0e9\">\n",
              "    <div class=\"colab-df-container\">\n",
              "      <div>\n",
              "<style scoped>\n",
              "    .dataframe tbody tr th:only-of-type {\n",
              "        vertical-align: middle;\n",
              "    }\n",
              "\n",
              "    .dataframe tbody tr th {\n",
              "        vertical-align: top;\n",
              "    }\n",
              "\n",
              "    .dataframe thead th {\n",
              "        text-align: right;\n",
              "    }\n",
              "</style>\n",
              "<table border=\"1\" class=\"dataframe\">\n",
              "  <thead>\n",
              "    <tr style=\"text-align: right;\">\n",
              "      <th></th>\n",
              "      <th>SalesID</th>\n",
              "      <th>SalePrice</th>\n",
              "      <th>MachineID</th>\n",
              "      <th>ModelID</th>\n",
              "      <th>datasource</th>\n",
              "      <th>auctioneerID</th>\n",
              "      <th>YearMade</th>\n",
              "      <th>MachineHoursCurrentMeter</th>\n",
              "      <th>UsageBand</th>\n",
              "      <th>fiModelDesc</th>\n",
              "      <th>...</th>\n",
              "      <th>Travel_Controls</th>\n",
              "      <th>Differential_Type</th>\n",
              "      <th>Steering_Controls</th>\n",
              "      <th>saleYear</th>\n",
              "      <th>saleMonth</th>\n",
              "      <th>saleDay</th>\n",
              "      <th>saleDayOfWeek</th>\n",
              "      <th>saleDayOfYear</th>\n",
              "      <th>auctioneerID_is_missing</th>\n",
              "      <th>MachineHoursCurrentMeter_is_missing</th>\n",
              "    </tr>\n",
              "  </thead>\n",
              "  <tbody>\n",
              "    <tr>\n",
              "      <th>0</th>\n",
              "      <td>1646770</td>\n",
              "      <td>9500.0</td>\n",
              "      <td>1126363</td>\n",
              "      <td>8434</td>\n",
              "      <td>132</td>\n",
              "      <td>18.0</td>\n",
              "      <td>1974</td>\n",
              "      <td>0.0</td>\n",
              "      <td>NaN</td>\n",
              "      <td>TD20</td>\n",
              "      <td>...</td>\n",
              "      <td>None or Unspecified</td>\n",
              "      <td>NaN</td>\n",
              "      <td>NaN</td>\n",
              "      <td>1989</td>\n",
              "      <td>1</td>\n",
              "      <td>17</td>\n",
              "      <td>1</td>\n",
              "      <td>17</td>\n",
              "      <td>False</td>\n",
              "      <td>True</td>\n",
              "    </tr>\n",
              "    <tr>\n",
              "      <th>1</th>\n",
              "      <td>1821514</td>\n",
              "      <td>14000.0</td>\n",
              "      <td>1194089</td>\n",
              "      <td>10150</td>\n",
              "      <td>132</td>\n",
              "      <td>99.0</td>\n",
              "      <td>1980</td>\n",
              "      <td>0.0</td>\n",
              "      <td>NaN</td>\n",
              "      <td>A66</td>\n",
              "      <td>...</td>\n",
              "      <td>NaN</td>\n",
              "      <td>Standard</td>\n",
              "      <td>Conventional</td>\n",
              "      <td>1989</td>\n",
              "      <td>1</td>\n",
              "      <td>31</td>\n",
              "      <td>1</td>\n",
              "      <td>31</td>\n",
              "      <td>False</td>\n",
              "      <td>True</td>\n",
              "    </tr>\n",
              "    <tr>\n",
              "      <th>2</th>\n",
              "      <td>1505138</td>\n",
              "      <td>50000.0</td>\n",
              "      <td>1473654</td>\n",
              "      <td>4139</td>\n",
              "      <td>132</td>\n",
              "      <td>99.0</td>\n",
              "      <td>1978</td>\n",
              "      <td>0.0</td>\n",
              "      <td>NaN</td>\n",
              "      <td>D7G</td>\n",
              "      <td>...</td>\n",
              "      <td>None or Unspecified</td>\n",
              "      <td>NaN</td>\n",
              "      <td>NaN</td>\n",
              "      <td>1989</td>\n",
              "      <td>1</td>\n",
              "      <td>31</td>\n",
              "      <td>1</td>\n",
              "      <td>31</td>\n",
              "      <td>False</td>\n",
              "      <td>True</td>\n",
              "    </tr>\n",
              "    <tr>\n",
              "      <th>3</th>\n",
              "      <td>1671174</td>\n",
              "      <td>16000.0</td>\n",
              "      <td>1327630</td>\n",
              "      <td>8591</td>\n",
              "      <td>132</td>\n",
              "      <td>99.0</td>\n",
              "      <td>1980</td>\n",
              "      <td>0.0</td>\n",
              "      <td>NaN</td>\n",
              "      <td>A62</td>\n",
              "      <td>...</td>\n",
              "      <td>NaN</td>\n",
              "      <td>Standard</td>\n",
              "      <td>Conventional</td>\n",
              "      <td>1989</td>\n",
              "      <td>1</td>\n",
              "      <td>31</td>\n",
              "      <td>1</td>\n",
              "      <td>31</td>\n",
              "      <td>False</td>\n",
              "      <td>True</td>\n",
              "    </tr>\n",
              "    <tr>\n",
              "      <th>4</th>\n",
              "      <td>1329056</td>\n",
              "      <td>22000.0</td>\n",
              "      <td>1336053</td>\n",
              "      <td>4089</td>\n",
              "      <td>132</td>\n",
              "      <td>99.0</td>\n",
              "      <td>1984</td>\n",
              "      <td>0.0</td>\n",
              "      <td>NaN</td>\n",
              "      <td>D3B</td>\n",
              "      <td>...</td>\n",
              "      <td>Lever</td>\n",
              "      <td>NaN</td>\n",
              "      <td>NaN</td>\n",
              "      <td>1989</td>\n",
              "      <td>1</td>\n",
              "      <td>31</td>\n",
              "      <td>1</td>\n",
              "      <td>31</td>\n",
              "      <td>False</td>\n",
              "      <td>True</td>\n",
              "    </tr>\n",
              "  </tbody>\n",
              "</table>\n",
              "<p>5 rows × 59 columns</p>\n",
              "</div>\n",
              "      <button class=\"colab-df-convert\" onclick=\"convertToInteractive('df-b69cc811-f0ea-4a71-a496-fc2a4b09f0e9')\"\n",
              "              title=\"Convert this dataframe to an interactive table.\"\n",
              "              style=\"display:none;\">\n",
              "        \n",
              "  <svg xmlns=\"http://www.w3.org/2000/svg\" height=\"24px\"viewBox=\"0 0 24 24\"\n",
              "       width=\"24px\">\n",
              "    <path d=\"M0 0h24v24H0V0z\" fill=\"none\"/>\n",
              "    <path d=\"M18.56 5.44l.94 2.06.94-2.06 2.06-.94-2.06-.94-.94-2.06-.94 2.06-2.06.94zm-11 1L8.5 8.5l.94-2.06 2.06-.94-2.06-.94L8.5 2.5l-.94 2.06-2.06.94zm10 10l.94 2.06.94-2.06 2.06-.94-2.06-.94-.94-2.06-.94 2.06-2.06.94z\"/><path d=\"M17.41 7.96l-1.37-1.37c-.4-.4-.92-.59-1.43-.59-.52 0-1.04.2-1.43.59L10.3 9.45l-7.72 7.72c-.78.78-.78 2.05 0 2.83L4 21.41c.39.39.9.59 1.41.59.51 0 1.02-.2 1.41-.59l7.78-7.78 2.81-2.81c.8-.78.8-2.07 0-2.86zM5.41 20L4 18.59l7.72-7.72 1.47 1.35L5.41 20z\"/>\n",
              "  </svg>\n",
              "      </button>\n",
              "      \n",
              "  <style>\n",
              "    .colab-df-container {\n",
              "      display:flex;\n",
              "      flex-wrap:wrap;\n",
              "      gap: 12px;\n",
              "    }\n",
              "\n",
              "    .colab-df-convert {\n",
              "      background-color: #E8F0FE;\n",
              "      border: none;\n",
              "      border-radius: 50%;\n",
              "      cursor: pointer;\n",
              "      display: none;\n",
              "      fill: #1967D2;\n",
              "      height: 32px;\n",
              "      padding: 0 0 0 0;\n",
              "      width: 32px;\n",
              "    }\n",
              "\n",
              "    .colab-df-convert:hover {\n",
              "      background-color: #E2EBFA;\n",
              "      box-shadow: 0px 1px 2px rgba(60, 64, 67, 0.3), 0px 1px 3px 1px rgba(60, 64, 67, 0.15);\n",
              "      fill: #174EA6;\n",
              "    }\n",
              "\n",
              "    [theme=dark] .colab-df-convert {\n",
              "      background-color: #3B4455;\n",
              "      fill: #D2E3FC;\n",
              "    }\n",
              "\n",
              "    [theme=dark] .colab-df-convert:hover {\n",
              "      background-color: #434B5C;\n",
              "      box-shadow: 0px 1px 3px 1px rgba(0, 0, 0, 0.15);\n",
              "      filter: drop-shadow(0px 1px 2px rgba(0, 0, 0, 0.3));\n",
              "      fill: #FFFFFF;\n",
              "    }\n",
              "  </style>\n",
              "\n",
              "      <script>\n",
              "        const buttonEl =\n",
              "          document.querySelector('#df-b69cc811-f0ea-4a71-a496-fc2a4b09f0e9 button.colab-df-convert');\n",
              "        buttonEl.style.display =\n",
              "          google.colab.kernel.accessAllowed ? 'block' : 'none';\n",
              "\n",
              "        async function convertToInteractive(key) {\n",
              "          const element = document.querySelector('#df-b69cc811-f0ea-4a71-a496-fc2a4b09f0e9');\n",
              "          const dataTable =\n",
              "            await google.colab.kernel.invokeFunction('convertToInteractive',\n",
              "                                                     [key], {});\n",
              "          if (!dataTable) return;\n",
              "\n",
              "          const docLinkHtml = 'Like what you see? Visit the ' +\n",
              "            '<a target=\"_blank\" href=https://colab.research.google.com/notebooks/data_table.ipynb>data table notebook</a>'\n",
              "            + ' to learn more about interactive tables.';\n",
              "          element.innerHTML = '';\n",
              "          dataTable['output_type'] = 'display_data';\n",
              "          await google.colab.output.renderOutput(dataTable, element);\n",
              "          const docLink = document.createElement('div');\n",
              "          docLink.innerHTML = docLinkHtml;\n",
              "          element.appendChild(docLink);\n",
              "        }\n",
              "      </script>\n",
              "    </div>\n",
              "  </div>\n",
              "  "
            ],
            "text/plain": [
              "   SalesID  SalePrice  MachineID  ModelID  datasource  auctioneerID  YearMade  \\\n",
              "0  1646770     9500.0    1126363     8434         132          18.0      1974   \n",
              "1  1821514    14000.0    1194089    10150         132          99.0      1980   \n",
              "2  1505138    50000.0    1473654     4139         132          99.0      1978   \n",
              "3  1671174    16000.0    1327630     8591         132          99.0      1980   \n",
              "4  1329056    22000.0    1336053     4089         132          99.0      1984   \n",
              "\n",
              "   MachineHoursCurrentMeter UsageBand fiModelDesc  ...      Travel_Controls  \\\n",
              "0                       0.0       NaN        TD20  ...  None or Unspecified   \n",
              "1                       0.0       NaN         A66  ...                  NaN   \n",
              "2                       0.0       NaN         D7G  ...  None or Unspecified   \n",
              "3                       0.0       NaN         A62  ...                  NaN   \n",
              "4                       0.0       NaN         D3B  ...                Lever   \n",
              "\n",
              "  Differential_Type Steering_Controls saleYear saleMonth saleDay  \\\n",
              "0               NaN               NaN     1989         1      17   \n",
              "1          Standard      Conventional     1989         1      31   \n",
              "2               NaN               NaN     1989         1      31   \n",
              "3          Standard      Conventional     1989         1      31   \n",
              "4               NaN               NaN     1989         1      31   \n",
              "\n",
              "  saleDayOfWeek saleDayOfYear auctioneerID_is_missing  \\\n",
              "0             1            17                   False   \n",
              "1             1            31                   False   \n",
              "2             1            31                   False   \n",
              "3             1            31                   False   \n",
              "4             1            31                   False   \n",
              "\n",
              "  MachineHoursCurrentMeter_is_missing  \n",
              "0                                True  \n",
              "1                                True  \n",
              "2                                True  \n",
              "3                                True  \n",
              "4                                True  \n",
              "\n",
              "[5 rows x 59 columns]"
            ]
          },
          "execution_count": 39,
          "metadata": {},
          "output_type": "execute_result"
        }
      ],
      "source": [
        "df_train.head()"
      ]
    },
    {
      "cell_type": "code",
      "execution_count": null,
      "metadata": {
        "colab": {
          "base_uri": "https://localhost:8080/",
          "height": 334
        },
        "id": "5oSElUac0i2H",
        "outputId": "ce7ed990-ea39-4610-953b-25a15dce5b8a"
      },
      "outputs": [
        {
          "data": {
            "text/html": [
              "\n",
              "  <div id=\"df-e80fe991-7e76-4ade-a9d7-c97c16e96572\">\n",
              "    <div class=\"colab-df-container\">\n",
              "      <div>\n",
              "<style scoped>\n",
              "    .dataframe tbody tr th:only-of-type {\n",
              "        vertical-align: middle;\n",
              "    }\n",
              "\n",
              "    .dataframe tbody tr th {\n",
              "        vertical-align: top;\n",
              "    }\n",
              "\n",
              "    .dataframe thead th {\n",
              "        text-align: right;\n",
              "    }\n",
              "</style>\n",
              "<table border=\"1\" class=\"dataframe\">\n",
              "  <thead>\n",
              "    <tr style=\"text-align: right;\">\n",
              "      <th></th>\n",
              "      <th>SalesID</th>\n",
              "      <th>SalePrice</th>\n",
              "      <th>MachineID</th>\n",
              "      <th>ModelID</th>\n",
              "      <th>datasource</th>\n",
              "      <th>auctioneerID</th>\n",
              "      <th>YearMade</th>\n",
              "      <th>MachineHoursCurrentMeter</th>\n",
              "      <th>UsageBand</th>\n",
              "      <th>fiModelDesc</th>\n",
              "      <th>...</th>\n",
              "      <th>Travel_Controls</th>\n",
              "      <th>Differential_Type</th>\n",
              "      <th>Steering_Controls</th>\n",
              "      <th>saleYear</th>\n",
              "      <th>saleMonth</th>\n",
              "      <th>saleDay</th>\n",
              "      <th>saleDayOfWeek</th>\n",
              "      <th>saleDayOfYear</th>\n",
              "      <th>auctioneerID_is_missing</th>\n",
              "      <th>MachineHoursCurrentMeter_is_missing</th>\n",
              "    </tr>\n",
              "  </thead>\n",
              "  <tbody>\n",
              "    <tr>\n",
              "      <th>0</th>\n",
              "      <td>4449186</td>\n",
              "      <td>46173.2</td>\n",
              "      <td>2318824</td>\n",
              "      <td>26964</td>\n",
              "      <td>173</td>\n",
              "      <td>99.0</td>\n",
              "      <td>1996</td>\n",
              "      <td>0.0</td>\n",
              "      <td>NaN</td>\n",
              "      <td>D65E12</td>\n",
              "      <td>...</td>\n",
              "      <td>None or Unspecified</td>\n",
              "      <td>NaN</td>\n",
              "      <td>NaN</td>\n",
              "      <td>2012</td>\n",
              "      <td>1</td>\n",
              "      <td>1</td>\n",
              "      <td>6</td>\n",
              "      <td>1</td>\n",
              "      <td>False</td>\n",
              "      <td>False</td>\n",
              "    </tr>\n",
              "    <tr>\n",
              "      <th>1</th>\n",
              "      <td>1222855</td>\n",
              "      <td>66000.0</td>\n",
              "      <td>531393</td>\n",
              "      <td>23926</td>\n",
              "      <td>121</td>\n",
              "      <td>3.0</td>\n",
              "      <td>1000</td>\n",
              "      <td>8145.0</td>\n",
              "      <td>Low</td>\n",
              "      <td>12HNA</td>\n",
              "      <td>...</td>\n",
              "      <td>NaN</td>\n",
              "      <td>NaN</td>\n",
              "      <td>NaN</td>\n",
              "      <td>2012</td>\n",
              "      <td>1</td>\n",
              "      <td>4</td>\n",
              "      <td>2</td>\n",
              "      <td>4</td>\n",
              "      <td>False</td>\n",
              "      <td>False</td>\n",
              "    </tr>\n",
              "    <tr>\n",
              "      <th>2</th>\n",
              "      <td>6258613</td>\n",
              "      <td>26800.0</td>\n",
              "      <td>1810917</td>\n",
              "      <td>13260</td>\n",
              "      <td>149</td>\n",
              "      <td>99.0</td>\n",
              "      <td>2000</td>\n",
              "      <td>24.0</td>\n",
              "      <td>Low</td>\n",
              "      <td>590SUPER LII</td>\n",
              "      <td>...</td>\n",
              "      <td>NaN</td>\n",
              "      <td>NaN</td>\n",
              "      <td>NaN</td>\n",
              "      <td>2012</td>\n",
              "      <td>1</td>\n",
              "      <td>4</td>\n",
              "      <td>2</td>\n",
              "      <td>4</td>\n",
              "      <td>False</td>\n",
              "      <td>False</td>\n",
              "    </tr>\n",
              "    <tr>\n",
              "      <th>3</th>\n",
              "      <td>6282680</td>\n",
              "      <td>42100.0</td>\n",
              "      <td>1543404</td>\n",
              "      <td>1830</td>\n",
              "      <td>149</td>\n",
              "      <td>99.0</td>\n",
              "      <td>2004</td>\n",
              "      <td>4373.0</td>\n",
              "      <td>Medium</td>\n",
              "      <td>120C</td>\n",
              "      <td>...</td>\n",
              "      <td>NaN</td>\n",
              "      <td>NaN</td>\n",
              "      <td>NaN</td>\n",
              "      <td>2012</td>\n",
              "      <td>1</td>\n",
              "      <td>4</td>\n",
              "      <td>2</td>\n",
              "      <td>4</td>\n",
              "      <td>False</td>\n",
              "      <td>False</td>\n",
              "    </tr>\n",
              "    <tr>\n",
              "      <th>4</th>\n",
              "      <td>6282759</td>\n",
              "      <td>62100.0</td>\n",
              "      <td>1863077</td>\n",
              "      <td>11390</td>\n",
              "      <td>149</td>\n",
              "      <td>99.0</td>\n",
              "      <td>2006</td>\n",
              "      <td>3467.0</td>\n",
              "      <td>Medium</td>\n",
              "      <td>160CLC</td>\n",
              "      <td>...</td>\n",
              "      <td>NaN</td>\n",
              "      <td>NaN</td>\n",
              "      <td>NaN</td>\n",
              "      <td>2012</td>\n",
              "      <td>1</td>\n",
              "      <td>4</td>\n",
              "      <td>2</td>\n",
              "      <td>4</td>\n",
              "      <td>False</td>\n",
              "      <td>False</td>\n",
              "    </tr>\n",
              "  </tbody>\n",
              "</table>\n",
              "<p>5 rows × 59 columns</p>\n",
              "</div>\n",
              "      <button class=\"colab-df-convert\" onclick=\"convertToInteractive('df-e80fe991-7e76-4ade-a9d7-c97c16e96572')\"\n",
              "              title=\"Convert this dataframe to an interactive table.\"\n",
              "              style=\"display:none;\">\n",
              "        \n",
              "  <svg xmlns=\"http://www.w3.org/2000/svg\" height=\"24px\"viewBox=\"0 0 24 24\"\n",
              "       width=\"24px\">\n",
              "    <path d=\"M0 0h24v24H0V0z\" fill=\"none\"/>\n",
              "    <path d=\"M18.56 5.44l.94 2.06.94-2.06 2.06-.94-2.06-.94-.94-2.06-.94 2.06-2.06.94zm-11 1L8.5 8.5l.94-2.06 2.06-.94-2.06-.94L8.5 2.5l-.94 2.06-2.06.94zm10 10l.94 2.06.94-2.06 2.06-.94-2.06-.94-.94-2.06-.94 2.06-2.06.94z\"/><path d=\"M17.41 7.96l-1.37-1.37c-.4-.4-.92-.59-1.43-.59-.52 0-1.04.2-1.43.59L10.3 9.45l-7.72 7.72c-.78.78-.78 2.05 0 2.83L4 21.41c.39.39.9.59 1.41.59.51 0 1.02-.2 1.41-.59l7.78-7.78 2.81-2.81c.8-.78.8-2.07 0-2.86zM5.41 20L4 18.59l7.72-7.72 1.47 1.35L5.41 20z\"/>\n",
              "  </svg>\n",
              "      </button>\n",
              "      \n",
              "  <style>\n",
              "    .colab-df-container {\n",
              "      display:flex;\n",
              "      flex-wrap:wrap;\n",
              "      gap: 12px;\n",
              "    }\n",
              "\n",
              "    .colab-df-convert {\n",
              "      background-color: #E8F0FE;\n",
              "      border: none;\n",
              "      border-radius: 50%;\n",
              "      cursor: pointer;\n",
              "      display: none;\n",
              "      fill: #1967D2;\n",
              "      height: 32px;\n",
              "      padding: 0 0 0 0;\n",
              "      width: 32px;\n",
              "    }\n",
              "\n",
              "    .colab-df-convert:hover {\n",
              "      background-color: #E2EBFA;\n",
              "      box-shadow: 0px 1px 2px rgba(60, 64, 67, 0.3), 0px 1px 3px 1px rgba(60, 64, 67, 0.15);\n",
              "      fill: #174EA6;\n",
              "    }\n",
              "\n",
              "    [theme=dark] .colab-df-convert {\n",
              "      background-color: #3B4455;\n",
              "      fill: #D2E3FC;\n",
              "    }\n",
              "\n",
              "    [theme=dark] .colab-df-convert:hover {\n",
              "      background-color: #434B5C;\n",
              "      box-shadow: 0px 1px 3px 1px rgba(0, 0, 0, 0.15);\n",
              "      filter: drop-shadow(0px 1px 2px rgba(0, 0, 0, 0.3));\n",
              "      fill: #FFFFFF;\n",
              "    }\n",
              "  </style>\n",
              "\n",
              "      <script>\n",
              "        const buttonEl =\n",
              "          document.querySelector('#df-e80fe991-7e76-4ade-a9d7-c97c16e96572 button.colab-df-convert');\n",
              "        buttonEl.style.display =\n",
              "          google.colab.kernel.accessAllowed ? 'block' : 'none';\n",
              "\n",
              "        async function convertToInteractive(key) {\n",
              "          const element = document.querySelector('#df-e80fe991-7e76-4ade-a9d7-c97c16e96572');\n",
              "          const dataTable =\n",
              "            await google.colab.kernel.invokeFunction('convertToInteractive',\n",
              "                                                     [key], {});\n",
              "          if (!dataTable) return;\n",
              "\n",
              "          const docLinkHtml = 'Like what you see? Visit the ' +\n",
              "            '<a target=\"_blank\" href=https://colab.research.google.com/notebooks/data_table.ipynb>data table notebook</a>'\n",
              "            + ' to learn more about interactive tables.';\n",
              "          element.innerHTML = '';\n",
              "          dataTable['output_type'] = 'display_data';\n",
              "          await google.colab.output.renderOutput(dataTable, element);\n",
              "          const docLink = document.createElement('div');\n",
              "          docLink.innerHTML = docLinkHtml;\n",
              "          element.appendChild(docLink);\n",
              "        }\n",
              "      </script>\n",
              "    </div>\n",
              "  </div>\n",
              "  "
            ],
            "text/plain": [
              "   SalesID  SalePrice  MachineID  ModelID  datasource  auctioneerID  YearMade  \\\n",
              "0  4449186    46173.2    2318824    26964         173          99.0      1996   \n",
              "1  1222855    66000.0     531393    23926         121           3.0      1000   \n",
              "2  6258613    26800.0    1810917    13260         149          99.0      2000   \n",
              "3  6282680    42100.0    1543404     1830         149          99.0      2004   \n",
              "4  6282759    62100.0    1863077    11390         149          99.0      2006   \n",
              "\n",
              "   MachineHoursCurrentMeter UsageBand   fiModelDesc  ...      Travel_Controls  \\\n",
              "0                       0.0       NaN        D65E12  ...  None or Unspecified   \n",
              "1                    8145.0       Low         12HNA  ...                  NaN   \n",
              "2                      24.0       Low  590SUPER LII  ...                  NaN   \n",
              "3                    4373.0    Medium          120C  ...                  NaN   \n",
              "4                    3467.0    Medium        160CLC  ...                  NaN   \n",
              "\n",
              "  Differential_Type Steering_Controls saleYear saleMonth saleDay  \\\n",
              "0               NaN               NaN     2012         1       1   \n",
              "1               NaN               NaN     2012         1       4   \n",
              "2               NaN               NaN     2012         1       4   \n",
              "3               NaN               NaN     2012         1       4   \n",
              "4               NaN               NaN     2012         1       4   \n",
              "\n",
              "  saleDayOfWeek saleDayOfYear auctioneerID_is_missing  \\\n",
              "0             6             1                   False   \n",
              "1             2             4                   False   \n",
              "2             2             4                   False   \n",
              "3             2             4                   False   \n",
              "4             2             4                   False   \n",
              "\n",
              "  MachineHoursCurrentMeter_is_missing  \n",
              "0                               False  \n",
              "1                               False  \n",
              "2                               False  \n",
              "3                               False  \n",
              "4                               False  \n",
              "\n",
              "[5 rows x 59 columns]"
            ]
          },
          "execution_count": 40,
          "metadata": {},
          "output_type": "execute_result"
        }
      ],
      "source": [
        "df_valid.head()"
      ]
    },
    {
      "cell_type": "markdown",
      "metadata": {
        "id": "gWTyoP09SSVb"
      },
      "source": [
        "### Demonstrate how median is more robust than mean"
      ]
    },
    {
      "cell_type": "code",
      "execution_count": null,
      "metadata": {
        "colab": {
          "base_uri": "https://localhost:8080/"
        },
        "id": "reUu1NMTn_yS",
        "outputId": "e4b3975f-de32-4dcf-be25-9b0200feeb79"
      },
      "outputs": [
        {
          "data": {
            "text/plain": [
              "(100.0, 999100.8991008991, 100.0, 100.0)"
            ]
          },
          "execution_count": 41,
          "metadata": {},
          "output_type": "execute_result"
        }
      ],
      "source": [
        "hundreds = np.full((1000,), 100)\n",
        "hundreds_billion = np.append(hundreds, 1000000000)\n",
        "np.mean(hundreds), np.mean(hundreds_billion), np.median(hundreds), np.median(hundreds_billion)"
      ]
    },
    {
      "cell_type": "code",
      "execution_count": null,
      "metadata": {
        "id": "x1DrhL6hpBTg"
      },
      "outputs": [],
      "source": [
        "for label, content in df_train.items():\n",
        "  if pd.api.types.is_numeric_dtype(content):\n",
        "    if pd.isnull(content).sum():\n",
        "      print(label)"
      ]
    },
    {
      "cell_type": "markdown",
      "metadata": {
        "id": "NzDv740kpaAy"
      },
      "source": [
        "### Filling and turning categorical varibles into numbers"
      ]
    },
    {
      "cell_type": "code",
      "execution_count": null,
      "metadata": {
        "colab": {
          "base_uri": "https://localhost:8080/"
        },
        "id": "hb8NqWOGrrWx",
        "outputId": "120a06ec-d551-48b1-e9c1-6a7a15a67e00"
      },
      "outputs": [
        {
          "name": "stdout",
          "output_type": "stream",
          "text": [
            "UsageBand\n",
            "fiModelDesc\n",
            "fiBaseModel\n",
            "fiSecondaryDesc\n",
            "fiModelSeries\n",
            "fiModelDescriptor\n",
            "ProductSize\n",
            "fiProductClassDesc\n",
            "state\n",
            "ProductGroup\n",
            "ProductGroupDesc\n",
            "Drive_System\n",
            "Enclosure\n",
            "Forks\n",
            "Pad_Type\n",
            "Ride_Control\n",
            "Stick\n",
            "Transmission\n",
            "Turbocharged\n",
            "Blade_Extension\n",
            "Blade_Width\n",
            "Enclosure_Type\n",
            "Engine_Horsepower\n",
            "Hydraulics\n",
            "Pushblock\n",
            "Ripper\n",
            "Scarifier\n",
            "Tip_Control\n",
            "Tire_Size\n",
            "Coupler\n",
            "Coupler_System\n",
            "Grouser_Tracks\n",
            "Hydraulics_Flow\n",
            "Track_Type\n",
            "Undercarriage_Pad_Width\n",
            "Stick_Length\n",
            "Thumb\n",
            "Pattern_Changer\n",
            "Grouser_Type\n",
            "Backhoe_Mounting\n",
            "Blade_Type\n",
            "Travel_Controls\n",
            "Differential_Type\n",
            "Steering_Controls\n"
          ]
        }
      ],
      "source": [
        "# check for columns which are not numeric\n",
        "for label, content in df_train.items():\n",
        "  if not pd.api.types.is_numeric_dtype(content):\n",
        "    print(label)"
      ]
    },
    {
      "cell_type": "code",
      "execution_count": null,
      "metadata": {
        "colab": {
          "base_uri": "https://localhost:8080/"
        },
        "id": "g7tJAQSs2kBA",
        "outputId": "47529197-7f50-4a13-a2d9-46e548d44776"
      },
      "outputs": [
        {
          "name": "stdout",
          "output_type": "stream",
          "text": [
            "UsageBand\n",
            "fiModelDesc\n",
            "fiBaseModel\n",
            "fiSecondaryDesc\n",
            "fiModelSeries\n",
            "fiModelDescriptor\n",
            "ProductSize\n",
            "fiProductClassDesc\n",
            "state\n",
            "ProductGroup\n",
            "ProductGroupDesc\n",
            "Drive_System\n",
            "Enclosure\n",
            "Forks\n",
            "Pad_Type\n",
            "Ride_Control\n",
            "Stick\n",
            "Transmission\n",
            "Turbocharged\n",
            "Blade_Extension\n",
            "Blade_Width\n",
            "Enclosure_Type\n",
            "Engine_Horsepower\n",
            "Hydraulics\n",
            "Pushblock\n",
            "Ripper\n",
            "Scarifier\n",
            "Tip_Control\n",
            "Tire_Size\n",
            "Coupler\n",
            "Coupler_System\n",
            "Grouser_Tracks\n",
            "Hydraulics_Flow\n",
            "Track_Type\n",
            "Undercarriage_Pad_Width\n",
            "Stick_Length\n",
            "Thumb\n",
            "Pattern_Changer\n",
            "Grouser_Type\n",
            "Backhoe_Mounting\n",
            "Blade_Type\n",
            "Travel_Controls\n",
            "Differential_Type\n",
            "Steering_Controls\n"
          ]
        }
      ],
      "source": [
        "# check for columns which are not numeric\n",
        "for label, content in df_valid.items():\n",
        "  if not pd.api.types.is_numeric_dtype(content):\n",
        "    print(label)"
      ]
    },
    {
      "cell_type": "code",
      "execution_count": null,
      "metadata": {
        "id": "R9WnD55nCZIs"
      },
      "outputs": [],
      "source": [
        "# turn categorical varibles into numbers and fill missing values\n",
        "for label, content in df_train.items():\n",
        "  if not pd.api.types.is_numeric_dtype(content):\n",
        "    # Add a binary column to indiate whether sample had missing values\n",
        "    df_train[label+'_is_missing'] = pd.isnull(content)\n",
        "    # Turn categories into numbers and add +1\n",
        "    df_train[label] = pd.Categorical(content).codes + 1"
      ]
    },
    {
      "cell_type": "code",
      "execution_count": null,
      "metadata": {
        "id": "D4959cu7CZBg"
      },
      "outputs": [],
      "source": [
        "# turn categorical varibles into numbers and fill missing values\n",
        "for label, content in df_valid.items():\n",
        "  if not pd.api.types.is_numeric_dtype(content):\n",
        "    # Add a binary column to indiate whether sample had missing values\n",
        "    df_valid[label+'_is_missing'] = pd.isnull(content)\n",
        "    # Turn categories into numbers and add +1\n",
        "    df_valid[label] = pd.Categorical(content).codes + 1"
      ]
    },
    {
      "cell_type": "code",
      "execution_count": null,
      "metadata": {
        "colab": {
          "base_uri": "https://localhost:8080/"
        },
        "id": "sjIPcUeh2ZNl",
        "outputId": "8883504a-bfa8-4dfa-f1f7-993c12b0049d"
      },
      "outputs": [
        {
          "data": {
            "text/plain": [
              "((401125, 103), (11573, 103))"
            ]
          },
          "execution_count": 47,
          "metadata": {},
          "output_type": "execute_result"
        }
      ],
      "source": [
        "df_train.shape, df_valid.shape"
      ]
    },
    {
      "cell_type": "code",
      "execution_count": null,
      "metadata": {
        "colab": {
          "base_uri": "https://localhost:8080/"
        },
        "id": "-XbOtepUPB3h",
        "outputId": "54c90abe-d64a-46fd-ff81-25269b35c962"
      },
      "outputs": [
        {
          "data": {
            "text/plain": [
              "((401125, 102), (401125,), (11573, 102), (11573,))"
            ]
          },
          "execution_count": 48,
          "metadata": {},
          "output_type": "execute_result"
        }
      ],
      "source": [
        "# Split data into X and y\n",
        "X_train, y_train = df_train.drop('SalePrice', axis=1), df_train.SalePrice\n",
        "X_valid, y_valid = df_valid.drop('SalePrice', axis=1),  df_valid.SalePrice\n",
        "\n",
        "X_train.shape, y_train.shape, X_valid.shape, y_valid.shape"
      ]
    },
    {
      "cell_type": "code",
      "execution_count": null,
      "metadata": {
        "colab": {
          "base_uri": "https://localhost:8080/"
        },
        "id": "QwmjjvEaCY51",
        "outputId": "e4f16cbb-afcf-4426-995d-dec63903c603"
      },
      "outputs": [
        {
          "name": "stderr",
          "output_type": "stream",
          "text": [
            "[Parallel(n_jobs=-1)]: Using backend ThreadingBackend with 2 concurrent workers.\n",
            "[Parallel(n_jobs=-1)]: Done  46 tasks      | elapsed:  3.7min\n"
          ]
        },
        {
          "name": "stdout",
          "output_type": "stream",
          "text": [
            "CPU times: user 15min 19s, sys: 1.99 s, total: 15min 21s\n",
            "Wall time: 7min 50s\n"
          ]
        },
        {
          "name": "stderr",
          "output_type": "stream",
          "text": [
            "[Parallel(n_jobs=-1)]: Done 100 out of 100 | elapsed:  7.8min finished\n"
          ]
        },
        {
          "data": {
            "text/plain": [
              "RandomForestRegressor(n_jobs=-1, random_state=42, verbose=True)"
            ]
          },
          "execution_count": 49,
          "metadata": {},
          "output_type": "execute_result"
        }
      ],
      "source": [
        "%%time\n",
        "# Fitting the model with training data\n",
        "model = RandomForestRegressor(n_jobs=-1, random_state=42, verbose=True)\n",
        "model.fit(X_train, y_train)"
      ]
    },
    {
      "cell_type": "code",
      "execution_count": null,
      "metadata": {
        "colab": {
          "base_uri": "https://localhost:8080/"
        },
        "id": "xrAHXZfvEgVx",
        "outputId": "8a7dc508-c9cd-42e4-bbe7-3b11949faf8d"
      },
      "outputs": [
        {
          "name": "stderr",
          "output_type": "stream",
          "text": [
            "[Parallel(n_jobs=2)]: Using backend ThreadingBackend with 2 concurrent workers.\n",
            "[Parallel(n_jobs=2)]: Done  46 tasks      | elapsed:    4.9s\n",
            "[Parallel(n_jobs=2)]: Done 100 out of 100 | elapsed:   10.8s finished\n"
          ]
        },
        {
          "data": {
            "text/plain": [
              "0.9875207696134494"
            ]
          },
          "execution_count": 50,
          "metadata": {},
          "output_type": "execute_result"
        }
      ],
      "source": [
        "model.score(X_train, y_train)"
      ]
    },
    {
      "cell_type": "code",
      "execution_count": null,
      "metadata": {
        "colab": {
          "base_uri": "https://localhost:8080/"
        },
        "id": "ej9xTcf1HYqa",
        "outputId": "b7b7e3ee-ecdb-4441-c5b5-9d53de290e0a"
      },
      "outputs": [
        {
          "name": "stderr",
          "output_type": "stream",
          "text": [
            "[Parallel(n_jobs=2)]: Using backend ThreadingBackend with 2 concurrent workers.\n",
            "[Parallel(n_jobs=2)]: Done  46 tasks      | elapsed:    0.1s\n",
            "[Parallel(n_jobs=2)]: Done 100 out of 100 | elapsed:    0.2s finished\n"
          ]
        },
        {
          "data": {
            "text/plain": [
              "0.4887595706302311"
            ]
          },
          "execution_count": 51,
          "metadata": {},
          "output_type": "execute_result"
        }
      ],
      "source": [
        "model.score(X_valid, y_valid)"
      ]
    },
    {
      "cell_type": "markdown",
      "metadata": {
        "id": "bRz0Rfb3Gtaq"
      },
      "source": [
        "### Building an evaluation function"
      ]
    },
    {
      "cell_type": "code",
      "execution_count": null,
      "metadata": {
        "id": "P52RsP7rVgm0"
      },
      "outputs": [],
      "source": [
        "# Create evaluation function\n",
        "from sklearn.metrics import mean_squared_log_error, mean_absolute_error, r2_score\n",
        "\n",
        "def rmsle(y_test, y_pred):\n",
        "  \"\"\"\n",
        "  Calcualte root mean squared log error between predictions and true labels.\n",
        "  \"\"\"\n",
        "  return np.sqrt(mean_squared_log_error(y_test, y_pred))\n",
        "\n",
        "# Create function to evaluate models on few different levels\n",
        "def show_scores(model):\n",
        "  train_preds = model.predict(X_train)\n",
        "  valid_preds = model.predict(X_valid)\n",
        "  scores = {'Training MAE': mean_absolute_error(y_train, train_preds),\n",
        "             'Valid MAE': mean_absolute_error(y_valid, valid_preds),\n",
        "             'Training RMSLE': rmsle(y_train, train_preds),\n",
        "             'Valid RMSLE': rmsle(y_valid, valid_preds),\n",
        "             'Training R^2': r2_score(y_train, train_preds),\n",
        "             'Valid R^2': r2_score(y_valid, valid_preds)}\n",
        "  return scores"
      ]
    },
    {
      "cell_type": "markdown",
      "metadata": {
        "id": "QkAvojTbahEO"
      },
      "source": [
        "## Testing our model on a subset of data (to tune the hyperparameters)"
      ]
    },
    {
      "cell_type": "code",
      "execution_count": null,
      "metadata": {
        "colab": {
          "base_uri": "https://localhost:8080/"
        },
        "id": "VKnDtbDpbRBs",
        "outputId": "b6b5dced-7348-4ba0-e380-131f3b86d6b4"
      },
      "outputs": [
        {
          "name": "stderr",
          "output_type": "stream",
          "text": [
            "[Parallel(n_jobs=-1)]: Using backend ThreadingBackend with 2 concurrent workers.\n",
            "[Parallel(n_jobs=-1)]: Done  46 tasks      | elapsed:    7.8s\n"
          ]
        },
        {
          "name": "stdout",
          "output_type": "stream",
          "text": [
            "CPU times: user 31.3 s, sys: 191 ms, total: 31.5 s\n",
            "Wall time: 18 s\n"
          ]
        },
        {
          "name": "stderr",
          "output_type": "stream",
          "text": [
            "[Parallel(n_jobs=-1)]: Done 100 out of 100 | elapsed:   16.0s finished\n"
          ]
        },
        {
          "data": {
            "text/plain": [
              "RandomForestRegressor(max_samples=9999, n_jobs=-1, random_state=42,\n",
              "                      verbose=True)"
            ]
          },
          "execution_count": 53,
          "metadata": {},
          "output_type": "execute_result"
        }
      ],
      "source": [
        "# Change max_samples values\n",
        "%%time\n",
        "model = RandomForestRegressor(n_jobs=-1, random_state=42, max_samples=9999, verbose=True)\n",
        "model.fit(X_train, y_train)"
      ]
    },
    {
      "cell_type": "code",
      "execution_count": null,
      "metadata": {
        "colab": {
          "base_uri": "https://localhost:8080/"
        },
        "id": "9WEX4zV-g6Ug",
        "outputId": "f9d28e23-c474-48db-9b35-7aae9eebb998"
      },
      "outputs": [
        {
          "name": "stderr",
          "output_type": "stream",
          "text": [
            "[Parallel(n_jobs=2)]: Using backend ThreadingBackend with 2 concurrent workers.\n",
            "[Parallel(n_jobs=2)]: Done  46 tasks      | elapsed:    3.2s\n",
            "[Parallel(n_jobs=2)]: Done 100 out of 100 | elapsed:    5.9s finished\n",
            "[Parallel(n_jobs=2)]: Using backend ThreadingBackend with 2 concurrent workers.\n",
            "[Parallel(n_jobs=2)]: Done  46 tasks      | elapsed:    0.1s\n",
            "[Parallel(n_jobs=2)]: Done 100 out of 100 | elapsed:    0.1s finished\n"
          ]
        }
      ],
      "source": [
        "scores = show_scores(model)"
      ]
    },
    {
      "cell_type": "code",
      "execution_count": null,
      "metadata": {
        "colab": {
          "base_uri": "https://localhost:8080/"
        },
        "id": "rXI-FLlFhIrp",
        "outputId": "d15bddb2-fe3f-4688-fd83-c482e29a5047"
      },
      "outputs": [
        {
          "data": {
            "text/plain": [
              "{'Training MAE': 5564.697179283265,\n",
              " 'Valid MAE': 9792.947754255594,\n",
              " 'Training RMSLE': 0.2578801536251848,\n",
              " 'Valid RMSLE': 0.39013952069102786,\n",
              " 'Training R^2': 0.860519459212111,\n",
              " 'Valid R^2': 0.6618616221282357}"
            ]
          },
          "execution_count": 55,
          "metadata": {},
          "output_type": "execute_result"
        }
      ],
      "source": [
        "scores"
      ]
    },
    {
      "cell_type": "code",
      "execution_count": null,
      "metadata": {
        "colab": {
          "base_uri": "https://localhost:8080/",
          "height": 81
        },
        "id": "hvaB8v4eiGQF",
        "outputId": "de88612e-1b94-4b4a-a93b-22c84e490ec4"
      },
      "outputs": [
        {
          "data": {
            "text/html": [
              "\n",
              "  <div id=\"df-e99ca490-c425-417e-87d0-a9aabb74586d\">\n",
              "    <div class=\"colab-df-container\">\n",
              "      <div>\n",
              "<style scoped>\n",
              "    .dataframe tbody tr th:only-of-type {\n",
              "        vertical-align: middle;\n",
              "    }\n",
              "\n",
              "    .dataframe tbody tr th {\n",
              "        vertical-align: top;\n",
              "    }\n",
              "\n",
              "    .dataframe thead th {\n",
              "        text-align: right;\n",
              "    }\n",
              "</style>\n",
              "<table border=\"1\" class=\"dataframe\">\n",
              "  <thead>\n",
              "    <tr style=\"text-align: right;\">\n",
              "      <th></th>\n",
              "      <th>Training MAE</th>\n",
              "      <th>Valid MAE</th>\n",
              "      <th>Training RMSLE</th>\n",
              "      <th>Valid RMSLE</th>\n",
              "      <th>Training R^2</th>\n",
              "      <th>Valid R^2</th>\n",
              "    </tr>\n",
              "  </thead>\n",
              "  <tbody>\n",
              "    <tr>\n",
              "      <th>0</th>\n",
              "      <td>5564.697179</td>\n",
              "      <td>9792.947754</td>\n",
              "      <td>0.25788</td>\n",
              "      <td>0.39014</td>\n",
              "      <td>0.860519</td>\n",
              "      <td>0.661862</td>\n",
              "    </tr>\n",
              "  </tbody>\n",
              "</table>\n",
              "</div>\n",
              "      <button class=\"colab-df-convert\" onclick=\"convertToInteractive('df-e99ca490-c425-417e-87d0-a9aabb74586d')\"\n",
              "              title=\"Convert this dataframe to an interactive table.\"\n",
              "              style=\"display:none;\">\n",
              "        \n",
              "  <svg xmlns=\"http://www.w3.org/2000/svg\" height=\"24px\"viewBox=\"0 0 24 24\"\n",
              "       width=\"24px\">\n",
              "    <path d=\"M0 0h24v24H0V0z\" fill=\"none\"/>\n",
              "    <path d=\"M18.56 5.44l.94 2.06.94-2.06 2.06-.94-2.06-.94-.94-2.06-.94 2.06-2.06.94zm-11 1L8.5 8.5l.94-2.06 2.06-.94-2.06-.94L8.5 2.5l-.94 2.06-2.06.94zm10 10l.94 2.06.94-2.06 2.06-.94-2.06-.94-.94-2.06-.94 2.06-2.06.94z\"/><path d=\"M17.41 7.96l-1.37-1.37c-.4-.4-.92-.59-1.43-.59-.52 0-1.04.2-1.43.59L10.3 9.45l-7.72 7.72c-.78.78-.78 2.05 0 2.83L4 21.41c.39.39.9.59 1.41.59.51 0 1.02-.2 1.41-.59l7.78-7.78 2.81-2.81c.8-.78.8-2.07 0-2.86zM5.41 20L4 18.59l7.72-7.72 1.47 1.35L5.41 20z\"/>\n",
              "  </svg>\n",
              "      </button>\n",
              "      \n",
              "  <style>\n",
              "    .colab-df-container {\n",
              "      display:flex;\n",
              "      flex-wrap:wrap;\n",
              "      gap: 12px;\n",
              "    }\n",
              "\n",
              "    .colab-df-convert {\n",
              "      background-color: #E8F0FE;\n",
              "      border: none;\n",
              "      border-radius: 50%;\n",
              "      cursor: pointer;\n",
              "      display: none;\n",
              "      fill: #1967D2;\n",
              "      height: 32px;\n",
              "      padding: 0 0 0 0;\n",
              "      width: 32px;\n",
              "    }\n",
              "\n",
              "    .colab-df-convert:hover {\n",
              "      background-color: #E2EBFA;\n",
              "      box-shadow: 0px 1px 2px rgba(60, 64, 67, 0.3), 0px 1px 3px 1px rgba(60, 64, 67, 0.15);\n",
              "      fill: #174EA6;\n",
              "    }\n",
              "\n",
              "    [theme=dark] .colab-df-convert {\n",
              "      background-color: #3B4455;\n",
              "      fill: #D2E3FC;\n",
              "    }\n",
              "\n",
              "    [theme=dark] .colab-df-convert:hover {\n",
              "      background-color: #434B5C;\n",
              "      box-shadow: 0px 1px 3px 1px rgba(0, 0, 0, 0.15);\n",
              "      filter: drop-shadow(0px 1px 2px rgba(0, 0, 0, 0.3));\n",
              "      fill: #FFFFFF;\n",
              "    }\n",
              "  </style>\n",
              "\n",
              "      <script>\n",
              "        const buttonEl =\n",
              "          document.querySelector('#df-e99ca490-c425-417e-87d0-a9aabb74586d button.colab-df-convert');\n",
              "        buttonEl.style.display =\n",
              "          google.colab.kernel.accessAllowed ? 'block' : 'none';\n",
              "\n",
              "        async function convertToInteractive(key) {\n",
              "          const element = document.querySelector('#df-e99ca490-c425-417e-87d0-a9aabb74586d');\n",
              "          const dataTable =\n",
              "            await google.colab.kernel.invokeFunction('convertToInteractive',\n",
              "                                                     [key], {});\n",
              "          if (!dataTable) return;\n",
              "\n",
              "          const docLinkHtml = 'Like what you see? Visit the ' +\n",
              "            '<a target=\"_blank\" href=https://colab.research.google.com/notebooks/data_table.ipynb>data table notebook</a>'\n",
              "            + ' to learn more about interactive tables.';\n",
              "          element.innerHTML = '';\n",
              "          dataTable['output_type'] = 'display_data';\n",
              "          await google.colab.output.renderOutput(dataTable, element);\n",
              "          const docLink = document.createElement('div');\n",
              "          docLink.innerHTML = docLinkHtml;\n",
              "          element.appendChild(docLink);\n",
              "        }\n",
              "      </script>\n",
              "    </div>\n",
              "  </div>\n",
              "  "
            ],
            "text/plain": [
              "   Training MAE    Valid MAE  Training RMSLE  Valid RMSLE  Training R^2  \\\n",
              "0   5564.697179  9792.947754         0.25788      0.39014      0.860519   \n",
              "\n",
              "   Valid R^2  \n",
              "0   0.661862  "
            ]
          },
          "execution_count": 56,
          "metadata": {},
          "output_type": "execute_result"
        }
      ],
      "source": [
        "df_scores = pd.DataFrame(data=scores, index=[0])\n",
        "df_scores"
      ]
    },
    {
      "cell_type": "markdown",
      "metadata": {
        "id": "6HoQqX6ciOKr"
      },
      "source": [
        "## HyperParameter tuning with RandomizedSearchCV"
      ]
    },
    {
      "cell_type": "code",
      "execution_count": null,
      "metadata": {
        "colab": {
          "background_save": true,
          "base_uri": "https://localhost:8080/"
        },
        "id": "HlYfuOEIkEVz",
        "outputId": "1c30cca6-a1be-4822-be8c-31bce0e5e35c"
      },
      "outputs": [
        {
          "name": "stdout",
          "output_type": "stream",
          "text": [
            "Fitting 5 folds for each of 50 candidates, totalling 250 fits\n",
            "[CV 1/5] END max_depth=10, max_features=0.5, max_samples=10000, min_samples_leaf=7, min_samples_split=4, n_estimators=310;, score=0.471 total time=  26.4s\n",
            "[CV 2/5] END max_depth=10, max_features=0.5, max_samples=10000, min_samples_leaf=7, min_samples_split=4, n_estimators=310;, score=0.722 total time=  24.7s\n",
            "[CV 3/5] END max_depth=10, max_features=0.5, max_samples=10000, min_samples_leaf=7, min_samples_split=4, n_estimators=310;, score=0.754 total time=  23.5s\n",
            "[CV 4/5] END max_depth=10, max_features=0.5, max_samples=10000, min_samples_leaf=7, min_samples_split=4, n_estimators=310;, score=0.776 total time=  25.8s\n",
            "[CV 5/5] END max_depth=10, max_features=0.5, max_samples=10000, min_samples_leaf=7, min_samples_split=4, n_estimators=310;, score=0.753 total time=  24.4s\n",
            "[CV 1/5] END max_depth=10, max_features=sqrt, max_samples=10000, min_samples_leaf=17, min_samples_split=14, n_estimators=70;, score=0.412 total time=   3.9s\n",
            "[CV 2/5] END max_depth=10, max_features=sqrt, max_samples=10000, min_samples_leaf=17, min_samples_split=14, n_estimators=70;, score=0.632 total time=   3.9s\n",
            "[CV 3/5] END max_depth=10, max_features=sqrt, max_samples=10000, min_samples_leaf=17, min_samples_split=14, n_estimators=70;, score=0.656 total time=   3.6s\n",
            "[CV 4/5] END max_depth=10, max_features=sqrt, max_samples=10000, min_samples_leaf=17, min_samples_split=14, n_estimators=70;, score=0.662 total time=   3.9s\n",
            "[CV 5/5] END max_depth=10, max_features=sqrt, max_samples=10000, min_samples_leaf=17, min_samples_split=14, n_estimators=70;, score=0.635 total time=   3.9s\n",
            "[CV 1/5] END max_depth=10, max_features=1, max_samples=10000, min_samples_leaf=7, min_samples_split=16, n_estimators=450;, score=0.324 total time=   6.9s\n",
            "[CV 2/5] END max_depth=10, max_features=1, max_samples=10000, min_samples_leaf=7, min_samples_split=16, n_estimators=450;, score=0.451 total time=   7.1s\n",
            "[CV 3/5] END max_depth=10, max_features=1, max_samples=10000, min_samples_leaf=7, min_samples_split=16, n_estimators=450;, score=0.467 total time=   7.0s\n",
            "[CV 4/5] END max_depth=10, max_features=1, max_samples=10000, min_samples_leaf=7, min_samples_split=16, n_estimators=450;, score=0.473 total time=   6.6s\n",
            "[CV 5/5] END max_depth=10, max_features=1, max_samples=10000, min_samples_leaf=7, min_samples_split=16, n_estimators=450;, score=0.472 total time=   6.3s\n",
            "[CV 1/5] END max_depth=None, max_features=1, max_samples=10000, min_samples_leaf=13, min_samples_split=16, n_estimators=90;, score=0.325 total time=   3.6s\n",
            "[CV 2/5] END max_depth=None, max_features=1, max_samples=10000, min_samples_leaf=13, min_samples_split=16, n_estimators=90;, score=0.456 total time=   3.2s\n",
            "[CV 3/5] END max_depth=None, max_features=1, max_samples=10000, min_samples_leaf=13, min_samples_split=16, n_estimators=90;, score=0.477 total time=   3.4s\n",
            "[CV 4/5] END max_depth=None, max_features=1, max_samples=10000, min_samples_leaf=13, min_samples_split=16, n_estimators=90;, score=0.469 total time=   3.4s\n",
            "[CV 5/5] END max_depth=None, max_features=1, max_samples=10000, min_samples_leaf=13, min_samples_split=16, n_estimators=90;, score=0.469 total time=   3.6s\n",
            "[CV 1/5] END max_depth=None, max_features=auto, max_samples=10000, min_samples_leaf=11, min_samples_split=16, n_estimators=150;, score=0.502 total time=  24.1s\n",
            "[CV 2/5] END max_depth=None, max_features=auto, max_samples=10000, min_samples_leaf=11, min_samples_split=16, n_estimators=150;, score=0.772 total time=  22.4s\n",
            "[CV 3/5] END max_depth=None, max_features=auto, max_samples=10000, min_samples_leaf=11, min_samples_split=16, n_estimators=150;, score=0.800 total time=  23.1s\n",
            "[CV 4/5] END max_depth=None, max_features=auto, max_samples=10000, min_samples_leaf=11, min_samples_split=16, n_estimators=150;, score=0.773 total time=  22.4s\n",
            "[CV 5/5] END max_depth=None, max_features=auto, max_samples=10000, min_samples_leaf=11, min_samples_split=16, n_estimators=150;, score=0.770 total time=  22.3s\n",
            "[CV 1/5] END max_depth=10, max_features=sqrt, max_samples=10000, min_samples_leaf=15, min_samples_split=16, n_estimators=70;, score=0.410 total time=   3.9s\n",
            "[CV 2/5] END max_depth=10, max_features=sqrt, max_samples=10000, min_samples_leaf=15, min_samples_split=16, n_estimators=70;, score=0.633 total time=   3.9s\n",
            "[CV 3/5] END max_depth=10, max_features=sqrt, max_samples=10000, min_samples_leaf=15, min_samples_split=16, n_estimators=70;, score=0.659 total time=   3.9s\n",
            "[CV 4/5] END max_depth=10, max_features=sqrt, max_samples=10000, min_samples_leaf=15, min_samples_split=16, n_estimators=70;, score=0.664 total time=   3.7s\n",
            "[CV 5/5] END max_depth=10, max_features=sqrt, max_samples=10000, min_samples_leaf=15, min_samples_split=16, n_estimators=70;, score=0.636 total time=   3.8s\n",
            "[CV 1/5] END max_depth=10, max_features=1, max_samples=10000, min_samples_leaf=17, min_samples_split=8, n_estimators=470;, score=0.296 total time=   7.2s\n",
            "[CV 2/5] END max_depth=10, max_features=1, max_samples=10000, min_samples_leaf=17, min_samples_split=8, n_estimators=470;, score=0.410 total time=   7.1s\n",
            "[CV 3/5] END max_depth=10, max_features=1, max_samples=10000, min_samples_leaf=17, min_samples_split=8, n_estimators=470;, score=0.429 total time=   6.6s\n",
            "[CV 4/5] END max_depth=10, max_features=1, max_samples=10000, min_samples_leaf=17, min_samples_split=8, n_estimators=470;, score=0.430 total time=   6.5s\n",
            "[CV 5/5] END max_depth=10, max_features=1, max_samples=10000, min_samples_leaf=17, min_samples_split=8, n_estimators=470;, score=0.427 total time=   6.2s\n",
            "[CV 1/5] END max_depth=3, max_features=1, max_samples=10000, min_samples_leaf=9, min_samples_split=16, n_estimators=130;, score=0.151 total time=   2.8s\n",
            "[CV 2/5] END max_depth=3, max_features=1, max_samples=10000, min_samples_leaf=9, min_samples_split=16, n_estimators=130;, score=0.185 total time=   2.8s\n",
            "[CV 3/5] END max_depth=3, max_features=1, max_samples=10000, min_samples_leaf=9, min_samples_split=16, n_estimators=130;, score=0.195 total time=   2.9s\n",
            "[CV 4/5] END max_depth=3, max_features=1, max_samples=10000, min_samples_leaf=9, min_samples_split=16, n_estimators=130;, score=0.200 total time=   2.8s\n",
            "[CV 5/5] END max_depth=3, max_features=1, max_samples=10000, min_samples_leaf=9, min_samples_split=16, n_estimators=130;, score=0.210 total time=   3.0s\n",
            "[CV 1/5] END max_depth=10, max_features=1, max_samples=10000, min_samples_leaf=15, min_samples_split=4, n_estimators=430;, score=0.304 total time=   6.0s\n",
            "[CV 2/5] END max_depth=10, max_features=1, max_samples=10000, min_samples_leaf=15, min_samples_split=4, n_estimators=430;, score=0.427 total time=   6.6s\n",
            "[CV 3/5] END max_depth=10, max_features=1, max_samples=10000, min_samples_leaf=15, min_samples_split=4, n_estimators=430;, score=0.430 total time=   6.4s\n",
            "[CV 4/5] END max_depth=10, max_features=1, max_samples=10000, min_samples_leaf=15, min_samples_split=4, n_estimators=430;, score=0.435 total time=   9.3s\n",
            "[CV 5/5] END max_depth=10, max_features=1, max_samples=10000, min_samples_leaf=15, min_samples_split=4, n_estimators=430;, score=0.440 total time=   5.9s\n",
            "[CV 1/5] END max_depth=None, max_features=0.5, max_samples=10000, min_samples_leaf=15, min_samples_split=16, n_estimators=290;, score=0.479 total time=  23.7s\n",
            "[CV 2/5] END max_depth=None, max_features=0.5, max_samples=10000, min_samples_leaf=15, min_samples_split=16, n_estimators=290;, score=0.743 total time=  23.5s\n",
            "[CV 3/5] END max_depth=None, max_features=0.5, max_samples=10000, min_samples_leaf=15, min_samples_split=16, n_estimators=290;, score=0.779 total time=  23.9s\n",
            "[CV 4/5] END max_depth=None, max_features=0.5, max_samples=10000, min_samples_leaf=15, min_samples_split=16, n_estimators=290;, score=0.778 total time=  23.5s\n",
            "[CV 5/5] END max_depth=None, max_features=0.5, max_samples=10000, min_samples_leaf=15, min_samples_split=16, n_estimators=290;, score=0.751 total time=  22.6s\n",
            "[CV 1/5] END max_depth=None, max_features=1, max_samples=10000, min_samples_leaf=11, min_samples_split=16, n_estimators=330;, score=0.332 total time=   6.0s\n",
            "[CV 2/5] END max_depth=None, max_features=1, max_samples=10000, min_samples_leaf=11, min_samples_split=16, n_estimators=330;, score=0.475 total time=   5.4s\n",
            "[CV 3/5] END max_depth=None, max_features=1, max_samples=10000, min_samples_leaf=11, min_samples_split=16, n_estimators=330;, score=0.489 total time=   5.9s\n",
            "[CV 4/5] END max_depth=None, max_features=1, max_samples=10000, min_samples_leaf=11, min_samples_split=16, n_estimators=330;, score=0.487 total time=   5.8s\n",
            "[CV 5/5] END max_depth=None, max_features=1, max_samples=10000, min_samples_leaf=11, min_samples_split=16, n_estimators=330;, score=0.479 total time=   6.2s\n",
            "[CV 1/5] END max_depth=3, max_features=sqrt, max_samples=10000, min_samples_leaf=11, min_samples_split=14, n_estimators=350;, score=0.239 total time=   5.8s\n",
            "[CV 2/5] END max_depth=3, max_features=sqrt, max_samples=10000, min_samples_leaf=11, min_samples_split=14, n_estimators=350;, score=0.337 total time=   5.4s\n",
            "[CV 3/5] END max_depth=3, max_features=sqrt, max_samples=10000, min_samples_leaf=11, min_samples_split=14, n_estimators=350;, score=0.350 total time=   5.9s\n",
            "[CV 4/5] END max_depth=3, max_features=sqrt, max_samples=10000, min_samples_leaf=11, min_samples_split=14, n_estimators=350;, score=0.351 total time=   5.9s\n",
            "[CV 5/5] END max_depth=3, max_features=sqrt, max_samples=10000, min_samples_leaf=11, min_samples_split=14, n_estimators=350;, score=0.357 total time=   5.9s\n",
            "[CV 1/5] END max_depth=5, max_features=sqrt, max_samples=10000, min_samples_leaf=1, min_samples_split=14, n_estimators=110;, score=0.300 total time=   5.0s\n",
            "[CV 2/5] END max_depth=5, max_features=sqrt, max_samples=10000, min_samples_leaf=1, min_samples_split=14, n_estimators=110;, score=0.469 total time=   4.0s\n",
            "[CV 3/5] END max_depth=5, max_features=sqrt, max_samples=10000, min_samples_leaf=1, min_samples_split=14, n_estimators=110;, score=0.490 total time=   3.9s\n",
            "[CV 4/5] END max_depth=5, max_features=sqrt, max_samples=10000, min_samples_leaf=1, min_samples_split=14, n_estimators=110;, score=0.493 total time=   3.6s\n",
            "[CV 5/5] END max_depth=5, max_features=sqrt, max_samples=10000, min_samples_leaf=1, min_samples_split=14, n_estimators=110;, score=0.496 total time=   3.9s\n",
            "[CV 1/5] END max_depth=10, max_features=1, max_samples=10000, min_samples_leaf=13, min_samples_split=18, n_estimators=210;, score=0.299 total time=   4.4s\n",
            "[CV 2/5] END max_depth=10, max_features=1, max_samples=10000, min_samples_leaf=13, min_samples_split=18, n_estimators=210;, score=0.421 total time=   4.6s\n",
            "[CV 3/5] END max_depth=10, max_features=1, max_samples=10000, min_samples_leaf=13, min_samples_split=18, n_estimators=210;, score=0.429 total time=   4.7s\n",
            "[CV 4/5] END max_depth=10, max_features=1, max_samples=10000, min_samples_leaf=13, min_samples_split=18, n_estimators=210;, score=0.444 total time=   4.5s\n",
            "[CV 5/5] END max_depth=10, max_features=1, max_samples=10000, min_samples_leaf=13, min_samples_split=18, n_estimators=210;, score=0.443 total time=   4.4s\n",
            "[CV 1/5] END max_depth=None, max_features=0.5, max_samples=10000, min_samples_leaf=1, min_samples_split=6, n_estimators=430;, score=0.552 total time=  44.4s\n",
            "[CV 2/5] END max_depth=None, max_features=0.5, max_samples=10000, min_samples_leaf=1, min_samples_split=6, n_estimators=430;, score=0.776 total time=  44.4s\n",
            "[CV 3/5] END max_depth=None, max_features=0.5, max_samples=10000, min_samples_leaf=1, min_samples_split=6, n_estimators=430;, score=0.818 total time=  43.2s\n",
            "[CV 4/5] END max_depth=None, max_features=0.5, max_samples=10000, min_samples_leaf=1, min_samples_split=6, n_estimators=430;, score=0.814 total time=  44.2s\n",
            "[CV 5/5] END max_depth=None, max_features=0.5, max_samples=10000, min_samples_leaf=1, min_samples_split=6, n_estimators=430;, score=0.799 total time=  43.9s\n",
            "[CV 1/5] END max_depth=None, max_features=1, max_samples=10000, min_samples_leaf=15, min_samples_split=10, n_estimators=230;, score=0.323 total time=   4.6s\n",
            "[CV 2/5] END max_depth=None, max_features=1, max_samples=10000, min_samples_leaf=15, min_samples_split=10, n_estimators=230;, score=0.456 total time=   4.7s\n",
            "[CV 3/5] END max_depth=None, max_features=1, max_samples=10000, min_samples_leaf=15, min_samples_split=10, n_estimators=230;, score=0.462 total time=   4.5s\n",
            "[CV 4/5] END max_depth=None, max_features=1, max_samples=10000, min_samples_leaf=15, min_samples_split=10, n_estimators=230;, score=0.459 total time=   4.2s\n",
            "[CV 5/5] END max_depth=None, max_features=1, max_samples=10000, min_samples_leaf=15, min_samples_split=10, n_estimators=230;, score=0.454 total time=   4.8s\n",
            "[CV 1/5] END max_depth=10, max_features=auto, max_samples=10000, min_samples_leaf=17, min_samples_split=2, n_estimators=310;, score=0.475 total time=  40.3s\n",
            "[CV 2/5] END max_depth=10, max_features=auto, max_samples=10000, min_samples_leaf=17, min_samples_split=2, n_estimators=310;, score=0.746 total time=  38.9s\n",
            "[CV 3/5] END max_depth=10, max_features=auto, max_samples=10000, min_samples_leaf=17, min_samples_split=2, n_estimators=310;, score=0.767 total time=  38.6s\n",
            "[CV 4/5] END max_depth=10, max_features=auto, max_samples=10000, min_samples_leaf=17, min_samples_split=2, n_estimators=310;, score=0.753 total time=  38.1s\n",
            "[CV 5/5] END max_depth=10, max_features=auto, max_samples=10000, min_samples_leaf=17, min_samples_split=2, n_estimators=310;, score=0.744 total time=  36.3s\n",
            "[CV 1/5] END max_depth=5, max_features=sqrt, max_samples=10000, min_samples_leaf=19, min_samples_split=18, n_estimators=290;, score=0.312 total time=   5.9s\n",
            "[CV 2/5] END max_depth=5, max_features=sqrt, max_samples=10000, min_samples_leaf=19, min_samples_split=18, n_estimators=290;, score=0.469 total time=   6.3s\n",
            "[CV 3/5] END max_depth=5, max_features=sqrt, max_samples=10000, min_samples_leaf=19, min_samples_split=18, n_estimators=290;, score=0.491 total time=   6.1s\n",
            "[CV 4/5] END max_depth=5, max_features=sqrt, max_samples=10000, min_samples_leaf=19, min_samples_split=18, n_estimators=290;, score=0.490 total time=   6.0s\n",
            "[CV 5/5] END max_depth=5, max_features=sqrt, max_samples=10000, min_samples_leaf=19, min_samples_split=18, n_estimators=290;, score=0.490 total time=   6.0s\n",
            "[CV 1/5] END max_depth=10, max_features=1, max_samples=10000, min_samples_leaf=1, min_samples_split=18, n_estimators=450;, score=0.353 total time=   7.5s\n",
            "[CV 2/5] END max_depth=10, max_features=1, max_samples=10000, min_samples_leaf=1, min_samples_split=18, n_estimators=450;, score=0.504 total time=   7.9s\n",
            "[CV 3/5] END max_depth=10, max_features=1, max_samples=10000, min_samples_leaf=1, min_samples_split=18, n_estimators=450;, score=0.522 total time=   7.6s\n",
            "[CV 4/5] END max_depth=10, max_features=1, max_samples=10000, min_samples_leaf=1, min_samples_split=18, n_estimators=450;, score=0.531 total time=   7.3s\n",
            "[CV 5/5] END max_depth=10, max_features=1, max_samples=10000, min_samples_leaf=1, min_samples_split=18, n_estimators=450;, score=0.528 total time=   7.8s\n",
            "[CV 1/5] END max_depth=5, max_features=1, max_samples=10000, min_samples_leaf=5, min_samples_split=4, n_estimators=470;, score=0.226 total time=   5.6s\n",
            "[CV 2/5] END max_depth=5, max_features=1, max_samples=10000, min_samples_leaf=5, min_samples_split=4, n_estimators=470;, score=0.292 total time=   5.1s\n",
            "[CV 3/5] END max_depth=5, max_features=1, max_samples=10000, min_samples_leaf=5, min_samples_split=4, n_estimators=470;, score=0.305 total time=   5.2s\n",
            "[CV 4/5] END max_depth=5, max_features=1, max_samples=10000, min_samples_leaf=5, min_samples_split=4, n_estimators=470;, score=0.311 total time=   5.1s\n",
            "[CV 5/5] END max_depth=5, max_features=1, max_samples=10000, min_samples_leaf=5, min_samples_split=4, n_estimators=470;, score=0.331 total time=   5.2s\n",
            "[CV 1/5] END max_depth=5, max_features=1, max_samples=10000, min_samples_leaf=17, min_samples_split=4, n_estimators=470;, score=0.218 total time=   4.8s\n",
            "[CV 2/5] END max_depth=5, max_features=1, max_samples=10000, min_samples_leaf=17, min_samples_split=4, n_estimators=470;, score=0.284 total time=   5.1s\n",
            "[CV 3/5] END max_depth=5, max_features=1, max_samples=10000, min_samples_leaf=17, min_samples_split=4, n_estimators=470;, score=0.297 total time=   5.2s\n",
            "[CV 4/5] END max_depth=5, max_features=1, max_samples=10000, min_samples_leaf=17, min_samples_split=4, n_estimators=470;, score=0.303 total time=   5.0s\n",
            "[CV 5/5] END max_depth=5, max_features=1, max_samples=10000, min_samples_leaf=17, min_samples_split=4, n_estimators=470;, score=0.316 total time=   4.9s\n",
            "[CV 1/5] END max_depth=5, max_features=0.5, max_samples=10000, min_samples_leaf=17, min_samples_split=4, n_estimators=330;, score=0.338 total time=  19.1s\n",
            "[CV 2/5] END max_depth=5, max_features=0.5, max_samples=10000, min_samples_leaf=17, min_samples_split=4, n_estimators=330;, score=0.603 total time=  17.5s\n",
            "[CV 3/5] END max_depth=5, max_features=0.5, max_samples=10000, min_samples_leaf=17, min_samples_split=4, n_estimators=330;, score=0.624 total time=  17.0s\n",
            "[CV 4/5] END max_depth=5, max_features=0.5, max_samples=10000, min_samples_leaf=17, min_samples_split=4, n_estimators=330;, score=0.617 total time=  16.8s\n",
            "[CV 5/5] END max_depth=5, max_features=0.5, max_samples=10000, min_samples_leaf=17, min_samples_split=4, n_estimators=330;, score=0.600 total time=  17.4s\n",
            "[CV 1/5] END max_depth=None, max_features=auto, max_samples=10000, min_samples_leaf=17, min_samples_split=18, n_estimators=410;, score=0.487 total time=  56.5s\n",
            "[CV 2/5] END max_depth=None, max_features=auto, max_samples=10000, min_samples_leaf=17, min_samples_split=18, n_estimators=410;, score=0.764 total time=  54.1s\n",
            "[CV 3/5] END max_depth=None, max_features=auto, max_samples=10000, min_samples_leaf=17, min_samples_split=18, n_estimators=410;, score=0.788 total time=  55.9s\n",
            "[CV 4/5] END max_depth=None, max_features=auto, max_samples=10000, min_samples_leaf=17, min_samples_split=18, n_estimators=410;, score=0.760 total time=  55.8s\n",
            "[CV 5/5] END max_depth=None, max_features=auto, max_samples=10000, min_samples_leaf=17, min_samples_split=18, n_estimators=410;, score=0.754 total time=  52.8s\n",
            "[CV 1/5] END max_depth=3, max_features=sqrt, max_samples=10000, min_samples_leaf=1, min_samples_split=6, n_estimators=390;, score=0.240 total time=   5.8s\n",
            "[CV 2/5] END max_depth=3, max_features=sqrt, max_samples=10000, min_samples_leaf=1, min_samples_split=6, n_estimators=390;, score=0.336 total time=   6.1s\n",
            "[CV 3/5] END max_depth=3, max_features=sqrt, max_samples=10000, min_samples_leaf=1, min_samples_split=6, n_estimators=390;, score=0.349 total time=   6.2s\n",
            "[CV 4/5] END max_depth=3, max_features=sqrt, max_samples=10000, min_samples_leaf=1, min_samples_split=6, n_estimators=390;, score=0.350 total time=   5.9s\n",
            "[CV 5/5] END max_depth=3, max_features=sqrt, max_samples=10000, min_samples_leaf=1, min_samples_split=6, n_estimators=390;, score=0.356 total time=   6.0s\n",
            "[CV 1/5] END max_depth=3, max_features=0.5, max_samples=10000, min_samples_leaf=7, min_samples_split=10, n_estimators=470;, score=0.230 total time=  17.5s\n",
            "[CV 2/5] END max_depth=3, max_features=0.5, max_samples=10000, min_samples_leaf=7, min_samples_split=10, n_estimators=470;, score=0.495 total time=  16.5s\n",
            "[CV 3/5] END max_depth=3, max_features=0.5, max_samples=10000, min_samples_leaf=7, min_samples_split=10, n_estimators=470;, score=0.499 total time=  15.1s\n",
            "[CV 4/5] END max_depth=3, max_features=0.5, max_samples=10000, min_samples_leaf=7, min_samples_split=10, n_estimators=470;, score=0.494 total time=  16.1s\n",
            "[CV 5/5] END max_depth=3, max_features=0.5, max_samples=10000, min_samples_leaf=7, min_samples_split=10, n_estimators=470;, score=0.493 total time=  15.6s\n",
            "[CV 1/5] END max_depth=3, max_features=0.5, max_samples=10000, min_samples_leaf=19, min_samples_split=6, n_estimators=370;, score=0.227 total time=  14.0s\n",
            "[CV 2/5] END max_depth=3, max_features=0.5, max_samples=10000, min_samples_leaf=19, min_samples_split=6, n_estimators=370;, score=0.493 total time=  13.4s\n",
            "[CV 3/5] END max_depth=3, max_features=0.5, max_samples=10000, min_samples_leaf=19, min_samples_split=6, n_estimators=370;, score=0.497 total time=  13.0s\n",
            "[CV 4/5] END max_depth=3, max_features=0.5, max_samples=10000, min_samples_leaf=19, min_samples_split=6, n_estimators=370;, score=0.493 total time=  14.1s\n",
            "[CV 5/5] END max_depth=3, max_features=0.5, max_samples=10000, min_samples_leaf=19, min_samples_split=6, n_estimators=370;, score=0.493 total time=  13.0s\n",
            "[CV 1/5] END max_depth=5, max_features=0.5, max_samples=10000, min_samples_leaf=15, min_samples_split=14, n_estimators=310;, score=0.337 total time=  16.2s\n",
            "[CV 2/5] END max_depth=5, max_features=0.5, max_samples=10000, min_samples_leaf=15, min_samples_split=14, n_estimators=310;, score=0.602 total time=  16.2s\n",
            "[CV 3/5] END max_depth=5, max_features=0.5, max_samples=10000, min_samples_leaf=15, min_samples_split=14, n_estimators=310;, score=0.624 total time=  16.3s\n",
            "[CV 4/5] END max_depth=5, max_features=0.5, max_samples=10000, min_samples_leaf=15, min_samples_split=14, n_estimators=310;, score=0.617 total time=  16.6s\n",
            "[CV 5/5] END max_depth=5, max_features=0.5, max_samples=10000, min_samples_leaf=15, min_samples_split=14, n_estimators=310;, score=0.599 total time=  16.1s\n",
            "[CV 1/5] END max_depth=10, max_features=sqrt, max_samples=10000, min_samples_leaf=1, min_samples_split=6, n_estimators=490;, score=0.428 total time=  14.4s\n",
            "[CV 2/5] END max_depth=10, max_features=sqrt, max_samples=10000, min_samples_leaf=1, min_samples_split=6, n_estimators=490;, score=0.650 total time=  13.1s\n",
            "[CV 3/5] END max_depth=10, max_features=sqrt, max_samples=10000, min_samples_leaf=1, min_samples_split=6, n_estimators=490;, score=0.679 total time=  14.1s\n",
            "[CV 4/5] END max_depth=10, max_features=sqrt, max_samples=10000, min_samples_leaf=1, min_samples_split=6, n_estimators=490;, score=0.687 total time=  14.3s\n",
            "[CV 5/5] END max_depth=10, max_features=sqrt, max_samples=10000, min_samples_leaf=1, min_samples_split=6, n_estimators=490;, score=0.666 total time=  13.7s\n",
            "[CV 1/5] END max_depth=3, max_features=1, max_samples=10000, min_samples_leaf=17, min_samples_split=10, n_estimators=390;, score=0.152 total time=   3.9s\n",
            "[CV 2/5] END max_depth=3, max_features=1, max_samples=10000, min_samples_leaf=17, min_samples_split=10, n_estimators=390;, score=0.184 total time=   4.2s\n",
            "[CV 3/5] END max_depth=3, max_features=1, max_samples=10000, min_samples_leaf=17, min_samples_split=10, n_estimators=390;, score=0.194 total time=   4.0s\n",
            "[CV 4/5] END max_depth=3, max_features=1, max_samples=10000, min_samples_leaf=17, min_samples_split=10, n_estimators=390;, score=0.200 total time=   4.0s\n",
            "[CV 5/5] END max_depth=3, max_features=1, max_samples=10000, min_samples_leaf=17, min_samples_split=10, n_estimators=390;, score=0.209 total time=   4.0s\n",
            "[CV 1/5] END max_depth=3, max_features=auto, max_samples=10000, min_samples_leaf=19, min_samples_split=2, n_estimators=90;, score=0.229 total time=   6.7s\n",
            "[CV 2/5] END max_depth=3, max_features=auto, max_samples=10000, min_samples_leaf=19, min_samples_split=2, n_estimators=90;, score=0.501 total time=   7.3s\n",
            "[CV 3/5] END max_depth=3, max_features=auto, max_samples=10000, min_samples_leaf=19, min_samples_split=2, n_estimators=90;, score=0.503 total time=   6.9s\n",
            "[CV 4/5] END max_depth=3, max_features=auto, max_samples=10000, min_samples_leaf=19, min_samples_split=2, n_estimators=90;, score=0.473 total time=   7.5s\n",
            "[CV 5/5] END max_depth=3, max_features=auto, max_samples=10000, min_samples_leaf=19, min_samples_split=2, n_estimators=90;, score=0.475 total time=   6.8s\n",
            "[CV 1/5] END max_depth=None, max_features=0.5, max_samples=10000, min_samples_leaf=7, min_samples_split=8, n_estimators=150;, score=0.506 total time=  14.6s\n",
            "[CV 2/5] END max_depth=None, max_features=0.5, max_samples=10000, min_samples_leaf=7, min_samples_split=8, n_estimators=150;, score=0.761 total time=  14.3s\n",
            "[CV 3/5] END max_depth=None, max_features=0.5, max_samples=10000, min_samples_leaf=7, min_samples_split=8, n_estimators=150;, score=0.798 total time=  15.2s\n",
            "[CV 4/5] END max_depth=None, max_features=0.5, max_samples=10000, min_samples_leaf=7, min_samples_split=8, n_estimators=150;, score=0.800 total time=  14.2s\n",
            "[CV 5/5] END max_depth=None, max_features=0.5, max_samples=10000, min_samples_leaf=7, min_samples_split=8, n_estimators=150;, score=0.776 total time=  15.1s\n",
            "[CV 1/5] END max_depth=None, max_features=1, max_samples=10000, min_samples_leaf=3, min_samples_split=16, n_estimators=110;, score=0.397 total time=   3.6s\n",
            "[CV 2/5] END max_depth=None, max_features=1, max_samples=10000, min_samples_leaf=3, min_samples_split=16, n_estimators=110;, score=0.571 total time=   3.8s\n",
            "[CV 3/5] END max_depth=None, max_features=1, max_samples=10000, min_samples_leaf=3, min_samples_split=16, n_estimators=110;, score=0.590 total time=   3.7s\n",
            "[CV 4/5] END max_depth=None, max_features=1, max_samples=10000, min_samples_leaf=3, min_samples_split=16, n_estimators=110;, score=0.567 total time=   3.9s\n",
            "[CV 5/5] END max_depth=None, max_features=1, max_samples=10000, min_samples_leaf=3, min_samples_split=16, n_estimators=110;, score=0.563 total time=   3.8s\n",
            "[CV 1/5] END max_depth=None, max_features=0.5, max_samples=10000, min_samples_leaf=9, min_samples_split=14, n_estimators=110;, score=0.491 total time=  10.6s\n",
            "[CV 2/5] END max_depth=None, max_features=0.5, max_samples=10000, min_samples_leaf=9, min_samples_split=14, n_estimators=110;, score=0.757 total time=  10.7s\n",
            "[CV 3/5] END max_depth=None, max_features=0.5, max_samples=10000, min_samples_leaf=9, min_samples_split=14, n_estimators=110;, score=0.792 total time=  11.2s\n",
            "[CV 4/5] END max_depth=None, max_features=0.5, max_samples=10000, min_samples_leaf=9, min_samples_split=14, n_estimators=110;, score=0.793 total time=  10.7s\n",
            "[CV 5/5] END max_depth=None, max_features=0.5, max_samples=10000, min_samples_leaf=9, min_samples_split=14, n_estimators=110;, score=0.770 total time=  10.9s\n",
            "[CV 1/5] END max_depth=None, max_features=auto, max_samples=10000, min_samples_leaf=11, min_samples_split=12, n_estimators=410;, score=0.503 total time=  58.8s\n",
            "[CV 2/5] END max_depth=None, max_features=auto, max_samples=10000, min_samples_leaf=11, min_samples_split=12, n_estimators=410;, score=0.773 total time=  57.9s\n",
            "[CV 3/5] END max_depth=None, max_features=auto, max_samples=10000, min_samples_leaf=11, min_samples_split=12, n_estimators=410;, score=0.800 total time=  57.1s\n",
            "[CV 4/5] END max_depth=None, max_features=auto, max_samples=10000, min_samples_leaf=11, min_samples_split=12, n_estimators=410;, score=0.774 total time=  57.6s\n",
            "[CV 5/5] END max_depth=None, max_features=auto, max_samples=10000, min_samples_leaf=11, min_samples_split=12, n_estimators=410;, score=0.770 total time=  56.2s\n",
            "[CV 1/5] END max_depth=10, max_features=0.5, max_samples=10000, min_samples_leaf=3, min_samples_split=14, n_estimators=330;, score=0.479 total time=  26.2s\n",
            "[CV 2/5] END max_depth=10, max_features=0.5, max_samples=10000, min_samples_leaf=3, min_samples_split=14, n_estimators=330;, score=0.721 total time=  26.1s\n",
            "[CV 3/5] END max_depth=10, max_features=0.5, max_samples=10000, min_samples_leaf=3, min_samples_split=14, n_estimators=330;, score=0.756 total time=  27.8s\n",
            "[CV 4/5] END max_depth=10, max_features=0.5, max_samples=10000, min_samples_leaf=3, min_samples_split=14, n_estimators=330;, score=0.779 total time=  25.2s\n",
            "[CV 5/5] END max_depth=10, max_features=0.5, max_samples=10000, min_samples_leaf=3, min_samples_split=14, n_estimators=330;, score=0.759 total time=  25.8s\n",
            "[CV 1/5] END max_depth=10, max_features=auto, max_samples=10000, min_samples_leaf=3, min_samples_split=18, n_estimators=190;, score=0.499 total time=  25.3s\n",
            "[CV 2/5] END max_depth=10, max_features=auto, max_samples=10000, min_samples_leaf=3, min_samples_split=18, n_estimators=190;, score=0.753 total time=  25.8s\n",
            "[CV 3/5] END max_depth=10, max_features=auto, max_samples=10000, min_samples_leaf=3, min_samples_split=18, n_estimators=190;, score=0.779 total time=  25.9s\n",
            "[CV 4/5] END max_depth=10, max_features=auto, max_samples=10000, min_samples_leaf=3, min_samples_split=18, n_estimators=190;, score=0.771 total time=  25.8s\n",
            "[CV 5/5] END max_depth=10, max_features=auto, max_samples=10000, min_samples_leaf=3, min_samples_split=18, n_estimators=190;, score=0.770 total time=  25.6s\n",
            "[CV 1/5] END max_depth=3, max_features=sqrt, max_samples=10000, min_samples_leaf=15, min_samples_split=12, n_estimators=10;, score=0.245 total time=   2.2s\n",
            "[CV 2/5] END max_depth=3, max_features=sqrt, max_samples=10000, min_samples_leaf=15, min_samples_split=12, n_estimators=10;, score=0.349 total time=   2.3s\n",
            "[CV 3/5] END max_depth=3, max_features=sqrt, max_samples=10000, min_samples_leaf=15, min_samples_split=12, n_estimators=10;, score=0.368 total time=   2.4s\n",
            "[CV 4/5] END max_depth=3, max_features=sqrt, max_samples=10000, min_samples_leaf=15, min_samples_split=12, n_estimators=10;, score=0.363 total time=   2.2s\n",
            "[CV 5/5] END max_depth=3, max_features=sqrt, max_samples=10000, min_samples_leaf=15, min_samples_split=12, n_estimators=10;, score=0.380 total time=   2.2s\n",
            "[CV 1/5] END max_depth=3, max_features=0.5, max_samples=10000, min_samples_leaf=19, min_samples_split=4, n_estimators=450;, score=0.228 total time=  16.2s\n",
            "[CV 2/5] END max_depth=3, max_features=0.5, max_samples=10000, min_samples_leaf=19, min_samples_split=4, n_estimators=450;, score=0.495 total time=  16.2s\n",
            "[CV 3/5] END max_depth=3, max_features=0.5, max_samples=10000, min_samples_leaf=19, min_samples_split=4, n_estimators=450;, score=0.498 total time=  14.5s\n",
            "[CV 4/5] END max_depth=3, max_features=0.5, max_samples=10000, min_samples_leaf=19, min_samples_split=4, n_estimators=450;, score=0.493 total time=  15.4s\n",
            "[CV 5/5] END max_depth=3, max_features=0.5, max_samples=10000, min_samples_leaf=19, min_samples_split=4, n_estimators=450;, score=0.492 total time=  16.3s\n",
            "[CV 1/5] END max_depth=None, max_features=1, max_samples=10000, min_samples_leaf=11, min_samples_split=14, n_estimators=110;, score=0.331 total time=   3.6s\n",
            "[CV 2/5] END max_depth=None, max_features=1, max_samples=10000, min_samples_leaf=11, min_samples_split=14, n_estimators=110;, score=0.475 total time=   3.5s\n",
            "[CV 3/5] END max_depth=None, max_features=1, max_samples=10000, min_samples_leaf=11, min_samples_split=14, n_estimators=110;, score=0.490 total time=   3.3s\n",
            "[CV 4/5] END max_depth=None, max_features=1, max_samples=10000, min_samples_leaf=11, min_samples_split=14, n_estimators=110;, score=0.492 total time=   3.6s\n",
            "[CV 5/5] END max_depth=None, max_features=1, max_samples=10000, min_samples_leaf=11, min_samples_split=14, n_estimators=110;, score=0.475 total time=   3.3s\n",
            "[CV 1/5] END max_depth=10, max_features=1, max_samples=10000, min_samples_leaf=13, min_samples_split=16, n_estimators=390;, score=0.303 total time=   6.5s\n",
            "[CV 2/5] END max_depth=10, max_features=1, max_samples=10000, min_samples_leaf=13, min_samples_split=16, n_estimators=390;, score=0.425 total time=   6.1s\n",
            "[CV 3/5] END max_depth=10, max_features=1, max_samples=10000, min_samples_leaf=13, min_samples_split=16, n_estimators=390;, score=0.435 total time=   6.2s\n",
            "[CV 4/5] END max_depth=10, max_features=1, max_samples=10000, min_samples_leaf=13, min_samples_split=16, n_estimators=390;, score=0.442 total time=   6.3s\n",
            "[CV 5/5] END max_depth=10, max_features=1, max_samples=10000, min_samples_leaf=13, min_samples_split=16, n_estimators=390;, score=0.445 total time=   5.8s\n",
            "[CV 1/5] END max_depth=10, max_features=sqrt, max_samples=10000, min_samples_leaf=7, min_samples_split=16, n_estimators=190;, score=0.427 total time=   6.7s\n",
            "[CV 2/5] END max_depth=10, max_features=sqrt, max_samples=10000, min_samples_leaf=7, min_samples_split=16, n_estimators=190;, score=0.644 total time=   7.1s\n",
            "[CV 3/5] END max_depth=10, max_features=sqrt, max_samples=10000, min_samples_leaf=7, min_samples_split=16, n_estimators=190;, score=0.671 total time=   6.7s\n",
            "[CV 4/5] END max_depth=10, max_features=sqrt, max_samples=10000, min_samples_leaf=7, min_samples_split=16, n_estimators=190;, score=0.674 total time=   6.9s\n",
            "[CV 5/5] END max_depth=10, max_features=sqrt, max_samples=10000, min_samples_leaf=7, min_samples_split=16, n_estimators=190;, score=0.650 total time=   6.2s\n",
            "[CV 1/5] END max_depth=3, max_features=sqrt, max_samples=10000, min_samples_leaf=13, min_samples_split=18, n_estimators=310;, score=0.239 total time=   5.3s\n",
            "[CV 2/5] END max_depth=3, max_features=sqrt, max_samples=10000, min_samples_leaf=13, min_samples_split=18, n_estimators=310;, score=0.339 total time=   5.4s\n",
            "[CV 3/5] END max_depth=3, max_features=sqrt, max_samples=10000, min_samples_leaf=13, min_samples_split=18, n_estimators=310;, score=0.351 total time=   5.5s\n",
            "[CV 4/5] END max_depth=3, max_features=sqrt, max_samples=10000, min_samples_leaf=13, min_samples_split=18, n_estimators=310;, score=0.353 total time=   5.4s\n",
            "[CV 5/5] END max_depth=3, max_features=sqrt, max_samples=10000, min_samples_leaf=13, min_samples_split=18, n_estimators=310;, score=0.359 total time=   5.0s\n",
            "[CV 1/5] END max_depth=3, max_features=auto, max_samples=10000, min_samples_leaf=17, min_samples_split=18, n_estimators=210;, score=0.225 total time=  13.2s\n",
            "[CV 2/5] END max_depth=3, max_features=auto, max_samples=10000, min_samples_leaf=17, min_samples_split=18, n_estimators=210;, score=0.503 total time=  13.2s\n",
            "[CV 3/5] END max_depth=3, max_features=auto, max_samples=10000, min_samples_leaf=17, min_samples_split=18, n_estimators=210;, score=0.504 total time=  12.9s\n",
            "[CV 4/5] END max_depth=3, max_features=auto, max_samples=10000, min_samples_leaf=17, min_samples_split=18, n_estimators=210;, score=0.474 total time=  13.4s\n",
            "[CV 5/5] END max_depth=3, max_features=auto, max_samples=10000, min_samples_leaf=17, min_samples_split=18, n_estimators=210;, score=0.476 total time=  14.1s\n",
            "[CV 1/5] END max_depth=3, max_features=auto, max_samples=10000, min_samples_leaf=17, min_samples_split=12, n_estimators=30;, score=0.228 total time=   3.9s\n",
            "[CV 2/5] END max_depth=3, max_features=auto, max_samples=10000, min_samples_leaf=17, min_samples_split=12, n_estimators=30;, score=0.497 total time=   3.8s\n",
            "[CV 3/5] END max_depth=3, max_features=auto, max_samples=10000, min_samples_leaf=17, min_samples_split=12, n_estimators=30;, score=0.505 total time=   3.9s\n",
            "[CV 4/5] END max_depth=3, max_features=auto, max_samples=10000, min_samples_leaf=17, min_samples_split=12, n_estimators=30;, score=0.477 total time=   3.8s\n",
            "[CV 5/5] END max_depth=3, max_features=auto, max_samples=10000, min_samples_leaf=17, min_samples_split=12, n_estimators=30;, score=0.481 total time=   3.8s\n",
            "[CV 1/5] END max_depth=5, max_features=sqrt, max_samples=10000, min_samples_leaf=19, min_samples_split=12, n_estimators=330;, score=0.311 total time=   6.8s\n",
            "[CV 2/5] END max_depth=5, max_features=sqrt, max_samples=10000, min_samples_leaf=19, min_samples_split=12, n_estimators=330;, score=0.470 total time=   6.6s\n",
            "[CV 3/5] END max_depth=5, max_features=sqrt, max_samples=10000, min_samples_leaf=19, min_samples_split=12, n_estimators=330;, score=0.492 total time=   6.5s\n",
            "[CV 4/5] END max_depth=5, max_features=sqrt, max_samples=10000, min_samples_leaf=19, min_samples_split=12, n_estimators=330;, score=0.490 total time=   6.6s\n",
            "[CV 5/5] END max_depth=5, max_features=sqrt, max_samples=10000, min_samples_leaf=19, min_samples_split=12, n_estimators=330;, score=0.488 total time=   6.3s\n",
            "[CV 1/5] END max_depth=10, max_features=1, max_samples=10000, min_samples_leaf=5, min_samples_split=8, n_estimators=450;, score=0.329 total time=   6.9s\n",
            "[CV 2/5] END max_depth=10, max_features=1, max_samples=10000, min_samples_leaf=5, min_samples_split=8, n_estimators=450;, score=0.466 total time=   6.9s\n",
            "[CV 3/5] END max_depth=10, max_features=1, max_samples=10000, min_samples_leaf=5, min_samples_split=8, n_estimators=450;, score=0.481 total time=   6.7s\n",
            "[CV 4/5] END max_depth=10, max_features=1, max_samples=10000, min_samples_leaf=5, min_samples_split=8, n_estimators=450;, score=0.489 total time=   7.2s\n",
            "[CV 5/5] END max_depth=10, max_features=1, max_samples=10000, min_samples_leaf=5, min_samples_split=8, n_estimators=450;, score=0.495 total time=   7.0s\n",
            "[CV 1/5] END max_depth=None, max_features=1, max_samples=10000, min_samples_leaf=19, min_samples_split=16, n_estimators=330;, score=0.317 total time=   5.5s\n",
            "[CV 2/5] END max_depth=None, max_features=1, max_samples=10000, min_samples_leaf=19, min_samples_split=16, n_estimators=330;, score=0.439 total time=   5.4s\n",
            "[CV 3/5] END max_depth=None, max_features=1, max_samples=10000, min_samples_leaf=19, min_samples_split=16, n_estimators=330;, score=0.455 total time=   5.7s\n",
            "[CV 4/5] END max_depth=None, max_features=1, max_samples=10000, min_samples_leaf=19, min_samples_split=16, n_estimators=330;, score=0.438 total time=   5.0s\n",
            "[CV 5/5] END max_depth=None, max_features=1, max_samples=10000, min_samples_leaf=19, min_samples_split=16, n_estimators=330;, score=0.443 total time=   5.1s\n",
            "[CV 1/5] END max_depth=3, max_features=0.5, max_samples=10000, min_samples_leaf=15, min_samples_split=6, n_estimators=190;, score=0.227 total time=   8.0s\n",
            "[CV 2/5] END max_depth=3, max_features=0.5, max_samples=10000, min_samples_leaf=15, min_samples_split=6, n_estimators=190;, score=0.496 total time=   7.4s\n",
            "[CV 3/5] END max_depth=3, max_features=0.5, max_samples=10000, min_samples_leaf=15, min_samples_split=6, n_estimators=190;, score=0.504 total time=   7.6s\n",
            "[CV 4/5] END max_depth=3, max_features=0.5, max_samples=10000, min_samples_leaf=15, min_samples_split=6, n_estimators=190;, score=0.491 total time=   7.6s\n",
            "[CV 5/5] END max_depth=3, max_features=0.5, max_samples=10000, min_samples_leaf=15, min_samples_split=6, n_estimators=190;, score=0.491 total time=   7.8s\n",
            "[CV 1/5] END max_depth=10, max_features=0.5, max_samples=10000, min_samples_leaf=11, min_samples_split=10, n_estimators=90;, score=0.468 total time=   8.2s\n",
            "[CV 2/5] END max_depth=10, max_features=0.5, max_samples=10000, min_samples_leaf=11, min_samples_split=10, n_estimators=90;, score=0.718 total time=   8.6s\n",
            "[CV 3/5] END max_depth=10, max_features=0.5, max_samples=10000, min_samples_leaf=11, min_samples_split=10, n_estimators=90;, score=0.749 total time=   8.2s\n",
            "[CV 4/5] END max_depth=10, max_features=0.5, max_samples=10000, min_samples_leaf=11, min_samples_split=10, n_estimators=90;, score=0.765 total time=   8.5s\n",
            "[CV 5/5] END max_depth=10, max_features=0.5, max_samples=10000, min_samples_leaf=11, min_samples_split=10, n_estimators=90;, score=0.742 total time=   8.0s\n",
            "[CV 1/5] END max_depth=None, max_features=sqrt, max_samples=10000, min_samples_leaf=19, min_samples_split=8, n_estimators=10;, score=0.427 total time=   2.4s\n",
            "[CV 2/5] END max_depth=None, max_features=sqrt, max_samples=10000, min_samples_leaf=19, min_samples_split=8, n_estimators=10;, score=0.647 total time=   2.5s\n",
            "[CV 3/5] END max_depth=None, max_features=sqrt, max_samples=10000, min_samples_leaf=19, min_samples_split=8, n_estimators=10;, score=0.670 total time=   2.4s\n",
            "[CV 4/5] END max_depth=None, max_features=sqrt, max_samples=10000, min_samples_leaf=19, min_samples_split=8, n_estimators=10;, score=0.678 total time=   2.3s\n",
            "[CV 5/5] END max_depth=None, max_features=sqrt, max_samples=10000, min_samples_leaf=19, min_samples_split=8, n_estimators=10;, score=0.630 total time=   2.5s\n",
            "CPU times: user 17min 20s, sys: 40.1 s, total: 18min 1s\n",
            "Wall time: 52min 10s\n"
          ]
        },
        {
          "data": {
            "text/plain": [
              "RandomizedSearchCV(cv=5,\n",
              "                   estimator=RandomForestRegressor(n_jobs=-1, random_state=42),\n",
              "                   n_iter=50,\n",
              "                   param_distributions={'max_depth': [None, 3, 5, 10],\n",
              "                                        'max_features': [0.5, 1, 'sqrt',\n",
              "                                                         'auto'],\n",
              "                                        'max_samples': [10000],\n",
              "                                        'min_samples_leaf': array([ 1,  3,  5,  7,  9, 11, 13, 15, 17, 19]),\n",
              "                                        'min_samples_split': array([ 2,  4,  6,  8, 10, 12, 14, 16, 18]),\n",
              "                                        'n_estimators': array([ 10,  30,  50,  70,  90, 110, 130, 150, 170, 190, 210, 230, 250,\n",
              "       270, 290, 310, 330, 350, 370, 390, 410, 430, 450, 470, 490])},\n",
              "                   verbose=7)"
            ]
          },
          "execution_count": 57,
          "metadata": {},
          "output_type": "execute_result"
        }
      ],
      "source": [
        "%%time\n",
        "from sklearn.model_selection import RandomizedSearchCV\n",
        "\n",
        "rf_grid = {'n_estimators': np.arange(10, 500, 20),\n",
        "           'max_depth': [None, 3, 5, 10],\n",
        "           'min_samples_split': np.arange(2, 20, 2),\n",
        "           'min_samples_leaf': np.arange(1, 20, 2),\n",
        "           'max_features': [0.5, 1, 'sqrt', 'auto'],\n",
        "           'max_samples': [10000]}\n",
        "\n",
        "# Instantitate the RandomizedSearchCV model\n",
        "rs_model = RandomizedSearchCV(RandomForestRegressor(n_jobs=-1, \n",
        "                                                    random_state=42), \n",
        "                              param_distributions=rf_grid,\n",
        "                              n_iter=50,\n",
        "                              cv=5,\n",
        "                              verbose=7)\n",
        "\n",
        "# Fit the RandomizedSearchCV model\n",
        "rs_model.fit(X_train, y_train)"
      ]
    },
    {
      "cell_type": "code",
      "execution_count": null,
      "metadata": {
        "colab": {
          "background_save": true
        },
        "id": "Ufqx7bIMoL-2",
        "outputId": "fa2a6160-d04f-4460-a3fb-c45e26a80caa"
      },
      "outputs": [
        {
          "data": {
            "text/plain": [
              "{'n_estimators': 430,\n",
              " 'min_samples_split': 6,\n",
              " 'min_samples_leaf': 1,\n",
              " 'max_samples': 10000,\n",
              " 'max_features': 0.5,\n",
              " 'max_depth': None}"
            ]
          },
          "execution_count": 58,
          "metadata": {},
          "output_type": "execute_result"
        }
      ],
      "source": [
        "# Find the best model hyperparameters\n",
        "rs_model.best_params_"
      ]
    },
    {
      "cell_type": "code",
      "execution_count": null,
      "metadata": {
        "colab": {
          "background_save": true
        },
        "id": "EcOORdhdppzl"
      },
      "outputs": [],
      "source": [
        "# Evaluate the Random model\n",
        "scores = show_scores(rs_model)"
      ]
    },
    {
      "cell_type": "code",
      "execution_count": null,
      "metadata": {
        "colab": {
          "background_save": true
        },
        "id": "5RboPkuhvWXd",
        "outputId": "1a80c675-e02c-4375-8e8c-fbddb8b193e5"
      },
      "outputs": [
        {
          "data": {
            "text/plain": [
              "{'Training MAE': 5749.526695656603,\n",
              " 'Valid MAE': 10256.62264490065,\n",
              " 'Training RMSLE': 0.26468340451184047,\n",
              " 'Valid RMSLE': 0.39670531379889407,\n",
              " 'Training R^2': 0.8534138365917965,\n",
              " 'Valid R^2': 0.6559376667999028}"
            ]
          },
          "execution_count": 60,
          "metadata": {},
          "output_type": "execute_result"
        }
      ],
      "source": [
        "scores"
      ]
    },
    {
      "cell_type": "code",
      "execution_count": null,
      "metadata": {
        "colab": {
          "background_save": true
        },
        "id": "1r1mCyLz1O56",
        "outputId": "6c36f070-38b1-4b67-8e2f-b4e8974e2855"
      },
      "outputs": [
        {
          "name": "stderr",
          "output_type": "stream",
          "text": [
            "[Parallel(n_jobs=-1)]: Using backend ThreadingBackend with 2 concurrent workers.\n"
          ]
        },
        {
          "name": "stdout",
          "output_type": "stream",
          "text": [
            "CPU times: user 5min 31s, sys: 195 ms, total: 5min 31s\n",
            "Wall time: 2min 49s\n"
          ]
        },
        {
          "name": "stderr",
          "output_type": "stream",
          "text": [
            "[Parallel(n_jobs=-1)]: Done  40 out of  40 | elapsed:  2.8min finished\n"
          ]
        },
        {
          "data": {
            "text/plain": [
              "RandomForestRegressor(min_samples_split=14, n_estimators=40, n_jobs=-1,\n",
              "                      random_state=42, verbose=True)"
            ]
          },
          "execution_count": 61,
          "metadata": {},
          "output_type": "execute_result"
        }
      ],
      "source": [
        "### Train the model with the best hyperparameters\n",
        "%%time\n",
        "ideal_model = RandomForestRegressor(n_jobs=-1,\n",
        "                                    max_features= 'auto',\n",
        "                                    min_samples_leaf= 1,\n",
        "                                    min_samples_split= 14,\n",
        "                                    n_estimators= 40,\n",
        "                                    verbose=True,\n",
        "                                    random_state=42)\n",
        "\n",
        "# n_jobs=-1,\n",
        "# max_features= 'auto',\n",
        "# min_samples_leaf= 3,\n",
        "# min_samples_split= 4,\n",
        "# n_estimators= 90,\n",
        "# verbose=True,\n",
        "# random_state=42\n",
        "\n",
        "# n_jobs=-1,\n",
        "# n_estimators=40,\n",
        "# min_samples_leaf=1,\n",
        "# min_samples_split=14,\n",
        "# max_features=0.5,\n",
        "# verbose=True,\n",
        "# random_state=42\n",
        "ideal_model.fit(X_train, y_train)"
      ]
    },
    {
      "cell_type": "code",
      "execution_count": null,
      "metadata": {
        "colab": {
          "background_save": true
        },
        "id": "L6gf8RC23CQ8",
        "outputId": "8ec1021e-6af5-425b-96ab-bbb7f5db772c"
      },
      "outputs": [
        {
          "name": "stderr",
          "output_type": "stream",
          "text": [
            "[Parallel(n_jobs=2)]: Using backend ThreadingBackend with 2 concurrent workers.\n",
            "[Parallel(n_jobs=2)]: Done  40 out of  40 | elapsed:    2.4s finished\n"
          ]
        },
        {
          "data": {
            "text/plain": [
              "0.9611809237962059"
            ]
          },
          "execution_count": 62,
          "metadata": {},
          "output_type": "execute_result"
        }
      ],
      "source": [
        "ideal_model.score(X_train, y_train)\n",
        "# 0.9707184169211437"
      ]
    },
    {
      "cell_type": "code",
      "execution_count": null,
      "metadata": {
        "colab": {
          "background_save": true
        },
        "id": "j-pCYPSsqugV",
        "outputId": "9f5ea43a-f3df-41c6-8522-e1b36b4d3134"
      },
      "outputs": [
        {
          "name": "stderr",
          "output_type": "stream",
          "text": [
            "[Parallel(n_jobs=2)]: Using backend ThreadingBackend with 2 concurrent workers.\n",
            "[Parallel(n_jobs=2)]: Done  40 out of  40 | elapsed:    0.1s finished\n"
          ]
        },
        {
          "data": {
            "text/plain": [
              "0.4958194889892842"
            ]
          },
          "execution_count": 63,
          "metadata": {},
          "output_type": "execute_result"
        }
      ],
      "source": [
        "ideal_model.score(X_valid, y_valid)\n",
        "# 0.49689713892212817"
      ]
    },
    {
      "cell_type": "code",
      "execution_count": null,
      "metadata": {
        "colab": {
          "background_save": true
        },
        "id": "WjFsey_ntlXk",
        "outputId": "51a6121b-b6b5-49fe-9af8-2e224059f58b"
      },
      "outputs": [
        {
          "name": "stderr",
          "output_type": "stream",
          "text": [
            "[Parallel(n_jobs=2)]: Using backend ThreadingBackend with 2 concurrent workers.\n",
            "[Parallel(n_jobs=2)]: Done  40 out of  40 | elapsed:    2.7s finished\n",
            "[Parallel(n_jobs=2)]: Using backend ThreadingBackend with 2 concurrent workers.\n",
            "[Parallel(n_jobs=2)]: Done  40 out of  40 | elapsed:    0.1s finished\n"
          ]
        }
      ],
      "source": [
        "scores = show_scores(ideal_model)"
      ]
    },
    {
      "cell_type": "code",
      "execution_count": null,
      "metadata": {
        "colab": {
          "background_save": true
        },
        "id": "yG146kJytptl",
        "outputId": "85015ed1-b5f2-4232-f006-484f21fd3ef5"
      },
      "outputs": [
        {
          "data": {
            "text/plain": [
              "{'Training MAE': 2833.957627479536,\n",
              " 'Valid MAE': 10985.442285484649,\n",
              " 'Training RMSLE': 0.13991434314751172,\n",
              " 'Valid RMSLE': 0.48914879251147614,\n",
              " 'Training R^2': 0.9611809237962059,\n",
              " 'Valid R^2': 0.4958194889892842}"
            ]
          },
          "execution_count": 65,
          "metadata": {},
          "output_type": "execute_result"
        }
      ],
      "source": [
        "scores\n",
        "# {'Training MAE': 2342.060495780036,\n",
        "#  'Training RMSLE': 0.12181324475105637,\n",
        "#  'Training R^2': 0.9707184169211437,\n",
        "#  'Valid MAE': 10943.13791287654,\n",
        "#  'Valid RMSLE': 0.4898288887031708,\n",
        "#  'Valid R^2': 0.4971983336855669}"
      ]
    },
    {
      "cell_type": "markdown",
      "metadata": {
        "id": "FbGcJUettwFw"
      },
      "source": [
        "### Make predictions on test data"
      ]
    },
    {
      "cell_type": "code",
      "execution_count": null,
      "metadata": {
        "colab": {
          "background_save": true
        },
        "id": "ohhhHw5Kh8uU",
        "outputId": "01427b41-e420-4c72-c55a-411de0669995"
      },
      "outputs": [
        {
          "data": {
            "text/html": [
              "\n",
              "  <div id=\"df-c426df48-cfe7-40d0-be82-ed1bac919950\">\n",
              "    <div class=\"colab-df-container\">\n",
              "      <div>\n",
              "<style scoped>\n",
              "    .dataframe tbody tr th:only-of-type {\n",
              "        vertical-align: middle;\n",
              "    }\n",
              "\n",
              "    .dataframe tbody tr th {\n",
              "        vertical-align: top;\n",
              "    }\n",
              "\n",
              "    .dataframe thead th {\n",
              "        text-align: right;\n",
              "    }\n",
              "</style>\n",
              "<table border=\"1\" class=\"dataframe\">\n",
              "  <thead>\n",
              "    <tr style=\"text-align: right;\">\n",
              "      <th></th>\n",
              "      <th>SalesID</th>\n",
              "      <th>MachineID</th>\n",
              "      <th>ModelID</th>\n",
              "      <th>datasource</th>\n",
              "      <th>auctioneerID</th>\n",
              "      <th>YearMade</th>\n",
              "      <th>MachineHoursCurrentMeter</th>\n",
              "      <th>UsageBand</th>\n",
              "      <th>saledate</th>\n",
              "      <th>fiModelDesc</th>\n",
              "      <th>...</th>\n",
              "      <th>Undercarriage_Pad_Width</th>\n",
              "      <th>Stick_Length</th>\n",
              "      <th>Thumb</th>\n",
              "      <th>Pattern_Changer</th>\n",
              "      <th>Grouser_Type</th>\n",
              "      <th>Backhoe_Mounting</th>\n",
              "      <th>Blade_Type</th>\n",
              "      <th>Travel_Controls</th>\n",
              "      <th>Differential_Type</th>\n",
              "      <th>Steering_Controls</th>\n",
              "    </tr>\n",
              "  </thead>\n",
              "  <tbody>\n",
              "    <tr>\n",
              "      <th>0</th>\n",
              "      <td>1227829</td>\n",
              "      <td>1006309</td>\n",
              "      <td>3168</td>\n",
              "      <td>121</td>\n",
              "      <td>3</td>\n",
              "      <td>1999</td>\n",
              "      <td>3688.0</td>\n",
              "      <td>Low</td>\n",
              "      <td>2012-05-03</td>\n",
              "      <td>580G</td>\n",
              "      <td>...</td>\n",
              "      <td>NaN</td>\n",
              "      <td>NaN</td>\n",
              "      <td>NaN</td>\n",
              "      <td>NaN</td>\n",
              "      <td>NaN</td>\n",
              "      <td>NaN</td>\n",
              "      <td>NaN</td>\n",
              "      <td>NaN</td>\n",
              "      <td>NaN</td>\n",
              "      <td>NaN</td>\n",
              "    </tr>\n",
              "    <tr>\n",
              "      <th>1</th>\n",
              "      <td>1227844</td>\n",
              "      <td>1022817</td>\n",
              "      <td>7271</td>\n",
              "      <td>121</td>\n",
              "      <td>3</td>\n",
              "      <td>1000</td>\n",
              "      <td>28555.0</td>\n",
              "      <td>High</td>\n",
              "      <td>2012-05-10</td>\n",
              "      <td>936</td>\n",
              "      <td>...</td>\n",
              "      <td>NaN</td>\n",
              "      <td>NaN</td>\n",
              "      <td>NaN</td>\n",
              "      <td>NaN</td>\n",
              "      <td>NaN</td>\n",
              "      <td>NaN</td>\n",
              "      <td>NaN</td>\n",
              "      <td>NaN</td>\n",
              "      <td>Standard</td>\n",
              "      <td>Conventional</td>\n",
              "    </tr>\n",
              "    <tr>\n",
              "      <th>2</th>\n",
              "      <td>1227847</td>\n",
              "      <td>1031560</td>\n",
              "      <td>22805</td>\n",
              "      <td>121</td>\n",
              "      <td>3</td>\n",
              "      <td>2004</td>\n",
              "      <td>6038.0</td>\n",
              "      <td>Medium</td>\n",
              "      <td>2012-05-10</td>\n",
              "      <td>EC210BLC</td>\n",
              "      <td>...</td>\n",
              "      <td>None or Unspecified</td>\n",
              "      <td>9' 6\"</td>\n",
              "      <td>Manual</td>\n",
              "      <td>None or Unspecified</td>\n",
              "      <td>Double</td>\n",
              "      <td>NaN</td>\n",
              "      <td>NaN</td>\n",
              "      <td>NaN</td>\n",
              "      <td>NaN</td>\n",
              "      <td>NaN</td>\n",
              "    </tr>\n",
              "    <tr>\n",
              "      <th>3</th>\n",
              "      <td>1227848</td>\n",
              "      <td>56204</td>\n",
              "      <td>1269</td>\n",
              "      <td>121</td>\n",
              "      <td>3</td>\n",
              "      <td>2006</td>\n",
              "      <td>8940.0</td>\n",
              "      <td>High</td>\n",
              "      <td>2012-05-10</td>\n",
              "      <td>330CL</td>\n",
              "      <td>...</td>\n",
              "      <td>None or Unspecified</td>\n",
              "      <td>None or Unspecified</td>\n",
              "      <td>Manual</td>\n",
              "      <td>Yes</td>\n",
              "      <td>Triple</td>\n",
              "      <td>NaN</td>\n",
              "      <td>NaN</td>\n",
              "      <td>NaN</td>\n",
              "      <td>NaN</td>\n",
              "      <td>NaN</td>\n",
              "    </tr>\n",
              "    <tr>\n",
              "      <th>4</th>\n",
              "      <td>1227863</td>\n",
              "      <td>1053887</td>\n",
              "      <td>22312</td>\n",
              "      <td>121</td>\n",
              "      <td>3</td>\n",
              "      <td>2005</td>\n",
              "      <td>2286.0</td>\n",
              "      <td>Low</td>\n",
              "      <td>2012-05-10</td>\n",
              "      <td>650K</td>\n",
              "      <td>...</td>\n",
              "      <td>NaN</td>\n",
              "      <td>NaN</td>\n",
              "      <td>NaN</td>\n",
              "      <td>NaN</td>\n",
              "      <td>NaN</td>\n",
              "      <td>None or Unspecified</td>\n",
              "      <td>PAT</td>\n",
              "      <td>None or Unspecified</td>\n",
              "      <td>NaN</td>\n",
              "      <td>NaN</td>\n",
              "    </tr>\n",
              "  </tbody>\n",
              "</table>\n",
              "<p>5 rows × 52 columns</p>\n",
              "</div>\n",
              "      <button class=\"colab-df-convert\" onclick=\"convertToInteractive('df-c426df48-cfe7-40d0-be82-ed1bac919950')\"\n",
              "              title=\"Convert this dataframe to an interactive table.\"\n",
              "              style=\"display:none;\">\n",
              "        \n",
              "  <svg xmlns=\"http://www.w3.org/2000/svg\" height=\"24px\"viewBox=\"0 0 24 24\"\n",
              "       width=\"24px\">\n",
              "    <path d=\"M0 0h24v24H0V0z\" fill=\"none\"/>\n",
              "    <path d=\"M18.56 5.44l.94 2.06.94-2.06 2.06-.94-2.06-.94-.94-2.06-.94 2.06-2.06.94zm-11 1L8.5 8.5l.94-2.06 2.06-.94-2.06-.94L8.5 2.5l-.94 2.06-2.06.94zm10 10l.94 2.06.94-2.06 2.06-.94-2.06-.94-.94-2.06-.94 2.06-2.06.94z\"/><path d=\"M17.41 7.96l-1.37-1.37c-.4-.4-.92-.59-1.43-.59-.52 0-1.04.2-1.43.59L10.3 9.45l-7.72 7.72c-.78.78-.78 2.05 0 2.83L4 21.41c.39.39.9.59 1.41.59.51 0 1.02-.2 1.41-.59l7.78-7.78 2.81-2.81c.8-.78.8-2.07 0-2.86zM5.41 20L4 18.59l7.72-7.72 1.47 1.35L5.41 20z\"/>\n",
              "  </svg>\n",
              "      </button>\n",
              "      \n",
              "  <style>\n",
              "    .colab-df-container {\n",
              "      display:flex;\n",
              "      flex-wrap:wrap;\n",
              "      gap: 12px;\n",
              "    }\n",
              "\n",
              "    .colab-df-convert {\n",
              "      background-color: #E8F0FE;\n",
              "      border: none;\n",
              "      border-radius: 50%;\n",
              "      cursor: pointer;\n",
              "      display: none;\n",
              "      fill: #1967D2;\n",
              "      height: 32px;\n",
              "      padding: 0 0 0 0;\n",
              "      width: 32px;\n",
              "    }\n",
              "\n",
              "    .colab-df-convert:hover {\n",
              "      background-color: #E2EBFA;\n",
              "      box-shadow: 0px 1px 2px rgba(60, 64, 67, 0.3), 0px 1px 3px 1px rgba(60, 64, 67, 0.15);\n",
              "      fill: #174EA6;\n",
              "    }\n",
              "\n",
              "    [theme=dark] .colab-df-convert {\n",
              "      background-color: #3B4455;\n",
              "      fill: #D2E3FC;\n",
              "    }\n",
              "\n",
              "    [theme=dark] .colab-df-convert:hover {\n",
              "      background-color: #434B5C;\n",
              "      box-shadow: 0px 1px 3px 1px rgba(0, 0, 0, 0.15);\n",
              "      filter: drop-shadow(0px 1px 2px rgba(0, 0, 0, 0.3));\n",
              "      fill: #FFFFFF;\n",
              "    }\n",
              "  </style>\n",
              "\n",
              "      <script>\n",
              "        const buttonEl =\n",
              "          document.querySelector('#df-c426df48-cfe7-40d0-be82-ed1bac919950 button.colab-df-convert');\n",
              "        buttonEl.style.display =\n",
              "          google.colab.kernel.accessAllowed ? 'block' : 'none';\n",
              "\n",
              "        async function convertToInteractive(key) {\n",
              "          const element = document.querySelector('#df-c426df48-cfe7-40d0-be82-ed1bac919950');\n",
              "          const dataTable =\n",
              "            await google.colab.kernel.invokeFunction('convertToInteractive',\n",
              "                                                     [key], {});\n",
              "          if (!dataTable) return;\n",
              "\n",
              "          const docLinkHtml = 'Like what you see? Visit the ' +\n",
              "            '<a target=\"_blank\" href=https://colab.research.google.com/notebooks/data_table.ipynb>data table notebook</a>'\n",
              "            + ' to learn more about interactive tables.';\n",
              "          element.innerHTML = '';\n",
              "          dataTable['output_type'] = 'display_data';\n",
              "          await google.colab.output.renderOutput(dataTable, element);\n",
              "          const docLink = document.createElement('div');\n",
              "          docLink.innerHTML = docLinkHtml;\n",
              "          element.appendChild(docLink);\n",
              "        }\n",
              "      </script>\n",
              "    </div>\n",
              "  </div>\n",
              "  "
            ],
            "text/plain": [
              "   SalesID  MachineID  ModelID  datasource  auctioneerID  YearMade  \\\n",
              "0  1227829    1006309     3168         121             3      1999   \n",
              "1  1227844    1022817     7271         121             3      1000   \n",
              "2  1227847    1031560    22805         121             3      2004   \n",
              "3  1227848      56204     1269         121             3      2006   \n",
              "4  1227863    1053887    22312         121             3      2005   \n",
              "\n",
              "   MachineHoursCurrentMeter UsageBand   saledate fiModelDesc  ...  \\\n",
              "0                    3688.0       Low 2012-05-03        580G  ...   \n",
              "1                   28555.0      High 2012-05-10         936  ...   \n",
              "2                    6038.0    Medium 2012-05-10    EC210BLC  ...   \n",
              "3                    8940.0      High 2012-05-10       330CL  ...   \n",
              "4                    2286.0       Low 2012-05-10        650K  ...   \n",
              "\n",
              "  Undercarriage_Pad_Width         Stick_Length   Thumb      Pattern_Changer  \\\n",
              "0                     NaN                  NaN     NaN                  NaN   \n",
              "1                     NaN                  NaN     NaN                  NaN   \n",
              "2     None or Unspecified                9' 6\"  Manual  None or Unspecified   \n",
              "3     None or Unspecified  None or Unspecified  Manual                  Yes   \n",
              "4                     NaN                  NaN     NaN                  NaN   \n",
              "\n",
              "  Grouser_Type     Backhoe_Mounting Blade_Type      Travel_Controls  \\\n",
              "0          NaN                  NaN        NaN                  NaN   \n",
              "1          NaN                  NaN        NaN                  NaN   \n",
              "2       Double                  NaN        NaN                  NaN   \n",
              "3       Triple                  NaN        NaN                  NaN   \n",
              "4          NaN  None or Unspecified        PAT  None or Unspecified   \n",
              "\n",
              "  Differential_Type Steering_Controls  \n",
              "0               NaN               NaN  \n",
              "1          Standard      Conventional  \n",
              "2               NaN               NaN  \n",
              "3               NaN               NaN  \n",
              "4               NaN               NaN  \n",
              "\n",
              "[5 rows x 52 columns]"
            ]
          },
          "execution_count": 66,
          "metadata": {},
          "output_type": "execute_result"
        }
      ],
      "source": [
        "# Import the test data\n",
        "df_test = pd.read_csv('bluebook-for-bulldozers/Test.csv', parse_dates=['saledate'])\n",
        "df_test.head()"
      ]
    },
    {
      "cell_type": "code",
      "execution_count": null,
      "metadata": {
        "colab": {
          "background_save": true
        },
        "id": "cBNdgh9Ui74Y"
      },
      "outputs": [],
      "source": [
        "def preprocess_data(df):\n",
        "  \"\"\"\n",
        "  Performs transformations on df and returns transformed df.\n",
        "  \"\"\"\n",
        "  df['saleYear'] = df.saledate.dt.year\n",
        "  df['saleMonth'] = df.saledate.dt.month\n",
        "  df['saleDay'] = df.saledate.dt.day\n",
        "  df['saleDayOfWeek'] = df.saledate.dt.dayofweek\n",
        "  df['saleDayOfYear'] = df.saledate.dt.dayofyear\n",
        "  df.drop('saledate', axis=1, inplace=True)\n",
        "\n",
        "  # Fill the numeric rows with median, categorical data into numbers\n",
        "  for label, content in df.items():\n",
        "    if pd.api.types.is_numeric_dtype(content):\n",
        "      if pd.isnull(content).sum():\n",
        "        df[label+'_is_missing'] = pd.isnull(content)\n",
        "        df[label] = content.fillna(content.median())\n",
        "      \n",
        "  for label, content in df.items():\n",
        "    if not pd.api.types.is_numeric_dtype(content):\n",
        "      df[label+'_is_missing'] = pd.isnull(content)\n",
        "      df[label] = pd.Categorical(content).codes+1\n",
        "\n",
        "  return df"
      ]
    },
    {
      "cell_type": "code",
      "execution_count": null,
      "metadata": {
        "colab": {
          "background_save": true
        },
        "id": "pGx1-ABEie_z",
        "outputId": "37e52448-f861-4f37-a3a7-e9185c986195"
      },
      "outputs": [
        {
          "data": {
            "text/html": [
              "\n",
              "  <div id=\"df-eacc558c-12a7-49c1-8b74-92a695e87332\">\n",
              "    <div class=\"colab-df-container\">\n",
              "      <div>\n",
              "<style scoped>\n",
              "    .dataframe tbody tr th:only-of-type {\n",
              "        vertical-align: middle;\n",
              "    }\n",
              "\n",
              "    .dataframe tbody tr th {\n",
              "        vertical-align: top;\n",
              "    }\n",
              "\n",
              "    .dataframe thead th {\n",
              "        text-align: right;\n",
              "    }\n",
              "</style>\n",
              "<table border=\"1\" class=\"dataframe\">\n",
              "  <thead>\n",
              "    <tr style=\"text-align: right;\">\n",
              "      <th></th>\n",
              "      <th>SalesID</th>\n",
              "      <th>MachineID</th>\n",
              "      <th>ModelID</th>\n",
              "      <th>datasource</th>\n",
              "      <th>auctioneerID</th>\n",
              "      <th>YearMade</th>\n",
              "      <th>MachineHoursCurrentMeter</th>\n",
              "      <th>UsageBand</th>\n",
              "      <th>fiModelDesc</th>\n",
              "      <th>fiBaseModel</th>\n",
              "      <th>...</th>\n",
              "      <th>Undercarriage_Pad_Width_is_missing</th>\n",
              "      <th>Stick_Length_is_missing</th>\n",
              "      <th>Thumb_is_missing</th>\n",
              "      <th>Pattern_Changer_is_missing</th>\n",
              "      <th>Grouser_Type_is_missing</th>\n",
              "      <th>Backhoe_Mounting_is_missing</th>\n",
              "      <th>Blade_Type_is_missing</th>\n",
              "      <th>Travel_Controls_is_missing</th>\n",
              "      <th>Differential_Type_is_missing</th>\n",
              "      <th>Steering_Controls_is_missing</th>\n",
              "    </tr>\n",
              "  </thead>\n",
              "  <tbody>\n",
              "    <tr>\n",
              "      <th>0</th>\n",
              "      <td>1227829</td>\n",
              "      <td>1006309</td>\n",
              "      <td>3168</td>\n",
              "      <td>121</td>\n",
              "      <td>3</td>\n",
              "      <td>1999</td>\n",
              "      <td>3688.0</td>\n",
              "      <td>2</td>\n",
              "      <td>499</td>\n",
              "      <td>180</td>\n",
              "      <td>...</td>\n",
              "      <td>True</td>\n",
              "      <td>True</td>\n",
              "      <td>True</td>\n",
              "      <td>True</td>\n",
              "      <td>True</td>\n",
              "      <td>True</td>\n",
              "      <td>True</td>\n",
              "      <td>True</td>\n",
              "      <td>True</td>\n",
              "      <td>True</td>\n",
              "    </tr>\n",
              "    <tr>\n",
              "      <th>1</th>\n",
              "      <td>1227844</td>\n",
              "      <td>1022817</td>\n",
              "      <td>7271</td>\n",
              "      <td>121</td>\n",
              "      <td>3</td>\n",
              "      <td>1000</td>\n",
              "      <td>28555.0</td>\n",
              "      <td>1</td>\n",
              "      <td>831</td>\n",
              "      <td>292</td>\n",
              "      <td>...</td>\n",
              "      <td>True</td>\n",
              "      <td>True</td>\n",
              "      <td>True</td>\n",
              "      <td>True</td>\n",
              "      <td>True</td>\n",
              "      <td>True</td>\n",
              "      <td>True</td>\n",
              "      <td>True</td>\n",
              "      <td>False</td>\n",
              "      <td>False</td>\n",
              "    </tr>\n",
              "    <tr>\n",
              "      <th>2</th>\n",
              "      <td>1227847</td>\n",
              "      <td>1031560</td>\n",
              "      <td>22805</td>\n",
              "      <td>121</td>\n",
              "      <td>3</td>\n",
              "      <td>2004</td>\n",
              "      <td>6038.0</td>\n",
              "      <td>3</td>\n",
              "      <td>1177</td>\n",
              "      <td>404</td>\n",
              "      <td>...</td>\n",
              "      <td>False</td>\n",
              "      <td>False</td>\n",
              "      <td>False</td>\n",
              "      <td>False</td>\n",
              "      <td>False</td>\n",
              "      <td>True</td>\n",
              "      <td>True</td>\n",
              "      <td>True</td>\n",
              "      <td>True</td>\n",
              "      <td>True</td>\n",
              "    </tr>\n",
              "    <tr>\n",
              "      <th>3</th>\n",
              "      <td>1227848</td>\n",
              "      <td>56204</td>\n",
              "      <td>1269</td>\n",
              "      <td>121</td>\n",
              "      <td>3</td>\n",
              "      <td>2006</td>\n",
              "      <td>8940.0</td>\n",
              "      <td>1</td>\n",
              "      <td>287</td>\n",
              "      <td>113</td>\n",
              "      <td>...</td>\n",
              "      <td>False</td>\n",
              "      <td>False</td>\n",
              "      <td>False</td>\n",
              "      <td>False</td>\n",
              "      <td>False</td>\n",
              "      <td>True</td>\n",
              "      <td>True</td>\n",
              "      <td>True</td>\n",
              "      <td>True</td>\n",
              "      <td>True</td>\n",
              "    </tr>\n",
              "    <tr>\n",
              "      <th>4</th>\n",
              "      <td>1227863</td>\n",
              "      <td>1053887</td>\n",
              "      <td>22312</td>\n",
              "      <td>121</td>\n",
              "      <td>3</td>\n",
              "      <td>2005</td>\n",
              "      <td>2286.0</td>\n",
              "      <td>2</td>\n",
              "      <td>566</td>\n",
              "      <td>196</td>\n",
              "      <td>...</td>\n",
              "      <td>True</td>\n",
              "      <td>True</td>\n",
              "      <td>True</td>\n",
              "      <td>True</td>\n",
              "      <td>True</td>\n",
              "      <td>False</td>\n",
              "      <td>False</td>\n",
              "      <td>False</td>\n",
              "      <td>True</td>\n",
              "      <td>True</td>\n",
              "    </tr>\n",
              "  </tbody>\n",
              "</table>\n",
              "<p>5 rows × 101 columns</p>\n",
              "</div>\n",
              "      <button class=\"colab-df-convert\" onclick=\"convertToInteractive('df-eacc558c-12a7-49c1-8b74-92a695e87332')\"\n",
              "              title=\"Convert this dataframe to an interactive table.\"\n",
              "              style=\"display:none;\">\n",
              "        \n",
              "  <svg xmlns=\"http://www.w3.org/2000/svg\" height=\"24px\"viewBox=\"0 0 24 24\"\n",
              "       width=\"24px\">\n",
              "    <path d=\"M0 0h24v24H0V0z\" fill=\"none\"/>\n",
              "    <path d=\"M18.56 5.44l.94 2.06.94-2.06 2.06-.94-2.06-.94-.94-2.06-.94 2.06-2.06.94zm-11 1L8.5 8.5l.94-2.06 2.06-.94-2.06-.94L8.5 2.5l-.94 2.06-2.06.94zm10 10l.94 2.06.94-2.06 2.06-.94-2.06-.94-.94-2.06-.94 2.06-2.06.94z\"/><path d=\"M17.41 7.96l-1.37-1.37c-.4-.4-.92-.59-1.43-.59-.52 0-1.04.2-1.43.59L10.3 9.45l-7.72 7.72c-.78.78-.78 2.05 0 2.83L4 21.41c.39.39.9.59 1.41.59.51 0 1.02-.2 1.41-.59l7.78-7.78 2.81-2.81c.8-.78.8-2.07 0-2.86zM5.41 20L4 18.59l7.72-7.72 1.47 1.35L5.41 20z\"/>\n",
              "  </svg>\n",
              "      </button>\n",
              "      \n",
              "  <style>\n",
              "    .colab-df-container {\n",
              "      display:flex;\n",
              "      flex-wrap:wrap;\n",
              "      gap: 12px;\n",
              "    }\n",
              "\n",
              "    .colab-df-convert {\n",
              "      background-color: #E8F0FE;\n",
              "      border: none;\n",
              "      border-radius: 50%;\n",
              "      cursor: pointer;\n",
              "      display: none;\n",
              "      fill: #1967D2;\n",
              "      height: 32px;\n",
              "      padding: 0 0 0 0;\n",
              "      width: 32px;\n",
              "    }\n",
              "\n",
              "    .colab-df-convert:hover {\n",
              "      background-color: #E2EBFA;\n",
              "      box-shadow: 0px 1px 2px rgba(60, 64, 67, 0.3), 0px 1px 3px 1px rgba(60, 64, 67, 0.15);\n",
              "      fill: #174EA6;\n",
              "    }\n",
              "\n",
              "    [theme=dark] .colab-df-convert {\n",
              "      background-color: #3B4455;\n",
              "      fill: #D2E3FC;\n",
              "    }\n",
              "\n",
              "    [theme=dark] .colab-df-convert:hover {\n",
              "      background-color: #434B5C;\n",
              "      box-shadow: 0px 1px 3px 1px rgba(0, 0, 0, 0.15);\n",
              "      filter: drop-shadow(0px 1px 2px rgba(0, 0, 0, 0.3));\n",
              "      fill: #FFFFFF;\n",
              "    }\n",
              "  </style>\n",
              "\n",
              "      <script>\n",
              "        const buttonEl =\n",
              "          document.querySelector('#df-eacc558c-12a7-49c1-8b74-92a695e87332 button.colab-df-convert');\n",
              "        buttonEl.style.display =\n",
              "          google.colab.kernel.accessAllowed ? 'block' : 'none';\n",
              "\n",
              "        async function convertToInteractive(key) {\n",
              "          const element = document.querySelector('#df-eacc558c-12a7-49c1-8b74-92a695e87332');\n",
              "          const dataTable =\n",
              "            await google.colab.kernel.invokeFunction('convertToInteractive',\n",
              "                                                     [key], {});\n",
              "          if (!dataTable) return;\n",
              "\n",
              "          const docLinkHtml = 'Like what you see? Visit the ' +\n",
              "            '<a target=\"_blank\" href=https://colab.research.google.com/notebooks/data_table.ipynb>data table notebook</a>'\n",
              "            + ' to learn more about interactive tables.';\n",
              "          element.innerHTML = '';\n",
              "          dataTable['output_type'] = 'display_data';\n",
              "          await google.colab.output.renderOutput(dataTable, element);\n",
              "          const docLink = document.createElement('div');\n",
              "          docLink.innerHTML = docLinkHtml;\n",
              "          element.appendChild(docLink);\n",
              "        }\n",
              "      </script>\n",
              "    </div>\n",
              "  </div>\n",
              "  "
            ],
            "text/plain": [
              "   SalesID  MachineID  ModelID  datasource  auctioneerID  YearMade  \\\n",
              "0  1227829    1006309     3168         121             3      1999   \n",
              "1  1227844    1022817     7271         121             3      1000   \n",
              "2  1227847    1031560    22805         121             3      2004   \n",
              "3  1227848      56204     1269         121             3      2006   \n",
              "4  1227863    1053887    22312         121             3      2005   \n",
              "\n",
              "   MachineHoursCurrentMeter  UsageBand  fiModelDesc  fiBaseModel  ...  \\\n",
              "0                    3688.0          2          499          180  ...   \n",
              "1                   28555.0          1          831          292  ...   \n",
              "2                    6038.0          3         1177          404  ...   \n",
              "3                    8940.0          1          287          113  ...   \n",
              "4                    2286.0          2          566          196  ...   \n",
              "\n",
              "   Undercarriage_Pad_Width_is_missing  Stick_Length_is_missing  \\\n",
              "0                                True                     True   \n",
              "1                                True                     True   \n",
              "2                               False                    False   \n",
              "3                               False                    False   \n",
              "4                                True                     True   \n",
              "\n",
              "   Thumb_is_missing  Pattern_Changer_is_missing  Grouser_Type_is_missing  \\\n",
              "0              True                        True                     True   \n",
              "1              True                        True                     True   \n",
              "2             False                       False                    False   \n",
              "3             False                       False                    False   \n",
              "4              True                        True                     True   \n",
              "\n",
              "   Backhoe_Mounting_is_missing  Blade_Type_is_missing  \\\n",
              "0                         True                   True   \n",
              "1                         True                   True   \n",
              "2                         True                   True   \n",
              "3                         True                   True   \n",
              "4                        False                  False   \n",
              "\n",
              "   Travel_Controls_is_missing  Differential_Type_is_missing  \\\n",
              "0                        True                          True   \n",
              "1                        True                         False   \n",
              "2                        True                          True   \n",
              "3                        True                          True   \n",
              "4                       False                          True   \n",
              "\n",
              "   Steering_Controls_is_missing  \n",
              "0                          True  \n",
              "1                         False  \n",
              "2                          True  \n",
              "3                          True  \n",
              "4                          True  \n",
              "\n",
              "[5 rows x 101 columns]"
            ]
          },
          "execution_count": 68,
          "metadata": {},
          "output_type": "execute_result"
        }
      ],
      "source": [
        "# process test data\n",
        "df_test = preprocess_data(df_test)\n",
        "df_test.head()"
      ]
    },
    {
      "cell_type": "code",
      "execution_count": null,
      "metadata": {
        "colab": {
          "background_save": true
        },
        "id": "TKVREwdzl2gs",
        "outputId": "8ae469b6-c820-4d38-d11e-900a27d3bfe0"
      },
      "outputs": [
        {
          "data": {
            "text/plain": [
              "{'auctioneerID_is_missing'}"
            ]
          },
          "execution_count": 69,
          "metadata": {},
          "output_type": "execute_result"
        }
      ],
      "source": [
        "# We can find the columns differ using sets\n",
        "set(X_train.columns) - set(df_test.columns)"
      ]
    },
    {
      "cell_type": "code",
      "execution_count": null,
      "metadata": {
        "colab": {
          "background_save": true
        },
        "id": "zNNvxBrTmgpF"
      },
      "outputs": [],
      "source": [
        "df_test.insert(loc=56, column='auctioneerID_is_missing', value=False)"
      ]
    },
    {
      "cell_type": "code",
      "execution_count": null,
      "metadata": {
        "colab": {
          "background_save": true
        },
        "id": "4wbSxEQYmwCe",
        "outputId": "a266434e-5a40-48ec-f555-fa9c290fa231"
      },
      "outputs": [
        {
          "name": "stderr",
          "output_type": "stream",
          "text": [
            "[Parallel(n_jobs=2)]: Using backend ThreadingBackend with 2 concurrent workers.\n",
            "[Parallel(n_jobs=2)]: Done  40 out of  40 | elapsed:    0.1s finished\n"
          ]
        }
      ],
      "source": [
        "test_preds = ideal_model.predict(df_test)"
      ]
    },
    {
      "cell_type": "code",
      "execution_count": null,
      "metadata": {
        "colab": {
          "background_save": true
        },
        "id": "eb2wLneindJp",
        "outputId": "c6afe698-5d89-4ff5-dab3-0c5d7e9b6b48"
      },
      "outputs": [
        {
          "data": {
            "text/plain": [
              "12457"
            ]
          },
          "execution_count": 72,
          "metadata": {},
          "output_type": "execute_result"
        }
      ],
      "source": [
        "len(test_preds)"
      ]
    },
    {
      "cell_type": "code",
      "execution_count": null,
      "metadata": {
        "colab": {
          "background_save": true
        },
        "id": "t9QxVfs9I8jQ",
        "outputId": "afdd826d-2d67-4516-e5dd-b4c322e26b27"
      },
      "outputs": [
        {
          "data": {
            "text/html": [
              "\n",
              "  <div id=\"df-2ef7cedb-581b-417f-8446-bbb52acd4e97\">\n",
              "    <div class=\"colab-df-container\">\n",
              "      <div>\n",
              "<style scoped>\n",
              "    .dataframe tbody tr th:only-of-type {\n",
              "        vertical-align: middle;\n",
              "    }\n",
              "\n",
              "    .dataframe tbody tr th {\n",
              "        vertical-align: top;\n",
              "    }\n",
              "\n",
              "    .dataframe thead th {\n",
              "        text-align: right;\n",
              "    }\n",
              "</style>\n",
              "<table border=\"1\" class=\"dataframe\">\n",
              "  <thead>\n",
              "    <tr style=\"text-align: right;\">\n",
              "      <th></th>\n",
              "      <th>SalesID</th>\n",
              "      <th>SalesPrice</th>\n",
              "    </tr>\n",
              "  </thead>\n",
              "  <tbody>\n",
              "    <tr>\n",
              "      <th>0</th>\n",
              "      <td>1227829</td>\n",
              "      <td>21903.508626</td>\n",
              "    </tr>\n",
              "    <tr>\n",
              "      <th>1</th>\n",
              "      <td>1227844</td>\n",
              "      <td>21772.267763</td>\n",
              "    </tr>\n",
              "    <tr>\n",
              "      <th>2</th>\n",
              "      <td>1227847</td>\n",
              "      <td>49217.689768</td>\n",
              "    </tr>\n",
              "    <tr>\n",
              "      <th>3</th>\n",
              "      <td>1227848</td>\n",
              "      <td>81614.297028</td>\n",
              "    </tr>\n",
              "    <tr>\n",
              "      <th>4</th>\n",
              "      <td>1227863</td>\n",
              "      <td>59900.820242</td>\n",
              "    </tr>\n",
              "  </tbody>\n",
              "</table>\n",
              "</div>\n",
              "      <button class=\"colab-df-convert\" onclick=\"convertToInteractive('df-2ef7cedb-581b-417f-8446-bbb52acd4e97')\"\n",
              "              title=\"Convert this dataframe to an interactive table.\"\n",
              "              style=\"display:none;\">\n",
              "        \n",
              "  <svg xmlns=\"http://www.w3.org/2000/svg\" height=\"24px\"viewBox=\"0 0 24 24\"\n",
              "       width=\"24px\">\n",
              "    <path d=\"M0 0h24v24H0V0z\" fill=\"none\"/>\n",
              "    <path d=\"M18.56 5.44l.94 2.06.94-2.06 2.06-.94-2.06-.94-.94-2.06-.94 2.06-2.06.94zm-11 1L8.5 8.5l.94-2.06 2.06-.94-2.06-.94L8.5 2.5l-.94 2.06-2.06.94zm10 10l.94 2.06.94-2.06 2.06-.94-2.06-.94-.94-2.06-.94 2.06-2.06.94z\"/><path d=\"M17.41 7.96l-1.37-1.37c-.4-.4-.92-.59-1.43-.59-.52 0-1.04.2-1.43.59L10.3 9.45l-7.72 7.72c-.78.78-.78 2.05 0 2.83L4 21.41c.39.39.9.59 1.41.59.51 0 1.02-.2 1.41-.59l7.78-7.78 2.81-2.81c.8-.78.8-2.07 0-2.86zM5.41 20L4 18.59l7.72-7.72 1.47 1.35L5.41 20z\"/>\n",
              "  </svg>\n",
              "      </button>\n",
              "      \n",
              "  <style>\n",
              "    .colab-df-container {\n",
              "      display:flex;\n",
              "      flex-wrap:wrap;\n",
              "      gap: 12px;\n",
              "    }\n",
              "\n",
              "    .colab-df-convert {\n",
              "      background-color: #E8F0FE;\n",
              "      border: none;\n",
              "      border-radius: 50%;\n",
              "      cursor: pointer;\n",
              "      display: none;\n",
              "      fill: #1967D2;\n",
              "      height: 32px;\n",
              "      padding: 0 0 0 0;\n",
              "      width: 32px;\n",
              "    }\n",
              "\n",
              "    .colab-df-convert:hover {\n",
              "      background-color: #E2EBFA;\n",
              "      box-shadow: 0px 1px 2px rgba(60, 64, 67, 0.3), 0px 1px 3px 1px rgba(60, 64, 67, 0.15);\n",
              "      fill: #174EA6;\n",
              "    }\n",
              "\n",
              "    [theme=dark] .colab-df-convert {\n",
              "      background-color: #3B4455;\n",
              "      fill: #D2E3FC;\n",
              "    }\n",
              "\n",
              "    [theme=dark] .colab-df-convert:hover {\n",
              "      background-color: #434B5C;\n",
              "      box-shadow: 0px 1px 3px 1px rgba(0, 0, 0, 0.15);\n",
              "      filter: drop-shadow(0px 1px 2px rgba(0, 0, 0, 0.3));\n",
              "      fill: #FFFFFF;\n",
              "    }\n",
              "  </style>\n",
              "\n",
              "      <script>\n",
              "        const buttonEl =\n",
              "          document.querySelector('#df-2ef7cedb-581b-417f-8446-bbb52acd4e97 button.colab-df-convert');\n",
              "        buttonEl.style.display =\n",
              "          google.colab.kernel.accessAllowed ? 'block' : 'none';\n",
              "\n",
              "        async function convertToInteractive(key) {\n",
              "          const element = document.querySelector('#df-2ef7cedb-581b-417f-8446-bbb52acd4e97');\n",
              "          const dataTable =\n",
              "            await google.colab.kernel.invokeFunction('convertToInteractive',\n",
              "                                                     [key], {});\n",
              "          if (!dataTable) return;\n",
              "\n",
              "          const docLinkHtml = 'Like what you see? Visit the ' +\n",
              "            '<a target=\"_blank\" href=https://colab.research.google.com/notebooks/data_table.ipynb>data table notebook</a>'\n",
              "            + ' to learn more about interactive tables.';\n",
              "          element.innerHTML = '';\n",
              "          dataTable['output_type'] = 'display_data';\n",
              "          await google.colab.output.renderOutput(dataTable, element);\n",
              "          const docLink = document.createElement('div');\n",
              "          docLink.innerHTML = docLinkHtml;\n",
              "          element.appendChild(docLink);\n",
              "        }\n",
              "      </script>\n",
              "    </div>\n",
              "  </div>\n",
              "  "
            ],
            "text/plain": [
              "   SalesID    SalesPrice\n",
              "0  1227829  21903.508626\n",
              "1  1227844  21772.267763\n",
              "2  1227847  49217.689768\n",
              "3  1227848  81614.297028\n",
              "4  1227863  59900.820242"
            ]
          },
          "execution_count": 73,
          "metadata": {},
          "output_type": "execute_result"
        }
      ],
      "source": [
        "# Format predictions into the format kaggle is after\n",
        "df_preds = pd.DataFrame()\n",
        "df_preds['SalesID'] = df_test.SalesID\n",
        "df_preds['SalesPrice'] = test_preds\n",
        "df_preds.head()"
      ]
    },
    {
      "cell_type": "markdown",
      "metadata": {
        "id": "y9QorDdDJWKn"
      },
      "source": [
        "## Feature importance\n",
        "> Feature importance seeks to figure out which different attributes of the data were most important when it comes to predicting the **target variables** (SalesPrice in this case)."
      ]
    },
    {
      "cell_type": "code",
      "execution_count": null,
      "metadata": {
        "colab": {
          "background_save": true
        },
        "id": "FmKOiTwXMlTh",
        "outputId": "017bc183-2550-4890-f503-5479a2f3eadc"
      },
      "outputs": [
        {
          "data": {
            "text/plain": [
              "array([4.69742164e-02, 1.21756224e-02, 3.28206447e-02, 1.91821415e-04,\n",
              "       3.12549155e-03, 2.70526742e-01, 2.50027577e-03, 8.43621743e-04,\n",
              "       1.99772329e-02, 8.10928500e-02, 5.28863842e-02, 4.29368684e-03,\n",
              "       3.50245188e-03, 2.35522299e-01, 3.99581498e-02, 6.17186343e-03,\n",
              "       1.81228308e-04, 2.29814760e-04, 1.75364587e-03, 8.26475972e-03,\n",
              "       3.05132804e-04, 3.06971264e-05, 4.63643854e-04, 1.54449341e-04,\n",
              "       1.61055671e-03, 2.34875755e-05, 4.23159465e-04, 6.14417712e-03,\n",
              "       5.18267029e-04, 4.43919952e-04, 3.35706166e-03, 1.96243964e-03,\n",
              "       2.08127313e-03, 5.59957035e-03, 1.82193673e-04, 1.44861683e-03,\n",
              "       7.00543326e-04, 1.79065994e-02, 1.10664598e-05, 3.17601824e-06,\n",
              "       1.63665177e-04, 8.70101771e-04, 9.83950026e-04, 5.50473585e-04,\n",
              "       1.70484674e-04, 3.56937682e-04, 3.25653039e-04, 1.40734671e-03,\n",
              "       8.08311024e-04, 1.16908514e-04, 1.78468076e-04, 7.77193838e-02,\n",
              "       1.76251165e-03, 5.90059175e-03, 2.79566378e-03, 1.20326817e-02,\n",
              "       2.08837593e-04, 3.48496551e-04, 1.27823205e-04, 0.00000000e+00,\n",
              "       0.00000000e+00, 7.46068865e-04, 4.68025300e-04, 7.24449860e-04,\n",
              "       3.63201389e-03, 0.00000000e+00, 0.00000000e+00, 0.00000000e+00,\n",
              "       0.00000000e+00, 9.67784157e-06, 3.50674098e-06, 7.15067516e-05,\n",
              "       2.96608450e-06, 3.32228194e-05, 2.01819329e-06, 1.07073753e-04,\n",
              "       2.72490718e-06, 6.20577229e-06, 1.98295746e-03, 1.70689636e-05,\n",
              "       3.49589033e-06, 1.37258910e-03, 4.10217485e-04, 7.81816652e-05,\n",
              "       2.02835566e-03, 7.89905336e-04, 3.21233783e-04, 1.16268865e-04,\n",
              "       1.33120298e-02, 1.51406664e-06, 1.06218534e-05, 1.78633296e-05,\n",
              "       2.08679329e-05, 1.90695857e-05, 2.23134686e-05, 1.71379057e-05,\n",
              "       1.88897948e-05, 2.03283842e-04, 8.66904071e-05, 6.00094310e-05,\n",
              "       4.28965899e-05, 4.59525898e-05])"
            ]
          },
          "execution_count": 74,
          "metadata": {},
          "output_type": "execute_result"
        }
      ],
      "source": [
        "ideal_model.feature_importances_"
      ]
    },
    {
      "cell_type": "code",
      "execution_count": null,
      "metadata": {
        "colab": {
          "background_save": true
        },
        "id": "eQPvE3GCM-7a"
      },
      "outputs": [],
      "source": [
        "def plot_features(columns, importances, n=20):\n",
        "  df = (pd.DataFrame({'Features': columns,\n",
        "                      'Feature_Importances': importances})\n",
        "        .sort_values('Feature_Importances', ascending=False)\n",
        "        .reset_index(drop=True))\n",
        "  # Plot the dataframe\n",
        "  fig, ax = plt.subplots(figsize=(8, 8))\n",
        "  ax.barh(df['Features'][:n], df['Feature_Importances'][:20])\n",
        "  ax.set_ylabel('Features')\n",
        "  ax.set_xlabel('Feature importance')\n",
        "  ax.invert_yaxis()"
      ]
    },
    {
      "cell_type": "code",
      "execution_count": null,
      "metadata": {
        "colab": {
          "background_save": true
        },
        "id": "dn-YkYemOKt7",
        "outputId": "ff5bdd7b-af5e-40f3-e087-7dbc44e6ce17"
      },
      "outputs": [
        {
          "data": {
            "image/png": "[encoded data removed]",
            "text/plain": [
              "<Figure size 576x576 with 1 Axes>"
            ]
          },
          "metadata": {},
          "output_type": "display_data"
        }
      ],
      "source": [
        "plot_features(X_train.columns, ideal_model.feature_importances_)"
      ]
    },
    {
      "cell_type": "markdown",
      "metadata": {
        "id": "6KW3HWRGOPve"
      },
      "source": [
        "# Trying SGD\n",
        "> SGD stands for Stochastic Gradient Descent: the gradient of the loss is estimated each sample at a time and the model is updated along the way with a decreasing strength schedule (aka learning rate)."
      ]
    },
    {
      "cell_type": "code",
      "execution_count": null,
      "metadata": {
        "colab": {
          "background_save": true
        },
        "id": "gBznAnoqQkSo",
        "outputId": "cf4b9e1d-de8c-42fd-f895-0c02a280a65a"
      },
      "outputs": [
        {
          "name": "stdout",
          "output_type": "stream",
          "text": [
            "-- Epoch 1\n",
            "Norm: 656397645401354.25, NNZs: 96, Bias: 5563549233.241773, T: 401125, Avg. loss: 2851057624217738322854285794642824974565376.000000\n",
            "Total training time: 0.35 seconds.\n",
            "-- Epoch 2\n",
            "Norm: 1514426932965435.50, NNZs: 96, Bias: -9039650508.093117, T: 802250, Avg. loss: 1181149734692832559460232561305215943311360.000000\n",
            "Total training time: 0.72 seconds.\n",
            "-- Epoch 3\n",
            "Norm: 1088960644647026.62, NNZs: 96, Bias: -5172796017.863156, T: 1203375, Avg. loss: 903266318021783799200983331822558955700224.000000\n",
            "Total training time: 1.09 seconds.\n",
            "-- Epoch 4\n",
            "Norm: 1245275800590563.75, NNZs: 96, Bias: -28160397348.343014, T: 1604500, Avg. loss: 762763181187487236983698681453750022832128.000000\n",
            "Total training time: 1.39 seconds.\n",
            "-- Epoch 5\n",
            "Norm: 1264629391926590.50, NNZs: 96, Bias: -22164725849.798302, T: 2005625, Avg. loss: 670168780979943457963030119825070014595072.000000\n",
            "Total training time: 1.67 seconds.\n",
            "-- Epoch 6\n",
            "Norm: 1336133912617723.00, NNZs: 96, Bias: -102206104987.311401, T: 2406750, Avg. loss: 607128856318555566245321583476755839057920.000000\n",
            "Total training time: 1.95 seconds.\n",
            "-- Epoch 7\n",
            "Norm: 733322475080484.50, NNZs: 96, Bias: -94832823124.990128, T: 2807875, Avg. loss: 557111479260044801413510882505230051704832.000000\n",
            "Total training time: 2.25 seconds.\n",
            "-- Epoch 8\n",
            "Norm: 782872877536917.88, NNZs: 96, Bias: -12685982773.750992, T: 3209000, Avg. loss: 518573437527606202639133217532849504124928.000000\n",
            "Total training time: 2.62 seconds.\n",
            "-- Epoch 9\n",
            "Norm: 375455117876947.62, NNZs: 96, Bias: -7558942001.423639, T: 3610125, Avg. loss: 487778479982269228238506731591842144452608.000000\n",
            "Total training time: 2.98 seconds.\n",
            "-- Epoch 10\n",
            "Norm: 854851091299880.50, NNZs: 96, Bias: -73192514918.178101, T: 4011250, Avg. loss: 460202640558551084273021926145003098210304.000000\n",
            "Total training time: 3.32 seconds.\n",
            "-- Epoch 11\n",
            "Norm: 1138168432836103.25, NNZs: 96, Bias: -2016881548.422324, T: 4412375, Avg. loss: 438607349882266743835504200279682854158336.000000\n",
            "Total training time: 3.61 seconds.\n",
            "-- Epoch 12\n",
            "Norm: 1272173802230360.50, NNZs: 96, Bias: -43529498947.246529, T: 4813500, Avg. loss: 418143848513213923944042780885213358587904.000000\n",
            "Total training time: 3.89 seconds.\n",
            "-- Epoch 13\n",
            "Norm: 907067356250343.75, NNZs: 96, Bias: -51781428683.303009, T: 5214625, Avg. loss: 402097047267377012551478385742348696944640.000000\n",
            "Total training time: 4.15 seconds.\n",
            "-- Epoch 14\n",
            "Norm: 646968601569483.12, NNZs: 96, Bias: -86013804193.767715, T: 5615750, Avg. loss: 387354249837912569281278650878260192215040.000000\n",
            "Total training time: 4.49 seconds.\n",
            "-- Epoch 15\n",
            "Norm: 797784899037111.75, NNZs: 96, Bias: -93567329411.906433, T: 6016875, Avg. loss: 372691336998377075664668641376092569993216.000000\n",
            "Total training time: 4.86 seconds.\n",
            "-- Epoch 16\n",
            "Norm: 562278941520120.50, NNZs: 96, Bias: -59830203657.603081, T: 6418000, Avg. loss: 362261678997869280293039224522932215611392.000000\n",
            "Total training time: 5.20 seconds.\n",
            "-- Epoch 17\n",
            "Norm: 850163088521763.75, NNZs: 96, Bias: -60163430124.620987, T: 6819125, Avg. loss: 349991316904868379321876907346514889670656.000000\n",
            "Total training time: 5.57 seconds.\n",
            "-- Epoch 18\n",
            "Norm: 1236887808821154.50, NNZs: 96, Bias: -72653398835.064529, T: 7220250, Avg. loss: 340159451578233356136925601964372707508224.000000\n",
            "Total training time: 5.93 seconds.\n",
            "-- Epoch 19\n",
            "Norm: 367000868989922.44, NNZs: 96, Bias: -89968855489.345825, T: 7621375, Avg. loss: 329231650413963031664346559420340117700608.000000\n",
            "Total training time: 6.28 seconds.\n",
            "-- Epoch 20\n",
            "Norm: 820378284393837.25, NNZs: 96, Bias: -89851961934.726700, T: 8022500, Avg. loss: 320702897447502773795771353852041924444160.000000\n",
            "Total training time: 6.55 seconds.\n",
            "-- Epoch 21\n",
            "Norm: 1350536767012996.00, NNZs: 96, Bias: -93197870547.716751, T: 8423625, Avg. loss: 312791105348974100819953704057599487377408.000000\n",
            "Total training time: 6.79 seconds.\n",
            "-- Epoch 22\n",
            "Norm: 571124861527607.62, NNZs: 96, Bias: -151212279584.494904, T: 8824750, Avg. loss: 305654642663976959428407814457802146971648.000000\n",
            "Total training time: 7.05 seconds.\n",
            "-- Epoch 23\n",
            "Norm: 655505153790013.62, NNZs: 96, Bias: -144965156794.288208, T: 9225875, Avg. loss: 300441933056481261347434416759181204783104.000000\n",
            "Total training time: 7.29 seconds.\n",
            "-- Epoch 24\n",
            "Norm: 590532315837291.88, NNZs: 96, Bias: -152700713634.389343, T: 9627000, Avg. loss: 293764805627936043288852151567082636443648.000000\n",
            "Total training time: 7.58 seconds.\n",
            "-- Epoch 25\n",
            "Norm: 648836722317583.75, NNZs: 96, Bias: -163651719673.129700, T: 10028125, Avg. loss: 286735387664879015873669869361915473428480.000000\n",
            "Total training time: 7.86 seconds.\n",
            "-- Epoch 26\n",
            "Norm: 617662482035012.50, NNZs: 96, Bias: -147249338351.323181, T: 10429250, Avg. loss: 281473510932343156407532226865383440646144.000000\n",
            "Total training time: 8.13 seconds.\n",
            "-- Epoch 27\n",
            "Norm: 1063276117164374.00, NNZs: 96, Bias: -169056460948.841827, T: 10830375, Avg. loss: 276364353476270790761326319134768350887936.000000\n",
            "Total training time: 8.36 seconds.\n",
            "-- Epoch 28\n",
            "Norm: 943029931823151.50, NNZs: 96, Bias: -194910031699.675049, T: 11231500, Avg. loss: 270490713543457004544436440383842108309504.000000\n",
            "Total training time: 8.62 seconds.\n",
            "-- Epoch 29\n",
            "Norm: 707848918490430.00, NNZs: 96, Bias: -199920061774.021637, T: 11632625, Avg. loss: 266014167272351092762940257457428332806144.000000\n",
            "Total training time: 8.89 seconds.\n",
            "-- Epoch 30\n",
            "Norm: 823243490315676.88, NNZs: 96, Bias: -233475067642.480743, T: 12033750, Avg. loss: 261689674964134270009619294418595894788096.000000\n",
            "Total training time: 9.18 seconds.\n",
            "-- Epoch 31\n",
            "Norm: 830121297843180.50, NNZs: 96, Bias: -192013093608.922943, T: 12434875, Avg. loss: 257359708676741527284392550701126498910208.000000\n",
            "Total training time: 9.50 seconds.\n",
            "-- Epoch 32\n",
            "Norm: 497268021974981.75, NNZs: 96, Bias: -187845911260.499146, T: 12836000, Avg. loss: 252975766460016894201340832711403894734848.000000\n",
            "Total training time: 9.84 seconds.\n",
            "-- Epoch 33\n",
            "Norm: 706674593943983.75, NNZs: 96, Bias: -192001784866.263397, T: 13237125, Avg. loss: 249045658580162188930262560970308008804352.000000\n",
            "Total training time: 10.19 seconds.\n",
            "-- Epoch 34\n",
            "Norm: 658648564252772.50, NNZs: 96, Bias: -201110510323.782257, T: 13638250, Avg. loss: 244688793072167418861369537362074775060480.000000\n",
            "Total training time: 10.55 seconds.\n",
            "-- Epoch 35\n",
            "Norm: 871282083398181.12, NNZs: 96, Bias: -204569158618.276794, T: 14039375, Avg. loss: 241770848534898549801911372983962966163456.000000\n",
            "Total training time: 10.92 seconds.\n",
            "-- Epoch 36\n",
            "Norm: 924546847724901.12, NNZs: 96, Bias: -210428621761.060730, T: 14440500, Avg. loss: 238460188458737952657993662127131622113280.000000\n",
            "Total training time: 11.25 seconds.\n",
            "-- Epoch 37\n",
            "Norm: 682937820575453.88, NNZs: 96, Bias: -156927256410.852112, T: 14841625, Avg. loss: 234964582261559529147617273543697652252672.000000\n",
            "Total training time: 11.54 seconds.\n",
            "-- Epoch 38\n",
            "Norm: 514979835700908.75, NNZs: 96, Bias: -68449125572.560989, T: 15242750, Avg. loss: 232062774837830187450316503704281192333312.000000\n",
            "Total training time: 11.84 seconds.\n",
            "-- Epoch 39\n",
            "Norm: 480878282708370.38, NNZs: 96, Bias: -38576491075.538795, T: 15643875, Avg. loss: 229584633521906850419718712230927432417280.000000\n",
            "Total training time: 12.08 seconds.\n",
            "-- Epoch 40\n",
            "Norm: 520927390620930.38, NNZs: 96, Bias: 1765511862.237539, T: 16045000, Avg. loss: 226019407075716930402500594628064389890048.000000\n",
            "Total training time: 12.33 seconds.\n",
            "-- Epoch 41\n",
            "Norm: 475787359718113.88, NNZs: 96, Bias: -65934246115.687088, T: 16446125, Avg. loss: 223356096274926455129152512435909283545088.000000\n",
            "Total training time: 12.68 seconds.\n",
            "-- Epoch 42\n",
            "Norm: 326531278602751.56, NNZs: 96, Bias: -125523856041.010010, T: 16847250, Avg. loss: 220368342245484293426249931633049567494144.000000\n",
            "Total training time: 13.04 seconds.\n",
            "-- Epoch 43\n",
            "Norm: 420856268295108.56, NNZs: 96, Bias: -118771333871.970291, T: 17248375, Avg. loss: 218240948752089362981710888119699714867200.000000\n",
            "Total training time: 13.39 seconds.\n",
            "-- Epoch 44\n",
            "Norm: 417469222618366.38, NNZs: 96, Bias: -183589254036.302216, T: 17649500, Avg. loss: 216418909701176818164776848209907783041024.000000\n",
            "Total training time: 13.70 seconds.\n",
            "-- Epoch 45\n",
            "Norm: 417211351664063.44, NNZs: 96, Bias: -168409707628.424683, T: 18050625, Avg. loss: 212895007755081533353778289079297685585920.000000\n",
            "Total training time: 13.96 seconds.\n",
            "-- Epoch 46\n",
            "Norm: 791841980528467.12, NNZs: 96, Bias: -125730267392.006439, T: 18451750, Avg. loss: 210357691185774483737794999028438917971968.000000\n",
            "Total training time: 14.21 seconds.\n",
            "-- Epoch 47\n",
            "Norm: 584029820911590.50, NNZs: 96, Bias: -160526566812.268372, T: 18852875, Avg. loss: 208125519045726410377636894239087185100800.000000\n",
            "Total training time: 14.48 seconds.\n",
            "-- Epoch 48\n",
            "Norm: 630213738321438.00, NNZs: 96, Bias: -132768732417.398727, T: 19254000, Avg. loss: 206424101491174001446393129628487190052864.000000\n",
            "Total training time: 14.85 seconds.\n",
            "-- Epoch 49\n",
            "Norm: 391226153139798.69, NNZs: 96, Bias: -166936620403.629242, T: 19655125, Avg. loss: 204095824701876857595108167681939295174656.000000\n",
            "Total training time: 15.22 seconds.\n",
            "-- Epoch 50\n",
            "Norm: 713498813583139.38, NNZs: 96, Bias: -168583084520.484985, T: 20056250, Avg. loss: 202789509132581938799230357024758539747328.000000\n",
            "Total training time: 15.59 seconds.\n",
            "-- Epoch 51\n",
            "Norm: 570555543997271.38, NNZs: 96, Bias: -140385323512.848816, T: 20457375, Avg. loss: 199754949950405501628068418033765956190208.000000\n",
            "Total training time: 15.94 seconds.\n",
            "-- Epoch 52\n",
            "Norm: 763805623759556.75, NNZs: 96, Bias: -117992354857.175323, T: 20858500, Avg. loss: 198405562518234043279277334808019351896064.000000\n",
            "Total training time: 16.27 seconds.\n",
            "-- Epoch 53\n",
            "Norm: 952805129387348.12, NNZs: 96, Bias: -109029586551.914291, T: 21259625, Avg. loss: 195812400143353789870659056898621468311552.000000\n",
            "Total training time: 16.58 seconds.\n",
            "-- Epoch 54\n",
            "Norm: 434946273277367.56, NNZs: 96, Bias: -133548593387.151840, T: 21660750, Avg. loss: 194727599607114089801692617743298979692544.000000\n",
            "Total training time: 16.94 seconds.\n",
            "-- Epoch 55\n",
            "Norm: 421959256005499.81, NNZs: 96, Bias: -64297900063.218048, T: 22061875, Avg. loss: 192531551994046692503170792272203234672640.000000\n",
            "Total training time: 17.30 seconds.\n",
            "-- Epoch 56\n",
            "Norm: 655096145210318.62, NNZs: 96, Bias: -12666615372.520552, T: 22463000, Avg. loss: 191273198199649471395528474678038070558720.000000\n",
            "Total training time: 17.64 seconds.\n",
            "-- Epoch 57\n",
            "Norm: 513537317736153.31, NNZs: 96, Bias: -66216104423.877129, T: 22864125, Avg. loss: 189021637347275556547316139164864817922048.000000\n",
            "Total training time: 18.01 seconds.\n",
            "-- Epoch 58\n",
            "Norm: 853700559143950.62, NNZs: 96, Bias: -104202866196.195251, T: 23265250, Avg. loss: 188136216751304777306509872563172851843072.000000\n",
            "Total training time: 18.35 seconds.\n",
            "-- Epoch 59\n",
            "Norm: 666559285055050.62, NNZs: 96, Bias: -85951799594.622055, T: 23666375, Avg. loss: 185872300556899244393820932423165971267584.000000\n",
            "Total training time: 18.68 seconds.\n",
            "-- Epoch 60\n",
            "Norm: 455335592694999.94, NNZs: 96, Bias: -86387046613.467682, T: 24067500, Avg. loss: 184298203820254385820043550754537543303168.000000\n",
            "Total training time: 19.05 seconds.\n",
            "-- Epoch 61\n",
            "Norm: 337114152288988.19, NNZs: 96, Bias: -114157037507.345108, T: 24468625, Avg. loss: 182797450333915301038768798711059224461312.000000\n",
            "Total training time: 19.41 seconds.\n",
            "-- Epoch 62\n",
            "Norm: 433331161867904.19, NNZs: 96, Bias: -117669144670.940414, T: 24869750, Avg. loss: 181056838760687042602746229662225082089472.000000\n",
            "Total training time: 19.74 seconds.\n",
            "-- Epoch 63\n",
            "Norm: 689859117900364.25, NNZs: 96, Bias: -136770615579.501999, T: 25270875, Avg. loss: 180206096596897144636370536143527142752256.000000\n",
            "Total training time: 20.01 seconds.\n",
            "-- Epoch 64\n",
            "Norm: 506336356124197.00, NNZs: 96, Bias: -121717055893.984528, T: 25672000, Avg. loss: 178930365809734036455332421667803753349120.000000\n",
            "Total training time: 20.27 seconds.\n",
            "-- Epoch 65\n",
            "Norm: 689163649592915.50, NNZs: 96, Bias: -63802643447.747726, T: 26073125, Avg. loss: 176789723943547001348651039733780129513472.000000\n",
            "Total training time: 20.53 seconds.\n",
            "-- Epoch 66\n",
            "Norm: 620825754774459.25, NNZs: 96, Bias: -56978663624.897835, T: 26474250, Avg. loss: 175548133664035848813829533430084431511552.000000\n",
            "Total training time: 20.87 seconds.\n",
            "-- Epoch 67\n",
            "Norm: 502567798076269.06, NNZs: 96, Bias: -56057308179.132370, T: 26875375, Avg. loss: 173556482850695999908445719431755868405760.000000\n",
            "Total training time: 21.24 seconds.\n",
            "-- Epoch 68\n",
            "Norm: 612271366752267.88, NNZs: 96, Bias: -71707917626.053741, T: 27276500, Avg. loss: 172347817783464826980312764630493804101632.000000\n",
            "Total training time: 21.60 seconds.\n",
            "-- Epoch 69\n",
            "Norm: 449055470939180.19, NNZs: 96, Bias: -59974147666.081390, T: 27677625, Avg. loss: 171859710564152835659829613985572201693184.000000\n",
            "Total training time: 21.96 seconds.\n",
            "-- Epoch 70\n",
            "Norm: 476703631183951.44, NNZs: 96, Bias: -95020498674.894958, T: 28078750, Avg. loss: 170813993605740322018956795750696544632832.000000\n",
            "Total training time: 22.31 seconds.\n",
            "-- Epoch 71\n",
            "Norm: 681050307351836.50, NNZs: 96, Bias: -71034583526.522415, T: 28479875, Avg. loss: 169105857784100854460698597615552983728128.000000\n",
            "Total training time: 22.65 seconds.\n",
            "-- Epoch 72\n",
            "Norm: 764785467971620.38, NNZs: 96, Bias: -51780564234.758667, T: 28881000, Avg. loss: 167571943163847382218883091399719272841216.000000\n",
            "Total training time: 22.93 seconds.\n",
            "-- Epoch 73\n",
            "Norm: 680543228488869.12, NNZs: 96, Bias: -32543809206.373127, T: 29282125, Avg. loss: 166667436661544991610959076796098179760128.000000\n",
            "Total training time: 23.21 seconds.\n",
            "-- Epoch 74\n",
            "Norm: 585843298793001.62, NNZs: 96, Bias: -83195286586.009781, T: 29683250, Avg. loss: 165513882796057896770865380066164159283200.000000\n",
            "Total training time: 23.50 seconds.\n",
            "-- Epoch 75\n",
            "Norm: 753601975392956.75, NNZs: 96, Bias: -70639807337.912598, T: 30084375, Avg. loss: 164080295632055959762256537177710049361920.000000\n",
            "Total training time: 23.82 seconds.\n",
            "-- Epoch 76\n",
            "Norm: 492757251445207.75, NNZs: 96, Bias: -62961104274.725067, T: 30485500, Avg. loss: 163976615040365063405212941852375341072384.000000\n",
            "Total training time: 24.19 seconds.\n",
            "-- Epoch 77\n",
            "Norm: 350684174591863.69, NNZs: 96, Bias: -69524815916.274933, T: 30886625, Avg. loss: 162215181981530721708829938641511320125440.000000\n",
            "Total training time: 24.55 seconds.\n",
            "-- Epoch 78\n",
            "Norm: 532162477218225.06, NNZs: 96, Bias: -62402829074.820030, T: 31287750, Avg. loss: 161681565215147421660672325521025569652736.000000\n",
            "Total training time: 24.86 seconds.\n",
            "-- Epoch 79\n",
            "Norm: 528562711190694.88, NNZs: 96, Bias: -56912048536.759575, T: 31688875, Avg. loss: 160589808191896083472989099254851278209024.000000\n",
            "Total training time: 25.13 seconds.\n",
            "-- Epoch 80\n",
            "Norm: 351521616618596.69, NNZs: 96, Bias: -58600170906.390701, T: 32090000, Avg. loss: 159390071400713593388327077787018868031488.000000\n",
            "Total training time: 25.41 seconds.\n",
            "-- Epoch 81\n",
            "Norm: 533175609591397.75, NNZs: 96, Bias: -65891441996.223053, T: 32491125, Avg. loss: 158677402084081338781190966037636104323072.000000\n",
            "Total training time: 25.69 seconds.\n",
            "-- Epoch 82\n",
            "Norm: 644794145212798.00, NNZs: 96, Bias: -80544486528.191864, T: 32892250, Avg. loss: 157783992023409346735710281983971427352576.000000\n",
            "Total training time: 26.06 seconds.\n",
            "-- Epoch 83\n",
            "Norm: 586175225779504.62, NNZs: 96, Bias: -93593288223.639664, T: 33293375, Avg. loss: 156818636085627551324981741589535158960128.000000\n",
            "Total training time: 26.40 seconds.\n",
            "-- Epoch 84\n",
            "Norm: 721927638580110.38, NNZs: 96, Bias: -144201445309.401123, T: 33694500, Avg. loss: 155255886364196454539131278616562006753280.000000\n",
            "Total training time: 26.75 seconds.\n",
            "-- Epoch 85\n",
            "Norm: 304196511467522.00, NNZs: 96, Bias: -100795026950.650177, T: 34095625, Avg. loss: 154488549611805907044067313476817666441216.000000\n",
            "Total training time: 27.12 seconds.\n",
            "-- Epoch 86\n",
            "Norm: 343318112733771.19, NNZs: 96, Bias: -62997007311.888527, T: 34496750, Avg. loss: 153490275558992833106004161826747689467904.000000\n",
            "Total training time: 27.48 seconds.\n",
            "-- Epoch 87\n",
            "Norm: 505151696253568.81, NNZs: 96, Bias: -81923378063.831543, T: 34897875, Avg. loss: 152910432263989875987885998880078788820992.000000\n",
            "Total training time: 27.85 seconds.\n",
            "-- Epoch 88\n",
            "Norm: 595899425234620.25, NNZs: 96, Bias: -74809966706.329269, T: 35299000, Avg. loss: 151551478153726376765367914674712767102976.000000\n",
            "Total training time: 28.23 seconds.\n",
            "-- Epoch 89\n",
            "Norm: 516750649338729.69, NNZs: 96, Bias: -103707333977.374496, T: 35700125, Avg. loss: 151056338563843264147309889694621455351808.000000\n",
            "Total training time: 28.59 seconds.\n",
            "-- Epoch 90\n",
            "Norm: 397247543229941.12, NNZs: 96, Bias: -122691489278.205307, T: 36101250, Avg. loss: 150247395160319072370863305733925121294336.000000\n",
            "Total training time: 28.96 seconds.\n",
            "-- Epoch 91\n",
            "Norm: 411740554557083.44, NNZs: 96, Bias: -67448348629.918541, T: 36502375, Avg. loss: 149153806479268507328784060945996732956672.000000\n",
            "Total training time: 29.34 seconds.\n",
            "-- Epoch 92\n",
            "Norm: 473798692691072.12, NNZs: 96, Bias: -67316466712.627022, T: 36903500, Avg. loss: 148942016185445912141740487308498763251712.000000\n",
            "Total training time: 29.72 seconds.\n",
            "-- Epoch 93\n",
            "Norm: 589846623733941.00, NNZs: 96, Bias: -108204780661.384003, T: 37304625, Avg. loss: 147323355153240863732125819388797831348224.000000\n",
            "Total training time: 30.04 seconds.\n",
            "-- Epoch 94\n",
            "Norm: 369465343889691.38, NNZs: 96, Bias: -98629259538.420944, T: 37705750, Avg. loss: 147021135004581538174955190606883440295936.000000\n",
            "Total training time: 30.30 seconds.\n",
            "-- Epoch 95\n",
            "Norm: 469209825531429.81, NNZs: 96, Bias: -74563559475.935913, T: 38106875, Avg. loss: 145839764135147169450998811749264981491712.000000\n",
            "Total training time: 30.58 seconds.\n",
            "-- Epoch 96\n",
            "Norm: 756017704666775.38, NNZs: 96, Bias: -67045331867.405670, T: 38508000, Avg. loss: 145735504858318638399122872791103126372352.000000\n",
            "Total training time: 30.83 seconds.\n",
            "-- Epoch 97\n",
            "Norm: 383640405590896.44, NNZs: 96, Bias: -75527335178.044403, T: 38909125, Avg. loss: 144486251600508799433134278906032049618944.000000\n",
            "Total training time: 31.11 seconds.\n",
            "-- Epoch 98\n",
            "Norm: 496244597094723.69, NNZs: 96, Bias: -82464412009.451416, T: 39310250, Avg. loss: 144144146068864092347961590510870274768896.000000\n",
            "Total training time: 31.36 seconds.\n",
            "-- Epoch 99\n",
            "Norm: 439011707797919.25, NNZs: 96, Bias: -113891846625.676224, T: 39711375, Avg. loss: 143412254276949845228179973773995840372736.000000\n",
            "Total training time: 31.62 seconds.\n",
            "-- Epoch 100\n",
            "Norm: 407416546166874.75, NNZs: 96, Bias: -112496315790.887085, T: 40112500, Avg. loss: 142584009867799242554017926912435940229120.000000\n",
            "Total training time: 31.92 seconds.\n",
            "-- Epoch 101\n",
            "Norm: 628139400472221.12, NNZs: 96, Bias: -108344385549.535446, T: 40513625, Avg. loss: 141435706801834755676777204081200145104896.000000\n",
            "Total training time: 32.29 seconds.\n",
            "-- Epoch 102\n",
            "Norm: 683888093469805.50, NNZs: 96, Bias: -117729898937.411224, T: 40914750, Avg. loss: 140703994912748052717033976229042505908224.000000\n",
            "Total training time: 32.66 seconds.\n",
            "-- Epoch 103\n",
            "Norm: 632456182846793.75, NNZs: 96, Bias: -60404057100.127846, T: 41315875, Avg. loss: 140660616183759513074655860447688483930112.000000\n",
            "Total training time: 33.01 seconds.\n",
            "-- Epoch 104\n",
            "Norm: 421336028985575.12, NNZs: 96, Bias: -56791772710.248001, T: 41717000, Avg. loss: 139759798042364914433141084181711445557248.000000\n",
            "Total training time: 33.32 seconds.\n",
            "-- Epoch 105\n",
            "Norm: 376893580739370.19, NNZs: 96, Bias: -73582140586.090164, T: 42118125, Avg. loss: 138738358325223270924446458836809502687232.000000\n",
            "Total training time: 33.62 seconds.\n",
            "-- Epoch 106\n",
            "Norm: 616620243398758.00, NNZs: 96, Bias: -89336508963.703506, T: 42519250, Avg. loss: 138410201026346860687681508027390645764096.000000\n",
            "Total training time: 33.90 seconds.\n",
            "-- Epoch 107\n",
            "Norm: 468685110334228.69, NNZs: 96, Bias: -127811117398.895737, T: 42920375, Avg. loss: 138101329298453623525481569250975789613056.000000\n",
            "Total training time: 34.28 seconds.\n",
            "-- Epoch 108\n",
            "Norm: 577815854975920.00, NNZs: 96, Bias: -134331179729.456284, T: 43321500, Avg. loss: 137438253938740713601096824985723665907712.000000\n",
            "Total training time: 34.62 seconds.\n",
            "-- Epoch 109\n",
            "Norm: 300665339505592.06, NNZs: 96, Bias: -144537486448.627258, T: 43722625, Avg. loss: 135919333234178655013531667152760935022592.000000\n",
            "Total training time: 34.97 seconds.\n",
            "-- Epoch 110\n",
            "Norm: 409068769437037.56, NNZs: 96, Bias: -173411632759.688690, T: 44123750, Avg. loss: 136214045373101205136182852454002206965760.000000\n",
            "Total training time: 35.26 seconds.\n",
            "-- Epoch 111\n",
            "Norm: 586639316635921.88, NNZs: 96, Bias: -122304278732.604202, T: 44524875, Avg. loss: 135559268583827055278971316927103619825664.000000\n",
            "Total training time: 35.54 seconds.\n",
            "-- Epoch 112\n",
            "Norm: 449761726563278.56, NNZs: 96, Bias: -120960427853.154037, T: 44926000, Avg. loss: 134198719555836932688305389472155925741568.000000\n",
            "Total training time: 35.82 seconds.\n",
            "-- Epoch 113\n",
            "Norm: 444495488718651.75, NNZs: 96, Bias: -117685491058.014664, T: 45327125, Avg. loss: 133879949127232448990552691186717761208320.000000\n",
            "Total training time: 36.09 seconds.\n",
            "-- Epoch 114\n",
            "Norm: 335578432268351.00, NNZs: 96, Bias: -126066607473.113678, T: 45728250, Avg. loss: 134040622108783219905621382877993246916608.000000\n",
            "Total training time: 36.37 seconds.\n",
            "-- Epoch 115\n",
            "Norm: 325548170966011.69, NNZs: 96, Bias: -102877038100.549728, T: 46129375, Avg. loss: 132645338215408347873851170162187496849408.000000\n",
            "Total training time: 36.64 seconds.\n",
            "-- Epoch 116\n",
            "Norm: 398386532242624.00, NNZs: 96, Bias: -113197751639.933075, T: 46530500, Avg. loss: 132134313689731794305447621687584338477056.000000\n",
            "Total training time: 36.91 seconds.\n",
            "-- Epoch 117\n",
            "Norm: 405443320951683.81, NNZs: 96, Bias: -143570431238.553864, T: 46931625, Avg. loss: 131281924609717354546076381443728500326400.000000\n",
            "Total training time: 37.24 seconds.\n",
            "-- Epoch 118\n",
            "Norm: 391571139703308.19, NNZs: 96, Bias: -116389330181.624023, T: 47332750, Avg. loss: 131190736365995991335983194235878902857728.000000\n",
            "Total training time: 37.58 seconds.\n",
            "-- Epoch 119\n",
            "Norm: 506994958079673.06, NNZs: 96, Bias: -81331412098.143692, T: 47733875, Avg. loss: 130434068001803425548546879100254865588224.000000\n",
            "Total training time: 37.93 seconds.\n",
            "-- Epoch 120\n",
            "Norm: 467179710863086.38, NNZs: 96, Bias: -42966127944.063347, T: 48135000, Avg. loss: 129248231283149164492552141672821785886720.000000\n",
            "Total training time: 38.22 seconds.\n",
            "-- Epoch 121\n",
            "Norm: 852780850686936.88, NNZs: 96, Bias: -56285802382.297676, T: 48536125, Avg. loss: 129810127663783046843628552065849160105984.000000\n",
            "Total training time: 38.50 seconds.\n",
            "-- Epoch 122\n",
            "Norm: 374220685455186.69, NNZs: 96, Bias: -109309246582.423462, T: 48937250, Avg. loss: 128695040214777723951947556317228609568768.000000\n",
            "Total training time: 38.76 seconds.\n",
            "-- Epoch 123\n",
            "Norm: 339611204615753.94, NNZs: 96, Bias: -141665762121.293854, T: 49338375, Avg. loss: 128734455729491023505859543012476775825408.000000\n",
            "Total training time: 38.99 seconds.\n",
            "-- Epoch 124\n",
            "Norm: 306614706264735.00, NNZs: 96, Bias: -114362117465.761322, T: 49739500, Avg. loss: 127683203205716653101401417671852119031808.000000\n",
            "Total training time: 39.35 seconds.\n",
            "-- Epoch 125\n",
            "Norm: 634769920872441.88, NNZs: 96, Bias: -102821645974.448700, T: 50140625, Avg. loss: 128017139902866508162101242060200487157760.000000\n",
            "Total training time: 39.71 seconds.\n",
            "-- Epoch 126\n",
            "Norm: 503757514054195.31, NNZs: 96, Bias: -113595795756.942276, T: 50541750, Avg. loss: 126845235783422624738910318019309681508352.000000\n",
            "Total training time: 40.07 seconds.\n",
            "-- Epoch 127\n",
            "Norm: 494161693091867.12, NNZs: 96, Bias: -132674342753.193375, T: 50942875, Avg. loss: 126215084785557228615684206960474589233152.000000\n",
            "Total training time: 40.43 seconds.\n",
            "-- Epoch 128\n",
            "Norm: 650445335052820.88, NNZs: 96, Bias: -115285942845.327087, T: 51344000, Avg. loss: 125347872109657548087112791221962543202304.000000\n",
            "Total training time: 40.83 seconds.\n",
            "-- Epoch 129\n",
            "Norm: 659431110985942.88, NNZs: 96, Bias: -160012303876.084290, T: 51745125, Avg. loss: 125533510177937350818673429985952427671552.000000\n",
            "Total training time: 41.21 seconds.\n",
            "-- Epoch 130\n",
            "Norm: 373362576197707.25, NNZs: 96, Bias: -186967906344.439941, T: 52146250, Avg. loss: 125184105597902670801881643909989512773632.000000\n",
            "Total training time: 41.58 seconds.\n",
            "-- Epoch 131\n",
            "Norm: 469603213533525.12, NNZs: 96, Bias: -169211664305.775940, T: 52547375, Avg. loss: 124329826129205210794518873023453952212992.000000\n",
            "Total training time: 41.92 seconds.\n",
            "-- Epoch 132\n",
            "Norm: 450648853841949.38, NNZs: 96, Bias: -154554819016.500427, T: 52948500, Avg. loss: 124331609475380647701653620166143596560384.000000\n",
            "Total training time: 42.24 seconds.\n",
            "-- Epoch 133\n",
            "Norm: 459023887112286.88, NNZs: 96, Bias: -181586613972.674469, T: 53349625, Avg. loss: 123420294407511680836964647926689513340928.000000\n",
            "Total training time: 42.51 seconds.\n",
            "-- Epoch 134\n",
            "Norm: 569929362315853.88, NNZs: 96, Bias: -165083630027.234009, T: 53750750, Avg. loss: 122282606597858043602176916697549761413120.000000\n",
            "Total training time: 42.76 seconds.\n",
            "-- Epoch 135\n",
            "Norm: 494834663434752.75, NNZs: 96, Bias: -182699225993.695282, T: 54151875, Avg. loss: 122119184053159340231112282486861172047872.000000\n",
            "Total training time: 43.00 seconds.\n",
            "-- Epoch 136\n",
            "Norm: 374646139724184.75, NNZs: 96, Bias: -174666945522.301758, T: 54553000, Avg. loss: 121692207135164538452782431314303388745728.000000\n",
            "Total training time: 43.35 seconds.\n",
            "-- Epoch 137\n",
            "Norm: 664344009907165.12, NNZs: 96, Bias: -179650442483.188416, T: 54954125, Avg. loss: 121806047679852724432974382201014658793472.000000\n",
            "Total training time: 43.73 seconds.\n",
            "-- Epoch 138\n",
            "Norm: 396727661629015.69, NNZs: 96, Bias: -190666843364.162476, T: 55355250, Avg. loss: 121489986028132936349216214249989604376576.000000\n",
            "Total training time: 44.12 seconds.\n",
            "-- Epoch 139\n",
            "Norm: 464501419097523.75, NNZs: 96, Bias: -157424724666.053894, T: 55756375, Avg. loss: 120888728307182581385402890587759416705024.000000\n",
            "Total training time: 44.48 seconds.\n",
            "-- Epoch 140\n",
            "Norm: 369575969261144.19, NNZs: 96, Bias: -125632441633.238846, T: 56157500, Avg. loss: 120437832439986832717449817681862397526016.000000\n",
            "Total training time: 44.86 seconds.\n",
            "-- Epoch 141\n",
            "Norm: 520495417714013.94, NNZs: 96, Bias: -96414078788.047287, T: 56558625, Avg. loss: 119966595697901566047526215470080151519232.000000\n",
            "Total training time: 45.22 seconds.\n",
            "-- Epoch 142\n",
            "Norm: 654950162868338.62, NNZs: 96, Bias: -90284774425.352402, T: 56959750, Avg. loss: 120011633862566910801175553607996933144576.000000\n",
            "Total training time: 45.47 seconds.\n",
            "-- Epoch 143\n",
            "Norm: 523185865788871.00, NNZs: 96, Bias: -108558216298.771927, T: 57360875, Avg. loss: 119276673935370828477694922050530959163392.000000\n",
            "Total training time: 45.71 seconds.\n",
            "-- Epoch 144\n",
            "Norm: 484426742646499.19, NNZs: 96, Bias: -138992212016.371857, T: 57762000, Avg. loss: 118222868464813556263907903288744446263296.000000\n",
            "Total training time: 45.98 seconds.\n",
            "-- Epoch 145\n",
            "Norm: 497300683056138.19, NNZs: 96, Bias: -180814005432.890381, T: 58163125, Avg. loss: 118223685172772156649837410850582579642368.000000\n",
            "Total training time: 46.23 seconds.\n",
            "-- Epoch 146\n",
            "Norm: 382578855850963.44, NNZs: 96, Bias: -180236170399.513123, T: 58564250, Avg. loss: 117489707509228028466955578897217771012096.000000\n",
            "Total training time: 46.48 seconds.\n",
            "-- Epoch 147\n",
            "Norm: 348383028798288.12, NNZs: 96, Bias: -170523852975.293427, T: 58965375, Avg. loss: 117270059699756806621347896783872678952960.000000\n",
            "Total training time: 46.71 seconds.\n",
            "-- Epoch 148\n",
            "Norm: 720386995792076.75, NNZs: 96, Bias: -219904926800.783417, T: 59366500, Avg. loss: 117057480735746148753309503965450559553536.000000\n",
            "Total training time: 46.95 seconds.\n",
            "-- Epoch 149\n",
            "Norm: 731607827212872.00, NNZs: 96, Bias: -215689704977.702698, T: 59767625, Avg. loss: 116437142932555113580610818557831257522176.000000\n",
            "Total training time: 47.19 seconds.\n",
            "-- Epoch 150\n",
            "Norm: 466568084863169.75, NNZs: 96, Bias: -218059986096.125916, T: 60168750, Avg. loss: 116720741593321667054956065345403273347072.000000\n",
            "Total training time: 47.54 seconds.\n",
            "-- Epoch 151\n",
            "Norm: 537829161633912.88, NNZs: 96, Bias: -247454402781.988007, T: 60569875, Avg. loss: 115778859709061650995072662219469484982272.000000\n",
            "Total training time: 47.90 seconds.\n",
            "-- Epoch 152\n",
            "Norm: 554215835406209.94, NNZs: 96, Bias: -243717812016.613617, T: 60971000, Avg. loss: 115253593416176680423062325543769760333824.000000\n",
            "Total training time: 48.28 seconds.\n",
            "-- Epoch 153\n",
            "Norm: 488650041381873.81, NNZs: 96, Bias: -248577140522.057983, T: 61372125, Avg. loss: 115328487498688785409012725392225582710784.000000\n",
            "Total training time: 48.65 seconds.\n",
            "-- Epoch 154\n",
            "Norm: 640784181175980.62, NNZs: 96, Bias: -209393699719.313354, T: 61773250, Avg. loss: 114754477950298416663160535352403245924352.000000\n",
            "Total training time: 49.00 seconds.\n",
            "-- Epoch 155\n",
            "Norm: 441393567468130.81, NNZs: 96, Bias: -214690234669.817230, T: 62174375, Avg. loss: 114036550090906792013723947508286833557504.000000\n",
            "Total training time: 49.36 seconds.\n",
            "-- Epoch 156\n",
            "Norm: 635475084048599.25, NNZs: 96, Bias: -209410507068.279602, T: 62575500, Avg. loss: 113711215633582619331699744982921472114688.000000\n",
            "Total training time: 49.64 seconds.\n",
            "-- Epoch 157\n",
            "Norm: 383483291774531.56, NNZs: 96, Bias: -195601961653.277313, T: 62976625, Avg. loss: 113536244403090650224435856406895325609984.000000\n",
            "Total training time: 49.91 seconds.\n",
            "-- Epoch 158\n",
            "Norm: 358628193848163.00, NNZs: 96, Bias: -190555824827.104187, T: 63377750, Avg. loss: 113676394626551580481087826130973113712640.000000\n",
            "Total training time: 50.15 seconds.\n",
            "-- Epoch 159\n",
            "Norm: 619858050980211.38, NNZs: 96, Bias: -179450899478.661682, T: 63778875, Avg. loss: 112873813970404259313175736076661463973888.000000\n",
            "Total training time: 50.44 seconds.\n",
            "-- Epoch 160\n",
            "Norm: 442937023203030.75, NNZs: 96, Bias: -202842686789.717651, T: 64180000, Avg. loss: 112643272151260258397208706185369499992064.000000\n",
            "Total training time: 50.79 seconds.\n",
            "-- Epoch 161\n",
            "Norm: 408730707174830.56, NNZs: 96, Bias: -146695600016.521790, T: 64581125, Avg. loss: 112121253711960651896912568898003444695040.000000\n",
            "Total training time: 51.15 seconds.\n",
            "-- Epoch 162\n",
            "Norm: 782754280649993.62, NNZs: 96, Bias: -107582914451.146576, T: 64982250, Avg. loss: 111753450282059504111848139601748902805504.000000\n",
            "Total training time: 51.46 seconds.\n",
            "-- Epoch 163\n",
            "Norm: 414838817355295.44, NNZs: 96, Bias: -106131650858.928665, T: 65383375, Avg. loss: 111903206875724710156605712774803797049344.000000\n",
            "Total training time: 51.73 seconds.\n",
            "-- Epoch 164\n",
            "Norm: 428919165943639.75, NNZs: 96, Bias: -97812107976.806870, T: 65784500, Avg. loss: 111209798433210956048814301303956859518976.000000\n",
            "Total training time: 52.01 seconds.\n",
            "-- Epoch 165\n",
            "Norm: 498075366500952.94, NNZs: 96, Bias: -77715593397.780014, T: 66185625, Avg. loss: 110750660152597710940226092909854476730368.000000\n",
            "Total training time: 52.26 seconds.\n",
            "-- Epoch 166\n",
            "Norm: 658771813770827.75, NNZs: 96, Bias: -48129768626.269516, T: 66586750, Avg. loss: 110497909201400380738369519913127850803200.000000\n",
            "Total training time: 52.52 seconds.\n",
            "-- Epoch 167\n",
            "Norm: 600692826345179.50, NNZs: 96, Bias: -42267248617.991150, T: 66987875, Avg. loss: 110282647396325178776974130418437821825024.000000\n",
            "Total training time: 52.79 seconds.\n",
            "-- Epoch 168\n",
            "Norm: 625468133487445.88, NNZs: 96, Bias: -58073783753.829247, T: 67389000, Avg. loss: 109737523255296124696859365420894538170368.000000\n",
            "Total training time: 53.06 seconds.\n",
            "-- Epoch 169\n",
            "Norm: 606060835190286.00, NNZs: 96, Bias: -32813149472.868534, T: 67790125, Avg. loss: 109412683629966102216475555225565275357184.000000\n",
            "Total training time: 53.34 seconds.\n",
            "-- Epoch 170\n",
            "Norm: 704383953633030.50, NNZs: 96, Bias: -6298525196.103745, T: 68191250, Avg. loss: 109297867647197019151928174044528798334976.000000\n",
            "Total training time: 53.70 seconds.\n",
            "-- Epoch 171\n",
            "Norm: 647204160176781.00, NNZs: 96, Bias: -51714927980.762611, T: 68592375, Avg. loss: 108987101195313331201458263191692452560896.000000\n",
            "Total training time: 54.07 seconds.\n",
            "-- Epoch 172\n",
            "Norm: 777781521688667.25, NNZs: 96, Bias: -33141134180.566875, T: 68993500, Avg. loss: 108521603899522584219044808346469062934528.000000\n",
            "Total training time: 54.42 seconds.\n",
            "-- Epoch 173\n",
            "Norm: 700349302132030.62, NNZs: 96, Bias: -33463875005.288330, T: 69394625, Avg. loss: 108178250374039532884975088700116871151616.000000\n",
            "Total training time: 54.70 seconds.\n",
            "-- Epoch 174\n",
            "Norm: 642540062914380.12, NNZs: 96, Bias: -32045674725.019337, T: 69795750, Avg. loss: 107972913687480623148746252970189083639808.000000\n",
            "Total training time: 54.97 seconds.\n",
            "-- Epoch 175\n",
            "Norm: 635667471039899.62, NNZs: 96, Bias: -59698345860.509933, T: 70196875, Avg. loss: 107588506536846018807607994515754751885312.000000\n",
            "Total training time: 55.22 seconds.\n",
            "-- Epoch 176\n",
            "Norm: 643217856549792.00, NNZs: 96, Bias: -34919788808.333351, T: 70598000, Avg. loss: 107137231175323923272696350413807813656576.000000\n",
            "Total training time: 55.50 seconds.\n",
            "-- Epoch 177\n",
            "Norm: 622018088309915.75, NNZs: 96, Bias: -36992392968.472939, T: 70999125, Avg. loss: 107079776240694229810911184873615830024192.000000\n",
            "Total training time: 55.78 seconds.\n",
            "-- Epoch 178\n",
            "Norm: 625473086576344.25, NNZs: 96, Bias: -29048249878.893063, T: 71400250, Avg. loss: 106553398997031460286482392260580682498048.000000\n",
            "Total training time: 56.06 seconds.\n",
            "-- Epoch 179\n",
            "Norm: 601125101785526.75, NNZs: 96, Bias: -15457628487.839363, T: 71801375, Avg. loss: 106278340527560586065635888573699883794432.000000\n",
            "Total training time: 56.35 seconds.\n",
            "-- Epoch 180\n",
            "Norm: 641338489115520.12, NNZs: 96, Bias: -48137894519.327583, T: 72202500, Avg. loss: 106152250442165097258834169847386292092928.000000\n",
            "Total training time: 56.62 seconds.\n",
            "-- Epoch 181\n",
            "Norm: 554653732173509.75, NNZs: 96, Bias: -67759069068.509445, T: 72603625, Avg. loss: 105551911689657706459924057588192818233344.000000\n",
            "Total training time: 56.89 seconds.\n",
            "-- Epoch 182\n",
            "Norm: 588121392818143.62, NNZs: 96, Bias: -92762997337.357208, T: 73004750, Avg. loss: 105575225544076937931585100222704088252416.000000\n",
            "Total training time: 57.13 seconds.\n",
            "-- Epoch 183\n",
            "Norm: 501239381241202.44, NNZs: 96, Bias: -99369952196.925583, T: 73405875, Avg. loss: 104930834280075095251111814586557217636352.000000\n",
            "Total training time: 57.38 seconds.\n",
            "-- Epoch 184\n",
            "Norm: 505410465173195.75, NNZs: 96, Bias: -89320554811.253372, T: 73807000, Avg. loss: 104957001452185102139970136760224357285888.000000\n",
            "Total training time: 57.72 seconds.\n",
            "-- Epoch 185\n",
            "Norm: 573618116168349.62, NNZs: 96, Bias: -111437260435.365234, T: 74208125, Avg. loss: 104430285025738695971826332830121179742208.000000\n",
            "Total training time: 58.09 seconds.\n",
            "-- Epoch 186\n",
            "Norm: 498321343212504.06, NNZs: 96, Bias: -94969171304.900269, T: 74609250, Avg. loss: 104300319533200970140979194857488956522496.000000\n",
            "Total training time: 58.44 seconds.\n",
            "-- Epoch 187\n",
            "Norm: 601263049582835.75, NNZs: 96, Bias: -117011344436.672470, T: 75010375, Avg. loss: 104063279170444945922976415236303592882176.000000\n",
            "Total training time: 58.80 seconds.\n",
            "-- Epoch 188\n",
            "Norm: 579630918514466.38, NNZs: 96, Bias: -73734692729.779373, T: 75411500, Avg. loss: 103927497319509478302650442058515550830592.000000\n",
            "Total training time: 59.18 seconds.\n",
            "-- Epoch 189\n",
            "Norm: 790266660792559.12, NNZs: 96, Bias: -75790822418.448761, T: 75812625, Avg. loss: 103454959918287195133721111805590794928128.000000\n",
            "Total training time: 59.55 seconds.\n",
            "-- Epoch 190\n",
            "Norm: 690524206888283.12, NNZs: 96, Bias: -70331158269.556549, T: 76213750, Avg. loss: 103138360071401886943238071315565216006144.000000\n",
            "Total training time: 59.84 seconds.\n",
            "-- Epoch 191\n",
            "Norm: 641668176706086.00, NNZs: 96, Bias: -106374037486.167633, T: 76614875, Avg. loss: 103254185623247864281464080599426155937792.000000\n",
            "Total training time: 60.08 seconds.\n",
            "-- Epoch 192\n",
            "Norm: 793175882724477.25, NNZs: 96, Bias: -96426902183.574249, T: 77016000, Avg. loss: 102819708446244249867666628535114774085632.000000\n",
            "Total training time: 60.34 seconds.\n",
            "-- Epoch 193\n",
            "Norm: 556186966429876.69, NNZs: 96, Bias: -63235397982.662064, T: 77417125, Avg. loss: 102314896089714625601978368780655940075520.000000\n",
            "Total training time: 60.64 seconds.\n",
            "-- Epoch 194\n",
            "Norm: 657580193627352.25, NNZs: 96, Bias: -75914475282.347015, T: 77818250, Avg. loss: 102326295210457131557570318130589279977472.000000\n",
            "Total training time: 61.01 seconds.\n",
            "-- Epoch 195\n",
            "Norm: 728850875435173.12, NNZs: 96, Bias: -58782921240.349495, T: 78219375, Avg. loss: 101669184090508503741807799970917892751360.000000\n",
            "Total training time: 61.36 seconds.\n",
            "-- Epoch 196\n",
            "Norm: 561342147000273.31, NNZs: 96, Bias: -30834849348.092991, T: 78620500, Avg. loss: 101680804901141552488984533978346126573568.000000\n",
            "Total training time: 61.68 seconds.\n",
            "-- Epoch 197\n",
            "Norm: 764661430234230.75, NNZs: 96, Bias: -15449842692.417995, T: 79021625, Avg. loss: 101508910061910236708655883300279685218304.000000\n",
            "Total training time: 61.97 seconds.\n",
            "-- Epoch 198\n",
            "Norm: 581450338543843.62, NNZs: 96, Bias: -12792458621.328632, T: 79422750, Avg. loss: 101133075526165164022449684944462662336512.000000\n",
            "Total training time: 62.26 seconds.\n",
            "-- Epoch 199\n",
            "Norm: 474011722648547.69, NNZs: 96, Bias: -39574387413.546127, T: 79823875, Avg. loss: 100928870895376533802672496363934903697408.000000\n",
            "Total training time: 62.55 seconds.\n",
            "-- Epoch 200\n",
            "Norm: 504251795022971.31, NNZs: 96, Bias: -46451920944.037170, T: 80225000, Avg. loss: 100706912623046636722426468922872196759552.000000\n",
            "Total training time: 62.81 seconds.\n",
            "-- Epoch 201\n",
            "Norm: 587902433214850.12, NNZs: 96, Bias: -85638972749.061874, T: 80626125, Avg. loss: 100400138767641571246793683046970515521536.000000\n",
            "Total training time: 63.05 seconds.\n",
            "-- Epoch 202\n",
            "Norm: 452975897628710.94, NNZs: 96, Bias: -83835200253.579224, T: 81027250, Avg. loss: 100539876878280306765878282236482748940288.000000\n",
            "Total training time: 63.29 seconds.\n",
            "-- Epoch 203\n",
            "Norm: 416553105560138.31, NNZs: 96, Bias: -116387659776.102737, T: 81428375, Avg. loss: 99582083440260323625890571751465731227648.000000\n",
            "Total training time: 63.57 seconds.\n",
            "-- Epoch 204\n",
            "Norm: 380758358443434.44, NNZs: 96, Bias: -111437177382.649170, T: 81829500, Avg. loss: 99480192418954979678349847149337106186240.000000\n",
            "Total training time: 63.83 seconds.\n",
            "-- Epoch 205\n",
            "Norm: 444988932074397.56, NNZs: 96, Bias: -88845841038.294312, T: 82230625, Avg. loss: 99144911670120653195075106596327128039424.000000\n",
            "Total training time: 64.15 seconds.\n",
            "-- Epoch 206\n",
            "Norm: 466331058031527.00, NNZs: 96, Bias: -74045680029.105484, T: 82631750, Avg. loss: 99187907065884419423496558461338681081856.000000\n",
            "Total training time: 64.42 seconds.\n",
            "-- Epoch 207\n",
            "Norm: 634763209538398.75, NNZs: 96, Bias: -85896323651.607819, T: 83032875, Avg. loss: 98746377507344565814290223210479738683392.000000\n",
            "Total training time: 64.68 seconds.\n",
            "-- Epoch 208\n",
            "Norm: 584557540458471.38, NNZs: 96, Bias: -68834657892.678986, T: 83434000, Avg. loss: 98646646668930072020136043579309098532864.000000\n",
            "Total training time: 64.93 seconds.\n",
            "-- Epoch 209\n",
            "Norm: 607170098853025.00, NNZs: 96, Bias: -36946767410.249832, T: 83835125, Avg. loss: 98377311191753474429262328962808140529664.000000\n",
            "Total training time: 65.19 seconds.\n",
            "-- Epoch 210\n",
            "Norm: 463646975624988.88, NNZs: 96, Bias: -77152209833.246353, T: 84236250, Avg. loss: 97930722910670406296026377683547946221568.000000\n",
            "Total training time: 65.45 seconds.\n",
            "-- Epoch 211\n",
            "Norm: 429125412736220.25, NNZs: 96, Bias: -63907995791.274979, T: 84637375, Avg. loss: 97756304883258547658502167683649173979136.000000\n",
            "Total training time: 65.72 seconds.\n",
            "-- Epoch 212\n",
            "Norm: 434577328538818.31, NNZs: 96, Bias: -52135064228.392403, T: 85038500, Avg. loss: 97780537238093990582481986570360161566720.000000\n",
            "Total training time: 65.98 seconds.\n",
            "-- Epoch 213\n",
            "Norm: 560333017916791.00, NNZs: 96, Bias: -22673147112.663055, T: 85439625, Avg. loss: 97757882081602407978172092310564978556928.000000\n",
            "Total training time: 66.23 seconds.\n",
            "-- Epoch 214\n",
            "Norm: 429385001805354.25, NNZs: 96, Bias: -51254683846.620712, T: 85840750, Avg. loss: 97075514335070292992227400345872041508864.000000\n",
            "Total training time: 66.48 seconds.\n",
            "-- Epoch 215\n",
            "Norm: 485593073214257.44, NNZs: 96, Bias: -25601263601.019447, T: 86241875, Avg. loss: 97399194329338732162761699804832587579392.000000\n",
            "Total training time: 66.74 seconds.\n",
            "-- Epoch 216\n",
            "Norm: 529642182385139.69, NNZs: 96, Bias: -17404020778.847038, T: 86643000, Avg. loss: 96617429304513940565705558445759385305088.000000\n",
            "Total training time: 67.11 seconds.\n",
            "-- Epoch 217\n",
            "Norm: 444112941456940.00, NNZs: 96, Bias: -18749426673.674416, T: 87044125, Avg. loss: 96878357096325661256742539755605161148416.000000\n",
            "Total training time: 67.47 seconds.\n",
            "-- Epoch 218\n",
            "Norm: 443500106342888.00, NNZs: 96, Bias: -42445060419.848930, T: 87445250, Avg. loss: 96052544829790198790707848450706042257408.000000\n",
            "Total training time: 67.81 seconds.\n",
            "-- Epoch 219\n",
            "Norm: 551887089810442.44, NNZs: 96, Bias: -37797357332.115295, T: 87846375, Avg. loss: 96143858460124171167870305350626840674304.000000\n",
            "Total training time: 68.06 seconds.\n",
            "-- Epoch 220\n",
            "Norm: 763256151875157.75, NNZs: 96, Bias: -30252805720.854801, T: 88247500, Avg. loss: 96024936893448890966199543040863769722880.000000\n",
            "Total training time: 68.32 seconds.\n",
            "-- Epoch 221\n",
            "Norm: 434953833541021.88, NNZs: 96, Bias: -5608120986.245514, T: 88648625, Avg. loss: 95837010761969233354906029903648827375616.000000\n",
            "Total training time: 68.58 seconds.\n",
            "-- Epoch 222\n",
            "Norm: 590439890990545.38, NNZs: 96, Bias: -1173615772.218543, T: 89049750, Avg. loss: 95460973942723618308761116967147233345536.000000\n",
            "Total training time: 68.85 seconds.\n",
            "-- Epoch 223\n",
            "Norm: 461719420907304.75, NNZs: 96, Bias: -12800018102.728025, T: 89450875, Avg. loss: 95353496861462508915582782629178255605760.000000\n",
            "Total training time: 69.20 seconds.\n",
            "-- Epoch 224\n",
            "Norm: 465920420859763.06, NNZs: 96, Bias: -55656511491.596390, T: 89852000, Avg. loss: 95061535175207946281444177476037426282496.000000\n",
            "Total training time: 69.54 seconds.\n",
            "-- Epoch 225\n",
            "Norm: 342485140515764.50, NNZs: 96, Bias: -61098145419.862099, T: 90253125, Avg. loss: 94634077697798884153713760284301796048896.000000\n",
            "Total training time: 69.89 seconds.\n",
            "-- Epoch 226\n",
            "Norm: 502673566995132.88, NNZs: 96, Bias: -72475767886.909744, T: 90654250, Avg. loss: 94195489612404357703052750116901556846592.000000\n",
            "Total training time: 70.26 seconds.\n",
            "-- Epoch 227\n",
            "Norm: 439680393850065.38, NNZs: 96, Bias: -17875523730.928932, T: 91055375, Avg. loss: 94103876687287346477656221112019428835328.000000\n",
            "Total training time: 70.63 seconds.\n",
            "-- Epoch 228\n",
            "Norm: 326147103915403.88, NNZs: 96, Bias: -34139230852.067017, T: 91456500, Avg. loss: 94178067765710014198987810700322731458560.000000\n",
            "Total training time: 70.99 seconds.\n",
            "-- Epoch 229\n",
            "Norm: 425310004853883.31, NNZs: 96, Bias: -40775126000.531418, T: 91857625, Avg. loss: 94154498391235993664719704700853103362048.000000\n",
            "Total training time: 71.36 seconds.\n",
            "-- Epoch 230\n",
            "Norm: 478056945743396.81, NNZs: 96, Bias: -15560366451.873566, T: 92258750, Avg. loss: 93634128156773625899307201332415408635904.000000\n",
            "Total training time: 71.72 seconds.\n",
            "-- Epoch 231\n",
            "Norm: 572759172408445.50, NNZs: 96, Bias: -3837731229.598899, T: 92659875, Avg. loss: 93385375165971872543076945021815081664512.000000\n",
            "Total training time: 72.07 seconds.\n",
            "-- Epoch 232\n",
            "Norm: 810967738195914.50, NNZs: 96, Bias: -16156200299.597788, T: 93061000, Avg. loss: 93417743191218251971343592704460973932544.000000\n",
            "Total training time: 72.42 seconds.\n",
            "-- Epoch 233\n",
            "Norm: 516549636205785.06, NNZs: 96, Bias: -72023502953.979233, T: 93462125, Avg. loss: 93249936060689252081321141103358482841600.000000\n",
            "Total training time: 72.78 seconds.\n",
            "-- Epoch 234\n",
            "Norm: 497122338984332.50, NNZs: 96, Bias: -99776086334.812286, T: 93863250, Avg. loss: 92635700768159635968475900900709932990464.000000\n",
            "Total training time: 73.05 seconds.\n",
            "-- Epoch 235\n",
            "Norm: 300286971587957.69, NNZs: 96, Bias: -144159614352.479736, T: 94264375, Avg. loss: 92827890908376628304875810034713790251008.000000\n",
            "Total training time: 73.31 seconds.\n",
            "-- Epoch 236\n",
            "Norm: 412931546437343.25, NNZs: 96, Bias: -147909253549.205139, T: 94665500, Avg. loss: 92679376804523609575683745589513791995904.000000\n",
            "Total training time: 73.60 seconds.\n",
            "-- Epoch 237\n",
            "Norm: 364730468177877.75, NNZs: 96, Bias: -176177802101.452850, T: 95066625, Avg. loss: 92193115311354555539570507159474825854976.000000\n",
            "Total training time: 73.90 seconds.\n",
            "-- Epoch 238\n",
            "Norm: 323065462075702.75, NNZs: 96, Bias: -188018385018.097961, T: 95467750, Avg. loss: 92339250639716220669047186077725088546816.000000\n",
            "Total training time: 74.26 seconds.\n",
            "-- Epoch 239\n",
            "Norm: 516476774607318.50, NNZs: 96, Bias: -188321361600.940704, T: 95868875, Avg. loss: 91921284145623928088091498667729812979712.000000\n",
            "Total training time: 74.62 seconds.\n",
            "-- Epoch 240\n",
            "Norm: 520716294078111.50, NNZs: 96, Bias: -178929477214.010620, T: 96270000, Avg. loss: 91543652739541843343174866203441178345472.000000\n",
            "Total training time: 74.96 seconds.\n",
            "-- Epoch 241\n",
            "Norm: 414059734902660.06, NNZs: 96, Bias: -194575339184.344879, T: 96671125, Avg. loss: 91617387402113444684092899502443452170240.000000\n",
            "Total training time: 75.22 seconds.\n",
            "-- Epoch 242\n",
            "Norm: 498446043662721.12, NNZs: 96, Bias: -197298720407.952057, T: 97072250, Avg. loss: 91516209758442659563017337102052116922368.000000\n",
            "Total training time: 75.48 seconds.\n",
            "-- Epoch 243\n",
            "Norm: 327693679479771.88, NNZs: 96, Bias: -187336339284.169342, T: 97473375, Avg. loss: 91641373481686826941007126863368259895296.000000\n",
            "Total training time: 75.71 seconds.\n",
            "-- Epoch 244\n",
            "Norm: 264774262201362.91, NNZs: 96, Bias: -198104392852.254517, T: 97874500, Avg. loss: 91076184284165864333831628045307296612352.000000\n",
            "Total training time: 76.00 seconds.\n",
            "-- Epoch 245\n",
            "Norm: 398985637397147.62, NNZs: 96, Bias: -187752138526.448090, T: 98275625, Avg. loss: 90797779559236936137072416857682381635584.000000\n",
            "Total training time: 76.35 seconds.\n",
            "-- Epoch 246\n",
            "Norm: 534869511883226.62, NNZs: 96, Bias: -177809607335.197296, T: 98676750, Avg. loss: 90960208240187708281428919991100321562624.000000\n",
            "Total training time: 76.70 seconds.\n",
            "-- Epoch 247\n",
            "Norm: 392716032388628.88, NNZs: 96, Bias: -161670274250.216400, T: 99077875, Avg. loss: 90009955087965282027696555164168966111232.000000\n",
            "Total training time: 77.07 seconds.\n",
            "-- Epoch 248\n",
            "Norm: 370486707589448.44, NNZs: 96, Bias: -191429590943.958069, T: 99479000, Avg. loss: 90215419956819848751160330023546524794880.000000\n",
            "Total training time: 77.45 seconds.\n",
            "-- Epoch 249\n",
            "Norm: 489933840472363.88, NNZs: 96, Bias: -231359755668.355743, T: 99880125, Avg. loss: 89847392106768036349882817077222569934848.000000\n",
            "Total training time: 77.81 seconds.\n",
            "-- Epoch 250\n",
            "Norm: 599173458054051.38, NNZs: 96, Bias: -238271300134.362518, T: 100281250, Avg. loss: 89994919694981940426385371747136617578496.000000\n",
            "Total training time: 78.11 seconds.\n",
            "-- Epoch 251\n",
            "Norm: 486500523804113.06, NNZs: 96, Bias: -247359393874.954010, T: 100682375, Avg. loss: 89867500694425445557296487792086855188480.000000\n",
            "Total training time: 78.37 seconds.\n",
            "-- Epoch 252\n",
            "Norm: 540580042295937.75, NNZs: 96, Bias: -195769490345.731720, T: 101083500, Avg. loss: 89584622587403265281386565795088414277632.000000\n",
            "Total training time: 78.65 seconds.\n",
            "-- Epoch 253\n",
            "Norm: 501941726281669.25, NNZs: 96, Bias: -191285846499.511139, T: 101484625, Avg. loss: 89367351217951019319248737543373547634688.000000\n",
            "Total training time: 78.91 seconds.\n",
            "-- Epoch 254\n",
            "Norm: 365276603965305.56, NNZs: 96, Bias: -198952681612.687988, T: 101885750, Avg. loss: 89168596301575504668371514298746550616064.000000\n",
            "Total training time: 79.26 seconds.\n",
            "-- Epoch 255\n",
            "Norm: 542484161478250.88, NNZs: 96, Bias: -200841125570.697601, T: 102286875, Avg. loss: 89567555772009577622317775449283417341952.000000\n",
            "Total training time: 79.64 seconds.\n",
            "-- Epoch 256\n",
            "Norm: 384469429191647.19, NNZs: 96, Bias: -169728284574.590607, T: 102688000, Avg. loss: 89000372558373738698500157569037410238464.000000\n",
            "Total training time: 80.02 seconds.\n",
            "-- Epoch 257\n",
            "Norm: 646883162404399.50, NNZs: 96, Bias: -164667531316.725586, T: 103089125, Avg. loss: 88961963619289979329966709662410864590848.000000\n",
            "Total training time: 80.36 seconds.\n",
            "-- Epoch 258\n",
            "Norm: 322921372255800.62, NNZs: 96, Bias: -152064571917.891876, T: 103490250, Avg. loss: 88432448420501819821212275290676102430720.000000\n",
            "Total training time: 80.72 seconds.\n",
            "-- Epoch 259\n",
            "Norm: 393982079131925.00, NNZs: 96, Bias: -170398296779.013184, T: 103891375, Avg. loss: 88682027547651564761820168654894395293696.000000\n",
            "Total training time: 81.07 seconds.\n",
            "-- Epoch 260\n",
            "Norm: 326499321689707.88, NNZs: 96, Bias: -197429741114.974518, T: 104292500, Avg. loss: 87820979822598675371007555434069209645056.000000\n",
            "Total training time: 81.37 seconds.\n",
            "-- Epoch 261\n",
            "Norm: 493020368587870.38, NNZs: 96, Bias: -193371804048.524353, T: 104693625, Avg. loss: 87756359347252477231670354848960657489920.000000\n",
            "Total training time: 81.65 seconds.\n",
            "-- Epoch 262\n",
            "Norm: 519792394780262.62, NNZs: 96, Bias: -168769299909.047516, T: 105094750, Avg. loss: 88153871632974769650311063454916584407040.000000\n",
            "Total training time: 81.91 seconds.\n",
            "-- Epoch 263\n",
            "Norm: 244163702986678.81, NNZs: 96, Bias: -155641045000.022278, T: 105495875, Avg. loss: 87733532987947836769923198545776766615552.000000\n",
            "Total training time: 82.21 seconds.\n",
            "-- Epoch 264\n",
            "Norm: 244371772876123.19, NNZs: 96, Bias: -132266943210.931610, T: 105897000, Avg. loss: 87109188311663774982270609115234518958080.000000\n",
            "Total training time: 82.57 seconds.\n",
            "-- Epoch 265\n",
            "Norm: 252665440231954.19, NNZs: 96, Bias: -134923946342.544632, T: 106298125, Avg. loss: 87356087612453201431928555075381957230592.000000\n",
            "Total training time: 82.94 seconds.\n",
            "-- Epoch 266\n",
            "Norm: 473013259299761.19, NNZs: 96, Bias: -123802396700.347656, T: 106699250, Avg. loss: 87159014101186845863278424510283290509312.000000\n",
            "Total training time: 83.29 seconds.\n",
            "-- Epoch 267\n",
            "Norm: 244093196801949.53, NNZs: 96, Bias: -143368650032.980255, T: 107100375, Avg. loss: 87119379455175465529001471001169804394496.000000\n",
            "Total training time: 83.65 seconds.\n",
            "-- Epoch 268\n",
            "Norm: 479695609793695.19, NNZs: 96, Bias: -128723503550.889465, T: 107501500, Avg. loss: 86962229010254607719001917206521005998080.000000\n",
            "Total training time: 84.00 seconds.\n",
            "-- Epoch 269\n",
            "Norm: 263647514604749.53, NNZs: 96, Bias: -135501212948.703949, T: 107902625, Avg. loss: 86656116363872253637759944157234615812096.000000\n",
            "Total training time: 84.34 seconds.\n",
            "-- Epoch 270\n",
            "Norm: 477564063385868.94, NNZs: 96, Bias: -143440336341.678925, T: 108303750, Avg. loss: 86614470612770978131679552370994642419712.000000\n",
            "Total training time: 84.67 seconds.\n",
            "-- Epoch 271\n",
            "Norm: 510465961685325.00, NNZs: 96, Bias: -156477010306.833771, T: 108704875, Avg. loss: 86007260345489979628625248689327102230528.000000\n",
            "Total training time: 85.03 seconds.\n",
            "-- Epoch 272\n",
            "Norm: 313469654994752.88, NNZs: 96, Bias: -184176827622.394226, T: 109106000, Avg. loss: 86205214443513454464902976620705735507968.000000\n",
            "Total training time: 85.30 seconds.\n",
            "-- Epoch 273\n",
            "Norm: 486579581510263.50, NNZs: 96, Bias: -198162530498.048798, T: 109507125, Avg. loss: 86401235724356718241532613615974852067328.000000\n",
            "Total training time: 85.55 seconds.\n",
            "-- Epoch 274\n",
            "Norm: 426490114154223.81, NNZs: 96, Bias: -211157821156.318909, T: 109908250, Avg. loss: 86044908439500736691806863509391042150400.000000\n",
            "Total training time: 85.81 seconds.\n",
            "-- Epoch 275\n",
            "Norm: 379435120864896.00, NNZs: 96, Bias: -210074883740.578583, T: 110309375, Avg. loss: 86028234924168572348738435341517930364928.000000\n",
            "Total training time: 86.08 seconds.\n",
            "-- Epoch 276\n",
            "Norm: 421374918648669.69, NNZs: 96, Bias: -196902354348.217133, T: 110710500, Avg. loss: 85597602969891384077791925546849105084416.000000\n",
            "Total training time: 86.36 seconds.\n",
            "-- Epoch 277\n",
            "Norm: 534498652185676.50, NNZs: 96, Bias: -193296877465.683258, T: 111111625, Avg. loss: 85460671184345587299586469204350744920064.000000\n",
            "Total training time: 86.64 seconds.\n",
            "-- Epoch 278\n",
            "Norm: 371925872784987.44, NNZs: 96, Bias: -189111232160.547424, T: 111512750, Avg. loss: 85302385698454184726708483918243257384960.000000\n",
            "Total training time: 86.91 seconds.\n",
            "-- Epoch 279\n",
            "Norm: 420858319166319.31, NNZs: 96, Bias: -154390337951.923859, T: 111913875, Avg. loss: 85082698051441197614560796196049071898624.000000\n",
            "Total training time: 87.18 seconds.\n",
            "-- Epoch 280\n",
            "Norm: 452654579326371.50, NNZs: 96, Bias: -135048386315.170288, T: 112315000, Avg. loss: 84952753508480888153699747653584989192192.000000\n",
            "Total training time: 87.51 seconds.\n",
            "-- Epoch 281\n",
            "Norm: 372640976713328.69, NNZs: 96, Bias: -143110464806.425659, T: 112716125, Avg. loss: 84995826525033828625430762587044561551360.000000\n",
            "Total training time: 87.87 seconds.\n",
            "-- Epoch 282\n",
            "Norm: 619562399813090.50, NNZs: 96, Bias: -121290407497.830368, T: 113117250, Avg. loss: 84778942185910385826195351673447406108672.000000\n",
            "Total training time: 88.24 seconds.\n",
            "-- Epoch 283\n",
            "Norm: 344587220098427.25, NNZs: 96, Bias: -138261103789.222107, T: 113518375, Avg. loss: 84563036170652274338457706637906289885184.000000\n",
            "Total training time: 88.61 seconds.\n",
            "-- Epoch 284\n",
            "Norm: 271885229705828.38, NNZs: 96, Bias: -150555092860.764832, T: 113919500, Avg. loss: 84232578397743757829121026096394307371008.000000\n",
            "Total training time: 88.98 seconds.\n",
            "-- Epoch 285\n",
            "Norm: 336930772381486.00, NNZs: 96, Bias: -153738784164.843689, T: 114320625, Avg. loss: 84282684491878655109890089659301575524352.000000\n",
            "Total training time: 89.32 seconds.\n",
            "-- Epoch 286\n",
            "Norm: 282142884301449.44, NNZs: 96, Bias: -167177786705.277863, T: 114721750, Avg. loss: 84440334564809676789498374620198484312064.000000\n",
            "Total training time: 89.59 seconds.\n",
            "-- Epoch 287\n",
            "Norm: 761461748877962.62, NNZs: 96, Bias: -188510196896.367767, T: 115122875, Avg. loss: 84130388590515995812240880340125060431872.000000\n",
            "Total training time: 89.88 seconds.\n",
            "-- Epoch 288\n",
            "Norm: 447017685271872.25, NNZs: 96, Bias: -164096577047.659973, T: 115524000, Avg. loss: 83676199492140536234891069240962818506752.000000\n",
            "Total training time: 90.16 seconds.\n",
            "-- Epoch 289\n",
            "Norm: 235823358600498.94, NNZs: 96, Bias: -139900691436.216461, T: 115925125, Avg. loss: 83661102312862689667028262877704518369280.000000\n",
            "Total training time: 90.44 seconds.\n",
            "-- Epoch 290\n",
            "Norm: 408175111317690.75, NNZs: 96, Bias: -116866207379.667770, T: 116326250, Avg. loss: 83527386678283145685266611218553457606656.000000\n",
            "Total training time: 90.69 seconds.\n",
            "-- Epoch 291\n",
            "Norm: 620105415665091.25, NNZs: 96, Bias: -87896289336.938019, T: 116727375, Avg. loss: 83269526779111838295486160236203131011072.000000\n",
            "Total training time: 90.97 seconds.\n",
            "-- Epoch 292\n",
            "Norm: 289239201208040.44, NNZs: 96, Bias: -89345185270.986816, T: 117128500, Avg. loss: 83265151128050427605812670361463712382976.000000\n",
            "Total training time: 91.24 seconds.\n",
            "-- Epoch 293\n",
            "Norm: 472448128558770.88, NNZs: 96, Bias: -61573572947.494553, T: 117529625, Avg. loss: 82926436307554048115747445420632458657792.000000\n",
            "Total training time: 91.49 seconds.\n",
            "-- Epoch 294\n",
            "Norm: 440247483522932.00, NNZs: 96, Bias: -74535798770.757446, T: 117930750, Avg. loss: 83035302258891024224732272758424369889280.000000\n",
            "Total training time: 91.76 seconds.\n",
            "-- Epoch 295\n",
            "Norm: 551454466902343.94, NNZs: 96, Bias: -92860321453.863434, T: 118331875, Avg. loss: 83048639659726439414839705249326389264384.000000\n",
            "Total training time: 92.03 seconds.\n",
            "-- Epoch 296\n",
            "Norm: 546175539800764.88, NNZs: 96, Bias: -95445374282.913971, T: 118733000, Avg. loss: 82526380009203160515996321104902129451008.000000\n",
            "Total training time: 92.31 seconds.\n",
            "-- Epoch 297\n",
            "Norm: 707494724900525.50, NNZs: 96, Bias: -103971956523.250778, T: 119134125, Avg. loss: 82641177797732848208832437946249514057728.000000\n",
            "Total training time: 92.57 seconds.\n",
            "-- Epoch 298\n",
            "Norm: 373223419746619.50, NNZs: 96, Bias: -106368828525.500870, T: 119535250, Avg. loss: 82446485186964053257734274220060152168448.000000\n",
            "Total training time: 92.81 seconds.\n",
            "-- Epoch 299\n",
            "Norm: 310225019280630.62, NNZs: 96, Bias: -92507178051.746216, T: 119936375, Avg. loss: 82018155435486181586508565778671333277696.000000\n",
            "Total training time: 93.08 seconds.\n",
            "-- Epoch 300\n",
            "Norm: 418894371883594.94, NNZs: 96, Bias: -74842047540.895905, T: 120337500, Avg. loss: 82083613430940697772596406138507945312256.000000\n",
            "Total training time: 93.34 seconds.\n",
            "-- Epoch 301\n",
            "Norm: 492324177978503.94, NNZs: 96, Bias: -45165385615.992577, T: 120738625, Avg. loss: 82167229636887853028265618890051639312384.000000\n",
            "Total training time: 93.70 seconds.\n",
            "-- Epoch 302\n",
            "Norm: 649624275905973.00, NNZs: 96, Bias: -49454921271.500893, T: 121139750, Avg. loss: 81830536716765165847537928700113748754432.000000\n",
            "Total training time: 94.09 seconds.\n",
            "-- Epoch 303\n",
            "Norm: 401663037736539.56, NNZs: 96, Bias: -32027707134.460167, T: 121540875, Avg. loss: 81540802896471194572699569093756674113536.000000\n",
            "Total training time: 94.40 seconds.\n",
            "-- Epoch 304\n",
            "Norm: 500558924057017.06, NNZs: 96, Bias: -33836666898.567326, T: 121942000, Avg. loss: 81669990254630643087063806006230018686976.000000\n",
            "Total training time: 94.74 seconds.\n",
            "-- Epoch 305\n",
            "Norm: 569531517518056.38, NNZs: 96, Bias: -26894372380.214630, T: 122343125, Avg. loss: 81552495820954706873832222121561889439744.000000\n",
            "Total training time: 95.09 seconds.\n",
            "-- Epoch 306\n",
            "Norm: 310014171128613.50, NNZs: 96, Bias: -42578509209.582405, T: 122744250, Avg. loss: 81382322266209164415815241571479899340800.000000\n",
            "Total training time: 95.45 seconds.\n",
            "-- Epoch 307\n",
            "Norm: 447009301458454.81, NNZs: 96, Bias: -22158874342.018997, T: 123145375, Avg. loss: 81251073293745811169415251954129864491008.000000\n",
            "Total training time: 95.82 seconds.\n",
            "-- Epoch 308\n",
            "Norm: 566807888111915.25, NNZs: 96, Bias: -19778506522.068897, T: 123546500, Avg. loss: 81221970589643542632180905093722007404544.000000\n",
            "Total training time: 96.16 seconds.\n",
            "-- Epoch 309\n",
            "Norm: 517710106260149.88, NNZs: 96, Bias: -11150468381.104261, T: 123947625, Avg. loss: 80913624969479064770091390528393784066048.000000\n",
            "Total training time: 96.46 seconds.\n",
            "-- Epoch 310\n",
            "Norm: 728124253075614.88, NNZs: 96, Bias: -35499732085.967796, T: 124348750, Avg. loss: 80726365706854905917837214454196750778368.000000\n",
            "Total training time: 96.82 seconds.\n",
            "-- Epoch 311\n",
            "Norm: 564771851094934.62, NNZs: 96, Bias: -24246238483.868992, T: 124749875, Avg. loss: 80884849964650611868700965853397130412032.000000\n",
            "Total training time: 97.17 seconds.\n",
            "-- Epoch 312\n",
            "Norm: 626521559218001.38, NNZs: 96, Bias: -10720468518.265055, T: 125151000, Avg. loss: 80459561907948204613958288329827573301248.000000\n",
            "Total training time: 97.49 seconds.\n",
            "-- Epoch 313\n",
            "Norm: 528473044302223.50, NNZs: 96, Bias: 11487169471.704329, T: 125552125, Avg. loss: 80322493223593734729219543407234048327680.000000\n",
            "Total training time: 97.75 seconds.\n",
            "-- Epoch 314\n",
            "Norm: 516699494926149.69, NNZs: 96, Bias: 13845330787.705385, T: 125953250, Avg. loss: 80231234440657120920552362171030441033728.000000\n",
            "Total training time: 98.00 seconds.\n",
            "-- Epoch 315\n",
            "Norm: 561604338415808.69, NNZs: 96, Bias: 4131164386.453220, T: 126354375, Avg. loss: 79826279353751828911772280754583575199744.000000\n",
            "Total training time: 98.27 seconds.\n",
            "-- Epoch 316\n",
            "Norm: 495833050212658.56, NNZs: 96, Bias: -27825314768.604755, T: 126755500, Avg. loss: 80042398778315740205596069419185579491328.000000\n",
            "Total training time: 98.53 seconds.\n",
            "-- Epoch 317\n",
            "Norm: 352710552936032.31, NNZs: 96, Bias: -57311439438.343369, T: 127156625, Avg. loss: 80060446364460908687128487184415108104192.000000\n",
            "Total training time: 98.81 seconds.\n",
            "-- Epoch 318\n",
            "Norm: 405148600653480.56, NNZs: 96, Bias: -34818905664.784760, T: 127557750, Avg. loss: 79638636337085925457561003348724751007744.000000\n",
            "Total training time: 99.07 seconds.\n",
            "-- Epoch 319\n",
            "Norm: 427823018692252.62, NNZs: 96, Bias: -24943029074.241299, T: 127958875, Avg. loss: 79459680666296223049161085959329944698880.000000\n",
            "Total training time: 99.33 seconds.\n",
            "-- Epoch 320\n",
            "Norm: 547595807053256.00, NNZs: 96, Bias: -37818067144.846626, T: 128360000, Avg. loss: 79477478721704413857676283286554075463680.000000\n",
            "Total training time: 99.58 seconds.\n",
            "-- Epoch 321\n",
            "Norm: 448258892707298.31, NNZs: 96, Bias: -45237902727.420914, T: 128761125, Avg. loss: 79653293451963901115238422401796924243968.000000\n",
            "Total training time: 99.81 seconds.\n",
            "-- Epoch 322\n",
            "Norm: 295439358493546.81, NNZs: 96, Bias: -89055861256.927979, T: 129162250, Avg. loss: 79009611154642268683461442070984020459520.000000\n",
            "Total training time: 100.07 seconds.\n",
            "-- Epoch 323\n",
            "Norm: 189855119581413.34, NNZs: 96, Bias: -109967604014.857666, T: 129563375, Avg. loss: 79162996219612691145635165393331148554240.000000\n",
            "Total training time: 100.31 seconds.\n",
            "-- Epoch 324\n",
            "Norm: 254890381322320.12, NNZs: 96, Bias: -95443702434.941193, T: 129964500, Avg. loss: 78993966030495345600875999901298930483200.000000\n",
            "Total training time: 100.56 seconds.\n",
            "-- Epoch 325\n",
            "Norm: 368270421812558.94, NNZs: 96, Bias: -82057327578.562790, T: 130365625, Avg. loss: 78923562756882572576536071908543952846848.000000\n",
            "Total training time: 100.81 seconds.\n",
            "-- Epoch 326\n",
            "Norm: 264891343036614.62, NNZs: 96, Bias: -119194579457.965012, T: 130766750, Avg. loss: 78712097308317211672424045897619920125952.000000\n",
            "Total training time: 101.08 seconds.\n",
            "-- Epoch 327\n",
            "Norm: 674305508829763.38, NNZs: 96, Bias: -124897430473.045044, T: 131167875, Avg. loss: 78804312893270842366884987587237702008832.000000\n",
            "Total training time: 101.33 seconds.\n",
            "-- Epoch 328\n",
            "Norm: 267599895269732.47, NNZs: 96, Bias: -98465977451.193832, T: 131569000, Avg. loss: 78376019170875775256025484688065050968064.000000\n",
            "Total training time: 101.59 seconds.\n",
            "-- Epoch 329\n",
            "Norm: 373518136220395.75, NNZs: 96, Bias: -113305984903.737137, T: 131970125, Avg. loss: 78497792381539305706912215002150885916672.000000\n",
            "Total training time: 101.86 seconds.\n",
            "-- Epoch 330\n",
            "Norm: 335959997089542.62, NNZs: 96, Bias: -105560597604.814590, T: 132371250, Avg. loss: 78189075415676311115622843665843285393408.000000\n",
            "Total training time: 102.12 seconds.\n",
            "-- Epoch 331\n",
            "Norm: 396714698896631.06, NNZs: 96, Bias: -101364280673.076843, T: 132772375, Avg. loss: 78089013130614060663420872154618276085760.000000\n",
            "Total training time: 102.36 seconds.\n",
            "-- Epoch 332\n",
            "Norm: 365406985660681.56, NNZs: 96, Bias: -110206670996.198883, T: 133173500, Avg. loss: 77851367954069386474936515603977641918464.000000\n",
            "Total training time: 102.63 seconds.\n",
            "-- Epoch 333\n",
            "Norm: 314152344239474.38, NNZs: 96, Bias: -104340122358.056091, T: 133574625, Avg. loss: 77986249668074258097001583449397123874816.000000\n",
            "Total training time: 102.88 seconds.\n",
            "-- Epoch 334\n",
            "Norm: 516284680776825.50, NNZs: 96, Bias: -97183133621.825500, T: 133975750, Avg. loss: 77830864931060480094938395542959809363968.000000\n",
            "Total training time: 103.12 seconds.\n",
            "-- Epoch 335\n",
            "Norm: 222575713216061.03, NNZs: 96, Bias: -144109374121.411652, T: 134376875, Avg. loss: 78067177822382928584785019777098341941248.000000\n",
            "Total training time: 103.36 seconds.\n",
            "-- Epoch 336\n",
            "Norm: 280945664838122.09, NNZs: 96, Bias: -121364052824.199127, T: 134778000, Avg. loss: 77524928585699599303082486068958430494720.000000\n",
            "Total training time: 103.60 seconds.\n",
            "-- Epoch 337\n",
            "Norm: 368799953454449.69, NNZs: 96, Bias: -150222175568.650116, T: 135179125, Avg. loss: 77609760923209789120772305348172294651904.000000\n",
            "Total training time: 103.87 seconds.\n",
            "-- Epoch 338\n",
            "Norm: 475154900001570.00, NNZs: 96, Bias: -154763332883.272888, T: 135580250, Avg. loss: 77456507355040705226033117960656193060864.000000\n",
            "Total training time: 104.12 seconds.\n",
            "-- Epoch 339\n",
            "Norm: 400452616809416.56, NNZs: 96, Bias: -163375749227.003052, T: 135981375, Avg. loss: 77461964301902595839790723541121108017152.000000\n",
            "Total training time: 104.37 seconds.\n",
            "-- Epoch 340\n",
            "Norm: 404520726021399.56, NNZs: 96, Bias: -153841470722.618622, T: 136382500, Avg. loss: 77079267600735902956552757227801137905664.000000\n",
            "Total training time: 104.64 seconds.\n",
            "-- Epoch 341\n",
            "Norm: 259115248064262.69, NNZs: 96, Bias: -140979021012.769897, T: 136783625, Avg. loss: 76897053633699075655430607751420181479424.000000\n",
            "Total training time: 104.90 seconds.\n",
            "-- Epoch 342\n",
            "Norm: 490881765156621.44, NNZs: 96, Bias: -171017247326.773254, T: 137184750, Avg. loss: 77118117021455704831199725912587029708800.000000\n",
            "Total training time: 105.16 seconds.\n",
            "-- Epoch 343\n",
            "Norm: 296115916610015.38, NNZs: 96, Bias: -157258778974.492615, T: 137585875, Avg. loss: 76689914971037085474485619051765132427264.000000\n",
            "Total training time: 105.42 seconds.\n",
            "-- Epoch 344\n",
            "Norm: 414669880177456.00, NNZs: 96, Bias: -132060488064.851151, T: 137987000, Avg. loss: 76905223928496325570743254020062237949952.000000\n",
            "Total training time: 105.70 seconds.\n",
            "-- Epoch 345\n",
            "Norm: 564188535993812.50, NNZs: 96, Bias: -132337951178.243744, T: 138388125, Avg. loss: 76787197563996621660773948098923808686080.000000\n",
            "Total training time: 106.06 seconds.\n",
            "-- Epoch 346\n",
            "Norm: 494561790139048.94, NNZs: 96, Bias: -100541732138.431503, T: 138789250, Avg. loss: 76465627969229829526752339969530979680256.000000\n",
            "Total training time: 106.40 seconds.\n",
            "-- Epoch 347\n",
            "Norm: 351266044958061.62, NNZs: 96, Bias: -90868092565.132874, T: 139190375, Avg. loss: 76314111741777448990267132203862193078272.000000\n",
            "Total training time: 106.71 seconds.\n",
            "-- Epoch 348\n",
            "Norm: 185624606866530.97, NNZs: 96, Bias: -102927055508.428299, T: 139591500, Avg. loss: 76120932251005798269583036613126097207296.000000\n",
            "Total training time: 107.04 seconds.\n",
            "-- Epoch 349\n",
            "Norm: 286565851547867.44, NNZs: 96, Bias: -62557007423.883118, T: 139992625, Avg. loss: 75977507350957833822118677972400329457664.000000\n",
            "Total training time: 107.38 seconds.\n",
            "-- Epoch 350\n",
            "Norm: 260758643906808.28, NNZs: 96, Bias: -76061996593.614960, T: 140393750, Avg. loss: 75841514544531050436070748673094191153152.000000\n",
            "Total training time: 107.69 seconds.\n",
            "-- Epoch 351\n",
            "Norm: 228659627768916.44, NNZs: 96, Bias: -62378156746.982140, T: 140794875, Avg. loss: 75920535883384745682869539950641557798912.000000\n",
            "Total training time: 107.96 seconds.\n",
            "-- Epoch 352\n",
            "Norm: 429014756812890.94, NNZs: 96, Bias: -79531490233.107086, T: 141196000, Avg. loss: 75914729985154600538218539832920904826880.000000\n",
            "Total training time: 108.24 seconds.\n",
            "-- Epoch 353\n",
            "Norm: 345676762316391.94, NNZs: 96, Bias: -68802031091.742111, T: 141597125, Avg. loss: 75536695502666415153708654136541300391936.000000\n",
            "Total training time: 108.51 seconds.\n",
            "-- Epoch 354\n",
            "Norm: 622047227237641.62, NNZs: 96, Bias: -72011533010.322906, T: 141998250, Avg. loss: 75227131414430359529064581171099432124416.000000\n",
            "Total training time: 108.75 seconds.\n",
            "-- Epoch 355\n",
            "Norm: 558176926993090.75, NNZs: 96, Bias: -83644298113.624191, T: 142399375, Avg. loss: 75200476671520061252508719899518783455232.000000\n",
            "Total training time: 108.98 seconds.\n",
            "-- Epoch 356\n",
            "Norm: 265006708674707.41, NNZs: 96, Bias: -91969289841.787643, T: 142800500, Avg. loss: 75505935198620811264995505604496694706176.000000\n",
            "Total training time: 109.22 seconds.\n",
            "-- Epoch 357\n",
            "Norm: 487776937516974.19, NNZs: 96, Bias: -110898779900.635925, T: 143201625, Avg. loss: 75197139949536791774717937050218966024192.000000\n",
            "Total training time: 109.47 seconds.\n",
            "-- Epoch 358\n",
            "Norm: 281149653999233.53, NNZs: 96, Bias: -137307720702.178055, T: 143602750, Avg. loss: 75212707513538215331145394621377463451648.000000\n",
            "Total training time: 109.73 seconds.\n",
            "-- Epoch 359\n",
            "Norm: 472008261517325.31, NNZs: 96, Bias: -139225017589.922028, T: 144003875, Avg. loss: 75090852436765634048472412468363770462208.000000\n",
            "Total training time: 110.09 seconds.\n",
            "-- Epoch 360\n",
            "Norm: 398231320297216.94, NNZs: 96, Bias: -132928017616.435791, T: 144405000, Avg. loss: 74862892923692757431629646633607098269696.000000\n",
            "Total training time: 110.43 seconds.\n",
            "-- Epoch 361\n",
            "Norm: 180106630605593.44, NNZs: 96, Bias: -124446508877.651825, T: 144806125, Avg. loss: 74569190682773118308608603595356495675392.000000\n",
            "Total training time: 110.78 seconds.\n",
            "-- Epoch 362\n",
            "Norm: 284370141099373.19, NNZs: 96, Bias: -89179914219.387695, T: 145207250, Avg. loss: 74658286011466861698148535402998158852096.000000\n",
            "Total training time: 111.13 seconds.\n",
            "-- Epoch 363\n",
            "Norm: 212204671175380.91, NNZs: 96, Bias: -106209703892.940430, T: 145608375, Avg. loss: 74923313742567774312494019323854782988288.000000\n",
            "Total training time: 111.48 seconds.\n",
            "-- Epoch 364\n",
            "Norm: 581141728645678.25, NNZs: 96, Bias: -122126808102.082474, T: 146009500, Avg. loss: 74764580608287513662690568229676887572480.000000\n",
            "Total training time: 111.83 seconds.\n",
            "-- Epoch 365\n",
            "Norm: 276379971066726.53, NNZs: 96, Bias: -83843485438.795456, T: 146410625, Avg. loss: 74576676238399033148809282432790782017536.000000\n",
            "Total training time: 112.19 seconds.\n",
            "-- Epoch 366\n",
            "Norm: 358550644320847.69, NNZs: 96, Bias: -83397168929.286606, T: 146811750, Avg. loss: 74539554137221005960353885653707039703040.000000\n",
            "Total training time: 112.53 seconds.\n",
            "-- Epoch 367\n",
            "Norm: 272214805588101.47, NNZs: 96, Bias: -84034084200.193207, T: 147212875, Avg. loss: 74235522022206465669910917583627375083520.000000\n",
            "Total training time: 112.88 seconds.\n",
            "-- Epoch 368\n",
            "Norm: 428583197701456.44, NNZs: 96, Bias: -96283426254.544907, T: 147614000, Avg. loss: 74170502212938486543171004301054419402752.000000\n",
            "Total training time: 113.23 seconds.\n",
            "-- Epoch 369\n",
            "Norm: 220863915955204.84, NNZs: 96, Bias: -72612808643.566879, T: 148015125, Avg. loss: 74150728372789911446781590130587418492928.000000\n",
            "Total training time: 113.59 seconds.\n",
            "-- Epoch 370\n",
            "Norm: 327180852451573.69, NNZs: 96, Bias: -79223973670.544189, T: 148416250, Avg. loss: 74212455697175168050594722459531014569984.000000\n",
            "Total training time: 113.89 seconds.\n",
            "-- Epoch 371\n",
            "Norm: 279472791989983.41, NNZs: 96, Bias: -80764412320.940704, T: 148817375, Avg. loss: 73864925552909738613318254558923785764864.000000\n",
            "Total training time: 114.13 seconds.\n",
            "-- Epoch 372\n",
            "Norm: 514497380911670.56, NNZs: 96, Bias: -58410202391.321976, T: 149218500, Avg. loss: 73654057514409532398422666233859023044608.000000\n",
            "Total training time: 114.36 seconds.\n",
            "-- Epoch 373\n",
            "Norm: 624305795943915.00, NNZs: 96, Bias: -72433058375.808853, T: 149619625, Avg. loss: 73508735763848627024858301708668722216960.000000\n",
            "Total training time: 114.60 seconds.\n",
            "-- Epoch 374\n",
            "Norm: 432080398403596.25, NNZs: 96, Bias: -99098340278.943848, T: 150020750, Avg. loss: 73484982798017063322135938688858776928256.000000\n",
            "Total training time: 114.86 seconds.\n",
            "-- Epoch 375\n",
            "Norm: 291825236955879.94, NNZs: 96, Bias: -94483945582.017746, T: 150421875, Avg. loss: 73350150087263497232176197028547380903936.000000\n",
            "Total training time: 115.11 seconds.\n",
            "-- Epoch 376\n",
            "Norm: 329984869483911.19, NNZs: 96, Bias: -85905486173.338699, T: 150823000, Avg. loss: 73345986123253817067349656884095179816960.000000\n",
            "Total training time: 115.36 seconds.\n",
            "-- Epoch 377\n",
            "Norm: 272853061864524.22, NNZs: 96, Bias: -100793100679.310791, T: 151224125, Avg. loss: 73121096106887643343312684535310637334528.000000\n",
            "Total training time: 115.59 seconds.\n",
            "-- Epoch 378\n",
            "Norm: 400423029731016.44, NNZs: 96, Bias: -106477827078.637222, T: 151625250, Avg. loss: 73208631191654904154790081793685970747392.000000\n",
            "Total training time: 115.86 seconds.\n",
            "-- Epoch 379\n",
            "Norm: 299158273679756.12, NNZs: 96, Bias: -117918474011.071213, T: 152026375, Avg. loss: 72982302275348996049609325957500589047808.000000\n",
            "Total training time: 116.22 seconds.\n",
            "-- Epoch 380\n",
            "Norm: 216630110213373.91, NNZs: 96, Bias: -142677014522.477356, T: 152427500, Avg. loss: 73266053217535293177424672513673519955968.000000\n",
            "Total training time: 116.57 seconds.\n",
            "-- Epoch 381\n",
            "Norm: 566170022596447.38, NNZs: 96, Bias: -136106555524.053833, T: 152828625, Avg. loss: 72681146903027589724541761063300001431552.000000\n",
            "Total training time: 116.90 seconds.\n",
            "-- Epoch 382\n",
            "Norm: 545210310032448.00, NNZs: 96, Bias: -136201287624.809998, T: 153229750, Avg. loss: 72798770860409403572398197305498562199552.000000\n",
            "Total training time: 117.15 seconds.\n",
            "-- Epoch 383\n",
            "Norm: 435937294581553.81, NNZs: 96, Bias: -158933483415.625549, T: 153630875, Avg. loss: 72464205766544906366258430446392947245056.000000\n",
            "Total training time: 117.39 seconds.\n",
            "-- Epoch 384\n",
            "Norm: 370746844401513.69, NNZs: 96, Bias: -123468311415.773453, T: 154032000, Avg. loss: 72227897475877606519705177141292008734720.000000\n",
            "Total training time: 117.64 seconds.\n",
            "-- Epoch 385\n",
            "Norm: 347222777411295.12, NNZs: 96, Bias: -130197136762.495239, T: 154433125, Avg. loss: 72455073343827458151335053129674804690944.000000\n",
            "Total training time: 117.90 seconds.\n",
            "-- Epoch 386\n",
            "Norm: 264930063809620.31, NNZs: 96, Bias: -106612544820.290665, T: 154834250, Avg. loss: 72398740651008475031997782608279320395776.000000\n",
            "Total training time: 118.14 seconds.\n",
            "-- Epoch 387\n",
            "Norm: 254865797303556.44, NNZs: 96, Bias: -89137263238.407333, T: 155235375, Avg. loss: 72244723909072458186240456251458631761920.000000\n",
            "Total training time: 118.39 seconds.\n",
            "-- Epoch 388\n",
            "Norm: 99236454514430.80, NNZs: 96, Bias: -89765224169.907333, T: 155636500, Avg. loss: 72345477678113205936954014259877272092672.000000\n",
            "Total training time: 118.65 seconds.\n",
            "-- Epoch 389\n",
            "Norm: 222403652134849.56, NNZs: 96, Bias: -110796828112.813995, T: 156037625, Avg. loss: 72275085138987437624387493798216158150656.000000\n",
            "Total training time: 118.90 seconds.\n",
            "Convergence after 389 epochs took 118.90 seconds\n"
          ]
        },
        {
          "data": {
            "text/plain": [
              "SGDRegressor(random_state=42, verbose=True)"
            ]
          },
          "execution_count": 77,
          "metadata": {},
          "output_type": "execute_result"
        }
      ],
      "source": [
        "from sklearn.linear_model import SGDRegressor\n",
        "sgd_model = SGDRegressor(random_state=42, verbose=True)\n",
        "sgd_model.fit(X_train, y_train)"
      ]
    },
    {
      "cell_type": "markdown",
      "metadata": {
        "id": "NioX3pmHS3cK"
      },
      "source": [
        "# Trying XGBoost"
      ]
    },
    {
      "cell_type": "code",
      "execution_count": null,
      "metadata": {
        "colab": {
          "background_save": true
        },
        "id": "cDo4W69ATRwH"
      },
      "outputs": [],
      "source": [
        "from xgboost import XGBRegressor"
      ]
    },
    {
      "cell_type": "code",
      "execution_count": null,
      "metadata": {
        "colab": {
          "background_save": true
        },
        "id": "zQALZdQoTT20",
        "outputId": "8183f172-8f99-42ff-fd4c-1b5db0c6156d"
      },
      "outputs": [
        {
          "data": {
            "text/plain": [
              "XGBRegressor(gamma=5, n_jobs=-1, n_repeaters=3, n_splits=10,\n",
              "             objective='reg:squarederror', random_state=42, verbose=True)"
            ]
          },
          "execution_count": 79,
          "metadata": {},
          "output_type": "execute_result"
        }
      ],
      "source": [
        "xgb_model = XGBRegressor(n_jobs=-1,\n",
        "                         objective='reg:squarederror',\n",
        "                         n_splits=10,\n",
        "                         n_repeaters=3,\n",
        "                         gamma=5,\n",
        "                         verbose=True, \n",
        "                         random_state=42)\n",
        "xgb_model.fit(X_train, y_train)"
      ]
    },
    {
      "cell_type": "code",
      "execution_count": null,
      "metadata": {
        "colab": {
          "background_save": true
        },
        "id": "LSIHBg3OTdRU",
        "outputId": "d686ce52-453e-41ed-f1ff-12a6ce1b584b"
      },
      "outputs": [
        {
          "data": {
            "text/plain": [
              "0.6143179967040104"
            ]
          },
          "execution_count": 80,
          "metadata": {},
          "output_type": "execute_result"
        }
      ],
      "source": [
        "xgb_model.score(X_valid, y_valid)"
      ]
    },
    {
      "cell_type": "code",
      "execution_count": null,
      "metadata": {
        "colab": {
          "background_save": true
        },
        "id": "fY9y3PzJUk9T"
      },
      "outputs": [],
      "source": [
        "%%time\n",
        "\n",
        "sgb_grid = {'objective':['reg:squarederror', 'reg:squaredlogerror'],\n",
        "            'gamma':[0, 4, 8, 12],\n",
        "            'eta':np.arange(0, 1, 10),\n",
        "            'max_depth':[5, 8, 10, 12, 15],\n",
        "            'max_child_weight':[3, 6, 9],\n",
        "            'max_samples':[10000]}\n",
        "\n",
        "r_xgb_model = RandomizedSearchCV(XGBRegressor(),\n",
        "                                 n_jobs=-1,\n",
        "                                 param_distributions=sgb_grid,\n",
        "                                 cv=5,\n",
        "                                 verbose=5,\n",
        "                                 n_iter=5,\n",
        "                                 random_state=42)\n",
        "r_xgb_model.fit(X_train, y_train)"
      ]
    },
    {
      "cell_type": "code",
      "execution_count": null,
      "metadata": {
        "id": "wGkZG82PXUTB"
      },
      "outputs": [],
      "source": [
        "r_xgb_model.best_params_"
      ]
    },
    {
      "cell_type": "code",
      "execution_count": null,
      "metadata": {
        "id": "sq6CUGYOhBzj"
      },
      "outputs": [],
      "source": []
    }
  ],
  "metadata": {
    "colab": {
      "provenance": []
    },
    "gpuClass": "standard",
    "kernelspec": {
      "display_name": "Python 3",
      "name": "python3"
    },
    "language_info": {
      "name": "python"
    }
  },
  "nbformat": 4,
  "nbformat_minor": 0
}